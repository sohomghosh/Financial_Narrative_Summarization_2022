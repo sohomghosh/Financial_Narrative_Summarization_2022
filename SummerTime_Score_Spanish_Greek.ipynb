{
  "nbformat": 4,
  "nbformat_minor": 0,
  "metadata": {
    "colab": {
      "name": "SummerTime_Score_Spanish_Greek.ipynb",
      "provenance": [],
      "collapsed_sections": [],
      "authorship_tag": "ABX9TyP1OcuIThcP6xDaafoS2GJL",
      "include_colab_link": true
    },
    "kernelspec": {
      "name": "python3",
      "display_name": "Python 3"
    },
    "language_info": {
      "name": "python"
    },
    "accelerator": "GPU",
    "widgets": {
      "application/vnd.jupyter.widget-state+json": {
        "6ea2328f0d1f4ba19be9fbc324fc0782": {
          "model_module": "@jupyter-widgets/controls",
          "model_name": "HBoxModel",
          "model_module_version": "1.5.0",
          "state": {
            "_dom_classes": [],
            "_model_module": "@jupyter-widgets/controls",
            "_model_module_version": "1.5.0",
            "_model_name": "HBoxModel",
            "_view_count": null,
            "_view_module": "@jupyter-widgets/controls",
            "_view_module_version": "1.5.0",
            "_view_name": "HBoxView",
            "box_style": "",
            "children": [
              "IPY_MODEL_3589e3f736c64e5aa709dd52d4c65092",
              "IPY_MODEL_cc1be3c288504be7a065def144177f15"
            ],
            "layout": "IPY_MODEL_663f5dd1fc1a441c8a8179dba079bf3b"
          }
        },
        "3589e3f736c64e5aa709dd52d4c65092": {
          "model_module": "@jupyter-widgets/controls",
          "model_name": "FloatProgressModel",
          "model_module_version": "1.5.0",
          "state": {
            "_dom_classes": [],
            "_model_module": "@jupyter-widgets/controls",
            "_model_module_version": "1.5.0",
            "_model_name": "FloatProgressModel",
            "_view_count": null,
            "_view_module": "@jupyter-widgets/controls",
            "_view_module_version": "1.5.0",
            "_view_name": "ProgressView",
            "bar_style": "success",
            "description": "Downloading: 100%",
            "description_tooltip": null,
            "layout": "IPY_MODEL_7d74d29c90c742708ac7c9ee8e77035c",
            "max": 4309802,
            "min": 0,
            "orientation": "horizontal",
            "style": "IPY_MODEL_80452796444e421dbe70494415f6163e",
            "value": 4309802
          }
        },
        "cc1be3c288504be7a065def144177f15": {
          "model_module": "@jupyter-widgets/controls",
          "model_name": "HTMLModel",
          "model_module_version": "1.5.0",
          "state": {
            "_dom_classes": [],
            "_model_module": "@jupyter-widgets/controls",
            "_model_module_version": "1.5.0",
            "_model_name": "HTMLModel",
            "_view_count": null,
            "_view_module": "@jupyter-widgets/controls",
            "_view_module_version": "1.5.0",
            "_view_name": "HTMLView",
            "description": "",
            "description_tooltip": null,
            "layout": "IPY_MODEL_081302812d2845d9b7e31290054778ea",
            "placeholder": "​",
            "style": "IPY_MODEL_cbe19b889979451d813ca75a1ece8d3b",
            "value": " 4.31M/4.31M [00:03&lt;00:00, 1.21MB/s]"
          }
        },
        "663f5dd1fc1a441c8a8179dba079bf3b": {
          "model_module": "@jupyter-widgets/base",
          "model_name": "LayoutModel",
          "model_module_version": "1.2.0",
          "state": {
            "_model_module": "@jupyter-widgets/base",
            "_model_module_version": "1.2.0",
            "_model_name": "LayoutModel",
            "_view_count": null,
            "_view_module": "@jupyter-widgets/base",
            "_view_module_version": "1.2.0",
            "_view_name": "LayoutView",
            "align_content": null,
            "align_items": null,
            "align_self": null,
            "border": null,
            "bottom": null,
            "display": null,
            "flex": null,
            "flex_flow": null,
            "grid_area": null,
            "grid_auto_columns": null,
            "grid_auto_flow": null,
            "grid_auto_rows": null,
            "grid_column": null,
            "grid_gap": null,
            "grid_row": null,
            "grid_template_areas": null,
            "grid_template_columns": null,
            "grid_template_rows": null,
            "height": null,
            "justify_content": null,
            "justify_items": null,
            "left": null,
            "margin": null,
            "max_height": null,
            "max_width": null,
            "min_height": null,
            "min_width": null,
            "object_fit": null,
            "object_position": null,
            "order": null,
            "overflow": null,
            "overflow_x": null,
            "overflow_y": null,
            "padding": null,
            "right": null,
            "top": null,
            "visibility": null,
            "width": null
          }
        },
        "7d74d29c90c742708ac7c9ee8e77035c": {
          "model_module": "@jupyter-widgets/base",
          "model_name": "LayoutModel",
          "model_module_version": "1.2.0",
          "state": {
            "_model_module": "@jupyter-widgets/base",
            "_model_module_version": "1.2.0",
            "_model_name": "LayoutModel",
            "_view_count": null,
            "_view_module": "@jupyter-widgets/base",
            "_view_module_version": "1.2.0",
            "_view_name": "LayoutView",
            "align_content": null,
            "align_items": null,
            "align_self": null,
            "border": null,
            "bottom": null,
            "display": null,
            "flex": null,
            "flex_flow": null,
            "grid_area": null,
            "grid_auto_columns": null,
            "grid_auto_flow": null,
            "grid_auto_rows": null,
            "grid_column": null,
            "grid_gap": null,
            "grid_row": null,
            "grid_template_areas": null,
            "grid_template_columns": null,
            "grid_template_rows": null,
            "height": null,
            "justify_content": null,
            "justify_items": null,
            "left": null,
            "margin": null,
            "max_height": null,
            "max_width": null,
            "min_height": null,
            "min_width": null,
            "object_fit": null,
            "object_position": null,
            "order": null,
            "overflow": null,
            "overflow_x": null,
            "overflow_y": null,
            "padding": null,
            "right": null,
            "top": null,
            "visibility": null,
            "width": null
          }
        },
        "80452796444e421dbe70494415f6163e": {
          "model_module": "@jupyter-widgets/controls",
          "model_name": "ProgressStyleModel",
          "model_module_version": "1.5.0",
          "state": {
            "_model_module": "@jupyter-widgets/controls",
            "_model_module_version": "1.5.0",
            "_model_name": "ProgressStyleModel",
            "_view_count": null,
            "_view_module": "@jupyter-widgets/base",
            "_view_module_version": "1.2.0",
            "_view_name": "StyleView",
            "bar_color": null,
            "description_width": "initial"
          }
        },
        "081302812d2845d9b7e31290054778ea": {
          "model_module": "@jupyter-widgets/base",
          "model_name": "LayoutModel",
          "model_module_version": "1.2.0",
          "state": {
            "_model_module": "@jupyter-widgets/base",
            "_model_module_version": "1.2.0",
            "_model_name": "LayoutModel",
            "_view_count": null,
            "_view_module": "@jupyter-widgets/base",
            "_view_module_version": "1.2.0",
            "_view_name": "LayoutView",
            "align_content": null,
            "align_items": null,
            "align_self": null,
            "border": null,
            "bottom": null,
            "display": null,
            "flex": null,
            "flex_flow": null,
            "grid_area": null,
            "grid_auto_columns": null,
            "grid_auto_flow": null,
            "grid_auto_rows": null,
            "grid_column": null,
            "grid_gap": null,
            "grid_row": null,
            "grid_template_areas": null,
            "grid_template_columns": null,
            "grid_template_rows": null,
            "height": null,
            "justify_content": null,
            "justify_items": null,
            "left": null,
            "margin": null,
            "max_height": null,
            "max_width": null,
            "min_height": null,
            "min_width": null,
            "object_fit": null,
            "object_position": null,
            "order": null,
            "overflow": null,
            "overflow_x": null,
            "overflow_y": null,
            "padding": null,
            "right": null,
            "top": null,
            "visibility": null,
            "width": null
          }
        },
        "cbe19b889979451d813ca75a1ece8d3b": {
          "model_module": "@jupyter-widgets/controls",
          "model_name": "DescriptionStyleModel",
          "model_module_version": "1.5.0",
          "state": {
            "_model_module": "@jupyter-widgets/controls",
            "_model_module_version": "1.5.0",
            "_model_name": "DescriptionStyleModel",
            "_view_count": null,
            "_view_module": "@jupyter-widgets/base",
            "_view_module_version": "1.2.0",
            "_view_name": "StyleView",
            "description_width": ""
          }
        },
        "b8b3322eccd94bbc8c7f123be9ae8ddf": {
          "model_module": "@jupyter-widgets/controls",
          "model_name": "HBoxModel",
          "model_module_version": "1.5.0",
          "state": {
            "_dom_classes": [],
            "_model_module": "@jupyter-widgets/controls",
            "_model_module_version": "1.5.0",
            "_model_name": "HBoxModel",
            "_view_count": null,
            "_view_module": "@jupyter-widgets/controls",
            "_view_module_version": "1.5.0",
            "_view_name": "HBoxView",
            "box_style": "",
            "children": [
              "IPY_MODEL_3a0d27da492b443c9e7416741efb68be",
              "IPY_MODEL_5d29dbaa3b71422c9e762a9f29515888"
            ],
            "layout": "IPY_MODEL_013542b45b004a798858c4e14a426365"
          }
        },
        "3a0d27da492b443c9e7416741efb68be": {
          "model_module": "@jupyter-widgets/controls",
          "model_name": "FloatProgressModel",
          "model_module_version": "1.5.0",
          "state": {
            "_dom_classes": [],
            "_model_module": "@jupyter-widgets/controls",
            "_model_module_version": "1.5.0",
            "_model_name": "FloatProgressModel",
            "_view_count": null,
            "_view_module": "@jupyter-widgets/controls",
            "_view_module_version": "1.5.0",
            "_view_name": "ProgressView",
            "bar_style": "success",
            "description": "Downloading: 100%",
            "description_tooltip": null,
            "layout": "IPY_MODEL_b79db5ed70014645b5c93863e8be99a0",
            "max": 65,
            "min": 0,
            "orientation": "horizontal",
            "style": "IPY_MODEL_0e12a9bfefaa44f7a73cdd0853c7ba37",
            "value": 65
          }
        },
        "5d29dbaa3b71422c9e762a9f29515888": {
          "model_module": "@jupyter-widgets/controls",
          "model_name": "HTMLModel",
          "model_module_version": "1.5.0",
          "state": {
            "_dom_classes": [],
            "_model_module": "@jupyter-widgets/controls",
            "_model_module_version": "1.5.0",
            "_model_name": "HTMLModel",
            "_view_count": null,
            "_view_module": "@jupyter-widgets/controls",
            "_view_module_version": "1.5.0",
            "_view_name": "HTMLView",
            "description": "",
            "description_tooltip": null,
            "layout": "IPY_MODEL_e0db0ec3f37a46a5af59ae0896105224",
            "placeholder": "​",
            "style": "IPY_MODEL_7c838fbf5e074f0f9f6f64e52f0915b6",
            "value": " 65.0/65.0 [00:01&lt;00:00, 58.7B/s]"
          }
        },
        "013542b45b004a798858c4e14a426365": {
          "model_module": "@jupyter-widgets/base",
          "model_name": "LayoutModel",
          "model_module_version": "1.2.0",
          "state": {
            "_model_module": "@jupyter-widgets/base",
            "_model_module_version": "1.2.0",
            "_model_name": "LayoutModel",
            "_view_count": null,
            "_view_module": "@jupyter-widgets/base",
            "_view_module_version": "1.2.0",
            "_view_name": "LayoutView",
            "align_content": null,
            "align_items": null,
            "align_self": null,
            "border": null,
            "bottom": null,
            "display": null,
            "flex": null,
            "flex_flow": null,
            "grid_area": null,
            "grid_auto_columns": null,
            "grid_auto_flow": null,
            "grid_auto_rows": null,
            "grid_column": null,
            "grid_gap": null,
            "grid_row": null,
            "grid_template_areas": null,
            "grid_template_columns": null,
            "grid_template_rows": null,
            "height": null,
            "justify_content": null,
            "justify_items": null,
            "left": null,
            "margin": null,
            "max_height": null,
            "max_width": null,
            "min_height": null,
            "min_width": null,
            "object_fit": null,
            "object_position": null,
            "order": null,
            "overflow": null,
            "overflow_x": null,
            "overflow_y": null,
            "padding": null,
            "right": null,
            "top": null,
            "visibility": null,
            "width": null
          }
        },
        "b79db5ed70014645b5c93863e8be99a0": {
          "model_module": "@jupyter-widgets/base",
          "model_name": "LayoutModel",
          "model_module_version": "1.2.0",
          "state": {
            "_model_module": "@jupyter-widgets/base",
            "_model_module_version": "1.2.0",
            "_model_name": "LayoutModel",
            "_view_count": null,
            "_view_module": "@jupyter-widgets/base",
            "_view_module_version": "1.2.0",
            "_view_name": "LayoutView",
            "align_content": null,
            "align_items": null,
            "align_self": null,
            "border": null,
            "bottom": null,
            "display": null,
            "flex": null,
            "flex_flow": null,
            "grid_area": null,
            "grid_auto_columns": null,
            "grid_auto_flow": null,
            "grid_auto_rows": null,
            "grid_column": null,
            "grid_gap": null,
            "grid_row": null,
            "grid_template_areas": null,
            "grid_template_columns": null,
            "grid_template_rows": null,
            "height": null,
            "justify_content": null,
            "justify_items": null,
            "left": null,
            "margin": null,
            "max_height": null,
            "max_width": null,
            "min_height": null,
            "min_width": null,
            "object_fit": null,
            "object_position": null,
            "order": null,
            "overflow": null,
            "overflow_x": null,
            "overflow_y": null,
            "padding": null,
            "right": null,
            "top": null,
            "visibility": null,
            "width": null
          }
        },
        "0e12a9bfefaa44f7a73cdd0853c7ba37": {
          "model_module": "@jupyter-widgets/controls",
          "model_name": "ProgressStyleModel",
          "model_module_version": "1.5.0",
          "state": {
            "_model_module": "@jupyter-widgets/controls",
            "_model_module_version": "1.5.0",
            "_model_name": "ProgressStyleModel",
            "_view_count": null,
            "_view_module": "@jupyter-widgets/base",
            "_view_module_version": "1.2.0",
            "_view_name": "StyleView",
            "bar_color": null,
            "description_width": "initial"
          }
        },
        "e0db0ec3f37a46a5af59ae0896105224": {
          "model_module": "@jupyter-widgets/base",
          "model_name": "LayoutModel",
          "model_module_version": "1.2.0",
          "state": {
            "_model_module": "@jupyter-widgets/base",
            "_model_module_version": "1.2.0",
            "_model_name": "LayoutModel",
            "_view_count": null,
            "_view_module": "@jupyter-widgets/base",
            "_view_module_version": "1.2.0",
            "_view_name": "LayoutView",
            "align_content": null,
            "align_items": null,
            "align_self": null,
            "border": null,
            "bottom": null,
            "display": null,
            "flex": null,
            "flex_flow": null,
            "grid_area": null,
            "grid_auto_columns": null,
            "grid_auto_flow": null,
            "grid_auto_rows": null,
            "grid_column": null,
            "grid_gap": null,
            "grid_row": null,
            "grid_template_areas": null,
            "grid_template_columns": null,
            "grid_template_rows": null,
            "height": null,
            "justify_content": null,
            "justify_items": null,
            "left": null,
            "margin": null,
            "max_height": null,
            "max_width": null,
            "min_height": null,
            "min_width": null,
            "object_fit": null,
            "object_position": null,
            "order": null,
            "overflow": null,
            "overflow_x": null,
            "overflow_y": null,
            "padding": null,
            "right": null,
            "top": null,
            "visibility": null,
            "width": null
          }
        },
        "7c838fbf5e074f0f9f6f64e52f0915b6": {
          "model_module": "@jupyter-widgets/controls",
          "model_name": "DescriptionStyleModel",
          "model_module_version": "1.5.0",
          "state": {
            "_model_module": "@jupyter-widgets/controls",
            "_model_module_version": "1.5.0",
            "_model_name": "DescriptionStyleModel",
            "_view_count": null,
            "_view_module": "@jupyter-widgets/base",
            "_view_module_version": "1.2.0",
            "_view_name": "StyleView",
            "description_width": ""
          }
        },
        "02fad30524ef447a894c1d68e94a2b85": {
          "model_module": "@jupyter-widgets/controls",
          "model_name": "HBoxModel",
          "model_module_version": "1.5.0",
          "state": {
            "_dom_classes": [],
            "_model_module": "@jupyter-widgets/controls",
            "_model_module_version": "1.5.0",
            "_model_name": "HBoxModel",
            "_view_count": null,
            "_view_module": "@jupyter-widgets/controls",
            "_view_module_version": "1.5.0",
            "_view_name": "HBoxView",
            "box_style": "",
            "children": [
              "IPY_MODEL_a4673c844e5545b393be73e13efe78e4",
              "IPY_MODEL_e2d646dd63f44ccaa4f6f9f3b2b677da"
            ],
            "layout": "IPY_MODEL_8c2ee05a7c5b471a9ac53c70a0f205f9"
          }
        },
        "a4673c844e5545b393be73e13efe78e4": {
          "model_module": "@jupyter-widgets/controls",
          "model_name": "FloatProgressModel",
          "model_module_version": "1.5.0",
          "state": {
            "_dom_classes": [],
            "_model_module": "@jupyter-widgets/controls",
            "_model_module_version": "1.5.0",
            "_model_name": "FloatProgressModel",
            "_view_count": null,
            "_view_module": "@jupyter-widgets/controls",
            "_view_module_version": "1.5.0",
            "_view_name": "ProgressView",
            "bar_style": "success",
            "description": "Downloading: 100%",
            "description_tooltip": null,
            "layout": "IPY_MODEL_72324b51515342a29bb3463eb4bf59e5",
            "max": 375,
            "min": 0,
            "orientation": "horizontal",
            "style": "IPY_MODEL_60ffa6119be44dea99cac32748f3f98d",
            "value": 375
          }
        },
        "e2d646dd63f44ccaa4f6f9f3b2b677da": {
          "model_module": "@jupyter-widgets/controls",
          "model_name": "HTMLModel",
          "model_module_version": "1.5.0",
          "state": {
            "_dom_classes": [],
            "_model_module": "@jupyter-widgets/controls",
            "_model_module_version": "1.5.0",
            "_model_name": "HTMLModel",
            "_view_count": null,
            "_view_module": "@jupyter-widgets/controls",
            "_view_module_version": "1.5.0",
            "_view_name": "HTMLView",
            "description": "",
            "description_tooltip": null,
            "layout": "IPY_MODEL_349177e034154ed78eb260e37d8bbf62",
            "placeholder": "​",
            "style": "IPY_MODEL_2488c3152bc6478cbe01e11d4448cdd8",
            "value": " 375/375 [00:03&lt;00:00, 94.2B/s]"
          }
        },
        "8c2ee05a7c5b471a9ac53c70a0f205f9": {
          "model_module": "@jupyter-widgets/base",
          "model_name": "LayoutModel",
          "model_module_version": "1.2.0",
          "state": {
            "_model_module": "@jupyter-widgets/base",
            "_model_module_version": "1.2.0",
            "_model_name": "LayoutModel",
            "_view_count": null,
            "_view_module": "@jupyter-widgets/base",
            "_view_module_version": "1.2.0",
            "_view_name": "LayoutView",
            "align_content": null,
            "align_items": null,
            "align_self": null,
            "border": null,
            "bottom": null,
            "display": null,
            "flex": null,
            "flex_flow": null,
            "grid_area": null,
            "grid_auto_columns": null,
            "grid_auto_flow": null,
            "grid_auto_rows": null,
            "grid_column": null,
            "grid_gap": null,
            "grid_row": null,
            "grid_template_areas": null,
            "grid_template_columns": null,
            "grid_template_rows": null,
            "height": null,
            "justify_content": null,
            "justify_items": null,
            "left": null,
            "margin": null,
            "max_height": null,
            "max_width": null,
            "min_height": null,
            "min_width": null,
            "object_fit": null,
            "object_position": null,
            "order": null,
            "overflow": null,
            "overflow_x": null,
            "overflow_y": null,
            "padding": null,
            "right": null,
            "top": null,
            "visibility": null,
            "width": null
          }
        },
        "72324b51515342a29bb3463eb4bf59e5": {
          "model_module": "@jupyter-widgets/base",
          "model_name": "LayoutModel",
          "model_module_version": "1.2.0",
          "state": {
            "_model_module": "@jupyter-widgets/base",
            "_model_module_version": "1.2.0",
            "_model_name": "LayoutModel",
            "_view_count": null,
            "_view_module": "@jupyter-widgets/base",
            "_view_module_version": "1.2.0",
            "_view_name": "LayoutView",
            "align_content": null,
            "align_items": null,
            "align_self": null,
            "border": null,
            "bottom": null,
            "display": null,
            "flex": null,
            "flex_flow": null,
            "grid_area": null,
            "grid_auto_columns": null,
            "grid_auto_flow": null,
            "grid_auto_rows": null,
            "grid_column": null,
            "grid_gap": null,
            "grid_row": null,
            "grid_template_areas": null,
            "grid_template_columns": null,
            "grid_template_rows": null,
            "height": null,
            "justify_content": null,
            "justify_items": null,
            "left": null,
            "margin": null,
            "max_height": null,
            "max_width": null,
            "min_height": null,
            "min_width": null,
            "object_fit": null,
            "object_position": null,
            "order": null,
            "overflow": null,
            "overflow_x": null,
            "overflow_y": null,
            "padding": null,
            "right": null,
            "top": null,
            "visibility": null,
            "width": null
          }
        },
        "60ffa6119be44dea99cac32748f3f98d": {
          "model_module": "@jupyter-widgets/controls",
          "model_name": "ProgressStyleModel",
          "model_module_version": "1.5.0",
          "state": {
            "_model_module": "@jupyter-widgets/controls",
            "_model_module_version": "1.5.0",
            "_model_name": "ProgressStyleModel",
            "_view_count": null,
            "_view_module": "@jupyter-widgets/base",
            "_view_module_version": "1.2.0",
            "_view_name": "StyleView",
            "bar_color": null,
            "description_width": "initial"
          }
        },
        "349177e034154ed78eb260e37d8bbf62": {
          "model_module": "@jupyter-widgets/base",
          "model_name": "LayoutModel",
          "model_module_version": "1.2.0",
          "state": {
            "_model_module": "@jupyter-widgets/base",
            "_model_module_version": "1.2.0",
            "_model_name": "LayoutModel",
            "_view_count": null,
            "_view_module": "@jupyter-widgets/base",
            "_view_module_version": "1.2.0",
            "_view_name": "LayoutView",
            "align_content": null,
            "align_items": null,
            "align_self": null,
            "border": null,
            "bottom": null,
            "display": null,
            "flex": null,
            "flex_flow": null,
            "grid_area": null,
            "grid_auto_columns": null,
            "grid_auto_flow": null,
            "grid_auto_rows": null,
            "grid_column": null,
            "grid_gap": null,
            "grid_row": null,
            "grid_template_areas": null,
            "grid_template_columns": null,
            "grid_template_rows": null,
            "height": null,
            "justify_content": null,
            "justify_items": null,
            "left": null,
            "margin": null,
            "max_height": null,
            "max_width": null,
            "min_height": null,
            "min_width": null,
            "object_fit": null,
            "object_position": null,
            "order": null,
            "overflow": null,
            "overflow_x": null,
            "overflow_y": null,
            "padding": null,
            "right": null,
            "top": null,
            "visibility": null,
            "width": null
          }
        },
        "2488c3152bc6478cbe01e11d4448cdd8": {
          "model_module": "@jupyter-widgets/controls",
          "model_name": "DescriptionStyleModel",
          "model_module_version": "1.5.0",
          "state": {
            "_model_module": "@jupyter-widgets/controls",
            "_model_module_version": "1.5.0",
            "_model_name": "DescriptionStyleModel",
            "_view_count": null,
            "_view_module": "@jupyter-widgets/base",
            "_view_module_version": "1.2.0",
            "_view_name": "StyleView",
            "description_width": ""
          }
        },
        "f8baf9dde778422f81c3dfd4a6632bb4": {
          "model_module": "@jupyter-widgets/controls",
          "model_name": "HBoxModel",
          "model_module_version": "1.5.0",
          "state": {
            "_dom_classes": [],
            "_model_module": "@jupyter-widgets/controls",
            "_model_module_version": "1.5.0",
            "_model_name": "HBoxModel",
            "_view_count": null,
            "_view_module": "@jupyter-widgets/controls",
            "_view_module_version": "1.5.0",
            "_view_name": "HBoxView",
            "box_style": "",
            "children": [
              "IPY_MODEL_d02f95d4647c4af7bb731760f7f666cf",
              "IPY_MODEL_4d84badbfc7c43bea2aa2ec908eb2ef5"
            ],
            "layout": "IPY_MODEL_1bc5565cfe9a452f8a9a0f537e2c05c2"
          }
        },
        "d02f95d4647c4af7bb731760f7f666cf": {
          "model_module": "@jupyter-widgets/controls",
          "model_name": "FloatProgressModel",
          "model_module_version": "1.5.0",
          "state": {
            "_dom_classes": [],
            "_model_module": "@jupyter-widgets/controls",
            "_model_module_version": "1.5.0",
            "_model_name": "FloatProgressModel",
            "_view_count": null,
            "_view_module": "@jupyter-widgets/controls",
            "_view_module_version": "1.5.0",
            "_view_name": "ProgressView",
            "bar_style": "success",
            "description": "Downloading: 100%",
            "description_tooltip": null,
            "layout": "IPY_MODEL_8f1893e012634501956021387574d6cb",
            "max": 730,
            "min": 0,
            "orientation": "horizontal",
            "style": "IPY_MODEL_3d203e64420345c1a8780e0aaff5a908",
            "value": 730
          }
        },
        "4d84badbfc7c43bea2aa2ec908eb2ef5": {
          "model_module": "@jupyter-widgets/controls",
          "model_name": "HTMLModel",
          "model_module_version": "1.5.0",
          "state": {
            "_dom_classes": [],
            "_model_module": "@jupyter-widgets/controls",
            "_model_module_version": "1.5.0",
            "_model_name": "HTMLModel",
            "_view_count": null,
            "_view_module": "@jupyter-widgets/controls",
            "_view_module_version": "1.5.0",
            "_view_name": "HTMLView",
            "description": "",
            "description_tooltip": null,
            "layout": "IPY_MODEL_5a4c9c45358e4c3db24585f5abd5164c",
            "placeholder": "​",
            "style": "IPY_MODEL_70888cb25b6742bab5f685c46abf4d0d",
            "value": " 730/730 [00:01&lt;00:00, 594B/s]"
          }
        },
        "1bc5565cfe9a452f8a9a0f537e2c05c2": {
          "model_module": "@jupyter-widgets/base",
          "model_name": "LayoutModel",
          "model_module_version": "1.2.0",
          "state": {
            "_model_module": "@jupyter-widgets/base",
            "_model_module_version": "1.2.0",
            "_model_name": "LayoutModel",
            "_view_count": null,
            "_view_module": "@jupyter-widgets/base",
            "_view_module_version": "1.2.0",
            "_view_name": "LayoutView",
            "align_content": null,
            "align_items": null,
            "align_self": null,
            "border": null,
            "bottom": null,
            "display": null,
            "flex": null,
            "flex_flow": null,
            "grid_area": null,
            "grid_auto_columns": null,
            "grid_auto_flow": null,
            "grid_auto_rows": null,
            "grid_column": null,
            "grid_gap": null,
            "grid_row": null,
            "grid_template_areas": null,
            "grid_template_columns": null,
            "grid_template_rows": null,
            "height": null,
            "justify_content": null,
            "justify_items": null,
            "left": null,
            "margin": null,
            "max_height": null,
            "max_width": null,
            "min_height": null,
            "min_width": null,
            "object_fit": null,
            "object_position": null,
            "order": null,
            "overflow": null,
            "overflow_x": null,
            "overflow_y": null,
            "padding": null,
            "right": null,
            "top": null,
            "visibility": null,
            "width": null
          }
        },
        "8f1893e012634501956021387574d6cb": {
          "model_module": "@jupyter-widgets/base",
          "model_name": "LayoutModel",
          "model_module_version": "1.2.0",
          "state": {
            "_model_module": "@jupyter-widgets/base",
            "_model_module_version": "1.2.0",
            "_model_name": "LayoutModel",
            "_view_count": null,
            "_view_module": "@jupyter-widgets/base",
            "_view_module_version": "1.2.0",
            "_view_name": "LayoutView",
            "align_content": null,
            "align_items": null,
            "align_self": null,
            "border": null,
            "bottom": null,
            "display": null,
            "flex": null,
            "flex_flow": null,
            "grid_area": null,
            "grid_auto_columns": null,
            "grid_auto_flow": null,
            "grid_auto_rows": null,
            "grid_column": null,
            "grid_gap": null,
            "grid_row": null,
            "grid_template_areas": null,
            "grid_template_columns": null,
            "grid_template_rows": null,
            "height": null,
            "justify_content": null,
            "justify_items": null,
            "left": null,
            "margin": null,
            "max_height": null,
            "max_width": null,
            "min_height": null,
            "min_width": null,
            "object_fit": null,
            "object_position": null,
            "order": null,
            "overflow": null,
            "overflow_x": null,
            "overflow_y": null,
            "padding": null,
            "right": null,
            "top": null,
            "visibility": null,
            "width": null
          }
        },
        "3d203e64420345c1a8780e0aaff5a908": {
          "model_module": "@jupyter-widgets/controls",
          "model_name": "ProgressStyleModel",
          "model_module_version": "1.5.0",
          "state": {
            "_model_module": "@jupyter-widgets/controls",
            "_model_module_version": "1.5.0",
            "_model_name": "ProgressStyleModel",
            "_view_count": null,
            "_view_module": "@jupyter-widgets/base",
            "_view_module_version": "1.2.0",
            "_view_name": "StyleView",
            "bar_color": null,
            "description_width": "initial"
          }
        },
        "5a4c9c45358e4c3db24585f5abd5164c": {
          "model_module": "@jupyter-widgets/base",
          "model_name": "LayoutModel",
          "model_module_version": "1.2.0",
          "state": {
            "_model_module": "@jupyter-widgets/base",
            "_model_module_version": "1.2.0",
            "_model_name": "LayoutModel",
            "_view_count": null,
            "_view_module": "@jupyter-widgets/base",
            "_view_module_version": "1.2.0",
            "_view_name": "LayoutView",
            "align_content": null,
            "align_items": null,
            "align_self": null,
            "border": null,
            "bottom": null,
            "display": null,
            "flex": null,
            "flex_flow": null,
            "grid_area": null,
            "grid_auto_columns": null,
            "grid_auto_flow": null,
            "grid_auto_rows": null,
            "grid_column": null,
            "grid_gap": null,
            "grid_row": null,
            "grid_template_areas": null,
            "grid_template_columns": null,
            "grid_template_rows": null,
            "height": null,
            "justify_content": null,
            "justify_items": null,
            "left": null,
            "margin": null,
            "max_height": null,
            "max_width": null,
            "min_height": null,
            "min_width": null,
            "object_fit": null,
            "object_position": null,
            "order": null,
            "overflow": null,
            "overflow_x": null,
            "overflow_y": null,
            "padding": null,
            "right": null,
            "top": null,
            "visibility": null,
            "width": null
          }
        },
        "70888cb25b6742bab5f685c46abf4d0d": {
          "model_module": "@jupyter-widgets/controls",
          "model_name": "DescriptionStyleModel",
          "model_module_version": "1.5.0",
          "state": {
            "_model_module": "@jupyter-widgets/controls",
            "_model_module_version": "1.5.0",
            "_model_name": "DescriptionStyleModel",
            "_view_count": null,
            "_view_module": "@jupyter-widgets/base",
            "_view_module_version": "1.2.0",
            "_view_name": "StyleView",
            "description_width": ""
          }
        },
        "c7af48e051cc4f2cb2f12e7c5b23af9d": {
          "model_module": "@jupyter-widgets/controls",
          "model_name": "HBoxModel",
          "model_module_version": "1.5.0",
          "state": {
            "_dom_classes": [],
            "_model_module": "@jupyter-widgets/controls",
            "_model_module_version": "1.5.0",
            "_model_name": "HBoxModel",
            "_view_count": null,
            "_view_module": "@jupyter-widgets/controls",
            "_view_module_version": "1.5.0",
            "_view_name": "HBoxView",
            "box_style": "",
            "children": [
              "IPY_MODEL_c68518dbb0c04406b1faf93957debb56",
              "IPY_MODEL_8b6d9b34ae6a40cf9de4768371b0f7fe"
            ],
            "layout": "IPY_MODEL_5694b6473e9b48869646450995d463a4"
          }
        },
        "c68518dbb0c04406b1faf93957debb56": {
          "model_module": "@jupyter-widgets/controls",
          "model_name": "FloatProgressModel",
          "model_module_version": "1.5.0",
          "state": {
            "_dom_classes": [],
            "_model_module": "@jupyter-widgets/controls",
            "_model_module_version": "1.5.0",
            "_model_name": "FloatProgressModel",
            "_view_count": null,
            "_view_module": "@jupyter-widgets/controls",
            "_view_module_version": "1.5.0",
            "_view_name": "ProgressView",
            "bar_style": "success",
            "description": "Downloading: 100%",
            "description_tooltip": null,
            "layout": "IPY_MODEL_59e05216f2364c959aec8198a0d8299d",
            "max": 2329707353,
            "min": 0,
            "orientation": "horizontal",
            "style": "IPY_MODEL_bc1138704c434d02b85a8984512784d8",
            "value": 2329707353
          }
        },
        "8b6d9b34ae6a40cf9de4768371b0f7fe": {
          "model_module": "@jupyter-widgets/controls",
          "model_name": "HTMLModel",
          "model_module_version": "1.5.0",
          "state": {
            "_dom_classes": [],
            "_model_module": "@jupyter-widgets/controls",
            "_model_module_version": "1.5.0",
            "_model_name": "HTMLModel",
            "_view_count": null,
            "_view_module": "@jupyter-widgets/controls",
            "_view_module_version": "1.5.0",
            "_view_name": "HTMLView",
            "description": "",
            "description_tooltip": null,
            "layout": "IPY_MODEL_a9b2334cb9444dd18e0bd47faff4a257",
            "placeholder": "​",
            "style": "IPY_MODEL_ae06a27c44b04e9cb888b56310554b59",
            "value": " 2.33G/2.33G [02:32&lt;00:00, 15.3MB/s]"
          }
        },
        "5694b6473e9b48869646450995d463a4": {
          "model_module": "@jupyter-widgets/base",
          "model_name": "LayoutModel",
          "model_module_version": "1.2.0",
          "state": {
            "_model_module": "@jupyter-widgets/base",
            "_model_module_version": "1.2.0",
            "_model_name": "LayoutModel",
            "_view_count": null,
            "_view_module": "@jupyter-widgets/base",
            "_view_module_version": "1.2.0",
            "_view_name": "LayoutView",
            "align_content": null,
            "align_items": null,
            "align_self": null,
            "border": null,
            "bottom": null,
            "display": null,
            "flex": null,
            "flex_flow": null,
            "grid_area": null,
            "grid_auto_columns": null,
            "grid_auto_flow": null,
            "grid_auto_rows": null,
            "grid_column": null,
            "grid_gap": null,
            "grid_row": null,
            "grid_template_areas": null,
            "grid_template_columns": null,
            "grid_template_rows": null,
            "height": null,
            "justify_content": null,
            "justify_items": null,
            "left": null,
            "margin": null,
            "max_height": null,
            "max_width": null,
            "min_height": null,
            "min_width": null,
            "object_fit": null,
            "object_position": null,
            "order": null,
            "overflow": null,
            "overflow_x": null,
            "overflow_y": null,
            "padding": null,
            "right": null,
            "top": null,
            "visibility": null,
            "width": null
          }
        },
        "59e05216f2364c959aec8198a0d8299d": {
          "model_module": "@jupyter-widgets/base",
          "model_name": "LayoutModel",
          "model_module_version": "1.2.0",
          "state": {
            "_model_module": "@jupyter-widgets/base",
            "_model_module_version": "1.2.0",
            "_model_name": "LayoutModel",
            "_view_count": null,
            "_view_module": "@jupyter-widgets/base",
            "_view_module_version": "1.2.0",
            "_view_name": "LayoutView",
            "align_content": null,
            "align_items": null,
            "align_self": null,
            "border": null,
            "bottom": null,
            "display": null,
            "flex": null,
            "flex_flow": null,
            "grid_area": null,
            "grid_auto_columns": null,
            "grid_auto_flow": null,
            "grid_auto_rows": null,
            "grid_column": null,
            "grid_gap": null,
            "grid_row": null,
            "grid_template_areas": null,
            "grid_template_columns": null,
            "grid_template_rows": null,
            "height": null,
            "justify_content": null,
            "justify_items": null,
            "left": null,
            "margin": null,
            "max_height": null,
            "max_width": null,
            "min_height": null,
            "min_width": null,
            "object_fit": null,
            "object_position": null,
            "order": null,
            "overflow": null,
            "overflow_x": null,
            "overflow_y": null,
            "padding": null,
            "right": null,
            "top": null,
            "visibility": null,
            "width": null
          }
        },
        "bc1138704c434d02b85a8984512784d8": {
          "model_module": "@jupyter-widgets/controls",
          "model_name": "ProgressStyleModel",
          "model_module_version": "1.5.0",
          "state": {
            "_model_module": "@jupyter-widgets/controls",
            "_model_module_version": "1.5.0",
            "_model_name": "ProgressStyleModel",
            "_view_count": null,
            "_view_module": "@jupyter-widgets/base",
            "_view_module_version": "1.2.0",
            "_view_name": "StyleView",
            "bar_color": null,
            "description_width": "initial"
          }
        },
        "a9b2334cb9444dd18e0bd47faff4a257": {
          "model_module": "@jupyter-widgets/base",
          "model_name": "LayoutModel",
          "model_module_version": "1.2.0",
          "state": {
            "_model_module": "@jupyter-widgets/base",
            "_model_module_version": "1.2.0",
            "_model_name": "LayoutModel",
            "_view_count": null,
            "_view_module": "@jupyter-widgets/base",
            "_view_module_version": "1.2.0",
            "_view_name": "LayoutView",
            "align_content": null,
            "align_items": null,
            "align_self": null,
            "border": null,
            "bottom": null,
            "display": null,
            "flex": null,
            "flex_flow": null,
            "grid_area": null,
            "grid_auto_columns": null,
            "grid_auto_flow": null,
            "grid_auto_rows": null,
            "grid_column": null,
            "grid_gap": null,
            "grid_row": null,
            "grid_template_areas": null,
            "grid_template_columns": null,
            "grid_template_rows": null,
            "height": null,
            "justify_content": null,
            "justify_items": null,
            "left": null,
            "margin": null,
            "max_height": null,
            "max_width": null,
            "min_height": null,
            "min_width": null,
            "object_fit": null,
            "object_position": null,
            "order": null,
            "overflow": null,
            "overflow_x": null,
            "overflow_y": null,
            "padding": null,
            "right": null,
            "top": null,
            "visibility": null,
            "width": null
          }
        },
        "ae06a27c44b04e9cb888b56310554b59": {
          "model_module": "@jupyter-widgets/controls",
          "model_name": "DescriptionStyleModel",
          "model_module_version": "1.5.0",
          "state": {
            "_model_module": "@jupyter-widgets/controls",
            "_model_module_version": "1.5.0",
            "_model_name": "DescriptionStyleModel",
            "_view_count": null,
            "_view_module": "@jupyter-widgets/base",
            "_view_module_version": "1.2.0",
            "_view_name": "StyleView",
            "description_width": ""
          }
        }
      }
    }
  },
  "cells": [
    {
      "cell_type": "markdown",
      "metadata": {
        "id": "view-in-github",
        "colab_type": "text"
      },
      "source": [
        "<a href=\"https://colab.research.google.com/github/sohomghosh/Financial_Narrative_Summarization_2022/blob/main/SummerTime_Score_Spanish_Greek.ipynb\" target=\"_parent\"><img src=\"https://colab.research.google.com/assets/colab-badge.svg\" alt=\"Open In Colab\"/></a>"
      ]
    },
    {
      "cell_type": "markdown",
      "source": [
        "# Spanish"
      ],
      "metadata": {
        "id": "0ZYBZqagyGuY"
      }
    },
    {
      "cell_type": "code",
      "execution_count": null,
      "metadata": {
        "colab": {
          "base_uri": "https://localhost:8080/"
        },
        "id": "WNsF_FPImpfq",
        "outputId": "44b4dcda-405b-4ec2-bee5-1ec5d9475730"
      },
      "outputs": [
        {
          "output_type": "stream",
          "name": "stdout",
          "text": [
            "fatal: destination path 'SummerTime' already exists and is not an empty directory.\n",
            "/content/SummerTime\n"
          ]
        }
      ],
      "source": [
        "# Download SummerTime \n",
        "# Swith to the Summertime directory\n",
        "\n",
        "!git clone https://github.com/Yale-LILY/SummerTime.git\n",
        "%cd SummerTime/"
      ]
    },
    {
      "cell_type": "code",
      "source": [
        "!pip install -e ."
      ],
      "metadata": {
        "colab": {
          "base_uri": "https://localhost:8080/",
          "height": 1000
        },
        "id": "5D4tpgX7nG0T",
        "outputId": "e36b0b71-828b-4c96-bebc-961b6f9a9f1a"
      },
      "execution_count": null,
      "outputs": [
        {
          "output_type": "stream",
          "name": "stdout",
          "text": [
            "Obtaining file:///content/SummerTime\n",
            "  Installing build dependencies ... \u001b[?25l\u001b[?25hdone\n",
            "  Getting requirements to build wheel ... \u001b[?25l\u001b[?25hdone\n",
            "    Preparing wheel metadata ... \u001b[?25l\u001b[?25hdone\n",
            "Collecting datasets~=1.6.2\n",
            "  Downloading datasets-1.6.2-py3-none-any.whl (221 kB)\n",
            "\u001b[K     |████████████████████████████████| 221 kB 4.2 MB/s \n",
            "\u001b[?25hCollecting orjson\n",
            "  Downloading orjson-3.6.7-cp37-cp37m-manylinux_2_24_x86_64.whl (255 kB)\n",
            "\u001b[K     |████████████████████████████████| 255 kB 47.1 MB/s \n",
            "\u001b[?25hRequirement already satisfied: numpy in /usr/local/lib/python3.7/dist-packages (from summertime==1.2.1) (1.21.5)\n",
            "Collecting easynmt~=2.0.1\n",
            "  Downloading EasyNMT-2.0.1.tar.gz (14 kB)\n",
            "Requirement already satisfied: beautifulsoup4 in /usr/local/lib/python3.7/dist-packages (from summertime==1.2.1) (4.6.3)\n",
            "Collecting sentencepiece~=0.1.95\n",
            "  Downloading sentencepiece-0.1.96-cp37-cp37m-manylinux_2_17_x86_64.manylinux2014_x86_64.whl (1.2 MB)\n",
            "\u001b[K     |████████████████████████████████| 1.2 MB 30.2 MB/s \n",
            "\u001b[?25hCollecting fasttext~=0.9.2\n",
            "  Downloading fasttext-0.9.2.tar.gz (68 kB)\n",
            "\u001b[K     |████████████████████████████████| 68 kB 7.0 MB/s \n",
            "\u001b[?25hRequirement already satisfied: prettytable in /usr/local/lib/python3.7/dist-packages (from summertime==1.2.1) (3.2.0)\n",
            "Requirement already satisfied: gdown~=4.2.0 in /usr/local/lib/python3.7/dist-packages (from summertime==1.2.1) (4.2.2)\n",
            "Collecting tensorboard~=2.4.1\n",
            "  Downloading tensorboard-2.4.1-py3-none-any.whl (10.6 MB)\n",
            "\u001b[K     |████████████████████████████████| 10.6 MB 35.7 MB/s \n",
            "\u001b[?25hCollecting black~=21.12b0\n",
            "  Downloading black-21.12b0-py3-none-any.whl (156 kB)\n",
            "\u001b[K     |████████████████████████████████| 156 kB 55.3 MB/s \n",
            "\u001b[?25hRequirement already satisfied: jupyter in /usr/local/lib/python3.7/dist-packages (from summertime==1.2.1) (1.0.0)\n",
            "Requirement already satisfied: cython in /usr/local/lib/python3.7/dist-packages (from summertime==1.2.1) (0.29.28)\n",
            "Collecting flake8\n",
            "  Downloading flake8-4.0.1-py2.py3-none-any.whl (64 kB)\n",
            "\u001b[K     |████████████████████████████████| 64 kB 2.8 MB/s \n",
            "\u001b[?25hRequirement already satisfied: click==7.1.2 in /usr/local/lib/python3.7/dist-packages (from summertime==1.2.1) (7.1.2)\n",
            "Collecting spacy==3.0.6\n",
            "  Downloading spacy-3.0.6-cp37-cp37m-manylinux2014_x86_64.whl (12.8 MB)\n",
            "\u001b[K     |████████████████████████████████| 12.8 MB 41.6 MB/s \n",
            "\u001b[?25hCollecting nltk==3.6.2\n",
            "  Downloading nltk-3.6.2-py3-none-any.whl (1.5 MB)\n",
            "\u001b[K     |████████████████████████████████| 1.5 MB 40.9 MB/s \n",
            "\u001b[?25hCollecting progressbar\n",
            "  Downloading progressbar-2.5.tar.gz (10 kB)\n",
            "Collecting gensim~=3.8.3\n",
            "  Downloading gensim-3.8.3-cp37-cp37m-manylinux1_x86_64.whl (24.2 MB)\n",
            "\u001b[K     |████████████████████████████████| 24.2 MB 1.5 MB/s \n",
            "\u001b[?25hCollecting tqdm~=4.49.0\n",
            "  Downloading tqdm-4.49.0-py2.py3-none-any.whl (69 kB)\n",
            "\u001b[K     |████████████████████████████████| 69 kB 7.2 MB/s \n",
            "\u001b[?25hCollecting lexrank~=0.1.0\n",
            "  Downloading lexrank-0.1.0-py3-none-any.whl (69 kB)\n",
            "\u001b[K     |████████████████████████████████| 69 kB 825 kB/s \n",
            "\u001b[?25hCollecting pytextrank\n",
            "  Downloading pytextrank-3.2.3-py3-none-any.whl (30 kB)\n",
            "Collecting transformers~=4.5.1\n",
            "  Downloading transformers-4.5.1-py3-none-any.whl (2.1 MB)\n",
            "\u001b[K     |████████████████████████████████| 2.1 MB 33.6 MB/s \n",
            "\u001b[?25hRequirement already satisfied: torch~=1.8 in /usr/local/lib/python3.7/dist-packages (from summertime==1.2.1) (1.10.0+cu111)\n",
            "Collecting readability-lxml\n",
            "  Downloading readability_lxml-0.8.1-py3-none-any.whl (20 kB)\n",
            "Requirement already satisfied: sklearn in /usr/local/lib/python3.7/dist-packages (from summertime==1.2.1) (0.0)\n",
            "Collecting summ-eval==0.70\n",
            "  Downloading summ_eval-0.70-py3-none-any.whl (62.5 MB)\n",
            "\u001b[K     |████████████████████████████████| 62.5 MB 1.4 MB/s \n",
            "\u001b[?25hCollecting py7zr~=0.16.1\n",
            "  Downloading py7zr-0.16.4-py3-none-any.whl (67 kB)\n",
            "\u001b[K     |████████████████████████████████| 67 kB 5.7 MB/s \n",
            "\u001b[?25hRequirement already satisfied: regex in /usr/local/lib/python3.7/dist-packages (from nltk==3.6.2->summertime==1.2.1) (2019.12.20)\n",
            "Requirement already satisfied: joblib in /usr/local/lib/python3.7/dist-packages (from nltk==3.6.2->summertime==1.2.1) (1.1.0)\n",
            "Collecting srsly<3.0.0,>=2.4.1\n",
            "  Downloading srsly-2.4.2-cp37-cp37m-manylinux_2_17_x86_64.manylinux2014_x86_64.whl (451 kB)\n",
            "\u001b[K     |████████████████████████████████| 451 kB 53.7 MB/s \n",
            "\u001b[?25hRequirement already satisfied: setuptools in /usr/local/lib/python3.7/dist-packages (from spacy==3.0.6->summertime==1.2.1) (57.4.0)\n",
            "Collecting catalogue<2.1.0,>=2.0.3\n",
            "  Downloading catalogue-2.0.7-py3-none-any.whl (17 kB)\n",
            "Collecting pathy>=0.3.5\n",
            "  Downloading pathy-0.6.1-py3-none-any.whl (42 kB)\n",
            "\u001b[K     |████████████████████████████████| 42 kB 1.6 MB/s \n",
            "\u001b[?25hRequirement already satisfied: wasabi<1.1.0,>=0.8.1 in /usr/local/lib/python3.7/dist-packages (from spacy==3.0.6->summertime==1.2.1) (0.9.0)\n",
            "Collecting thinc<8.1.0,>=8.0.3\n",
            "  Downloading thinc-8.0.15-cp37-cp37m-manylinux_2_17_x86_64.manylinux2014_x86_64.whl (653 kB)\n",
            "\u001b[K     |████████████████████████████████| 653 kB 51.7 MB/s \n",
            "\u001b[?25hCollecting typer<0.4.0,>=0.3.0\n",
            "  Downloading typer-0.3.2-py3-none-any.whl (21 kB)\n",
            "Collecting pydantic<1.8.0,>=1.7.1\n",
            "  Downloading pydantic-1.7.4-cp37-cp37m-manylinux2014_x86_64.whl (9.1 MB)\n",
            "\u001b[K     |████████████████████████████████| 9.1 MB 15.8 MB/s \n",
            "\u001b[?25hRequirement already satisfied: blis<0.8.0,>=0.4.0 in /usr/local/lib/python3.7/dist-packages (from spacy==3.0.6->summertime==1.2.1) (0.4.1)\n",
            "Requirement already satisfied: jinja2 in /usr/local/lib/python3.7/dist-packages (from spacy==3.0.6->summertime==1.2.1) (2.11.3)\n",
            "Requirement already satisfied: cymem<2.1.0,>=2.0.2 in /usr/local/lib/python3.7/dist-packages (from spacy==3.0.6->summertime==1.2.1) (2.0.6)\n",
            "Requirement already satisfied: requests<3.0.0,>=2.13.0 in /usr/local/lib/python3.7/dist-packages (from spacy==3.0.6->summertime==1.2.1) (2.23.0)\n",
            "Requirement already satisfied: packaging>=20.0 in /usr/local/lib/python3.7/dist-packages (from spacy==3.0.6->summertime==1.2.1) (21.3)\n",
            "Requirement already satisfied: typing-extensions<4.0.0.0,>=3.7.4 in /usr/local/lib/python3.7/dist-packages (from spacy==3.0.6->summertime==1.2.1) (3.10.0.2)\n",
            "Collecting spacy-legacy<3.1.0,>=3.0.4\n",
            "  Downloading spacy_legacy-3.0.9-py2.py3-none-any.whl (20 kB)\n",
            "Requirement already satisfied: murmurhash<1.1.0,>=0.28.0 in /usr/local/lib/python3.7/dist-packages (from spacy==3.0.6->summertime==1.2.1) (1.0.6)\n",
            "Requirement already satisfied: preshed<3.1.0,>=3.0.2 in /usr/local/lib/python3.7/dist-packages (from spacy==3.0.6->summertime==1.2.1) (3.0.6)\n",
            "Collecting sacrebleu\n",
            "  Downloading sacrebleu-2.0.0-py3-none-any.whl (90 kB)\n",
            "\u001b[K     |████████████████████████████████| 90 kB 10.5 MB/s \n",
            "\u001b[?25hCollecting sacremoses\n",
            "  Downloading sacremoses-0.0.49-py3-none-any.whl (895 kB)\n",
            "\u001b[K     |████████████████████████████████| 895 kB 50.7 MB/s \n",
            "\u001b[?25hCollecting pytorch-pretrained-bert\n",
            "  Downloading pytorch_pretrained_bert-0.6.2-py3-none-any.whl (123 kB)\n",
            "\u001b[K     |████████████████████████████████| 123 kB 53.8 MB/s \n",
            "\u001b[?25hRequirement already satisfied: gin-config in /usr/local/lib/python3.7/dist-packages (from summ-eval==0.70->summertime==1.2.1) (0.5.0)\n",
            "Collecting wmd\n",
            "  Downloading wmd-1.3.2-cp37-cp37m-manylinux1_x86_64.whl (637 kB)\n",
            "\u001b[K     |████████████████████████████████| 637 kB 49.5 MB/s \n",
            "\u001b[?25hRequirement already satisfied: psutil in /usr/local/lib/python3.7/dist-packages (from summ-eval==0.70->summertime==1.2.1) (5.4.8)\n",
            "Collecting moverscore\n",
            "  Downloading moverscore-1.0.3.tar.gz (7.7 kB)\n",
            "Collecting bert-score\n",
            "  Downloading bert_score-0.3.11-py3-none-any.whl (60 kB)\n",
            "\u001b[K     |████████████████████████████████| 60 kB 7.0 MB/s \n",
            "\u001b[?25hRequirement already satisfied: six in /usr/local/lib/python3.7/dist-packages (from summ-eval==0.70->summertime==1.2.1) (1.15.0)\n",
            "Collecting blanc\n",
            "  Downloading blanc-0.2.6-py3-none-any.whl (28 kB)\n",
            "Requirement already satisfied: pyemd==0.5.1 in /usr/local/lib/python3.7/dist-packages (from summ-eval==0.70->summertime==1.2.1) (0.5.1)\n",
            "Collecting stanza\n",
            "  Downloading stanza-1.3.0-py3-none-any.whl (432 kB)\n",
            "\u001b[K     |████████████████████████████████| 432 kB 54.1 MB/s \n",
            "\u001b[?25hRequirement already satisfied: scipy in /usr/local/lib/python3.7/dist-packages (from summ-eval==0.70->summertime==1.2.1) (1.4.1)\n",
            "Requirement already satisfied: networkx in /usr/local/lib/python3.7/dist-packages (from summ-eval==0.70->summertime==1.2.1) (2.6.3)\n",
            "Collecting pathspec<1,>=0.9.0\n",
            "  Downloading pathspec-0.9.0-py2.py3-none-any.whl (31 kB)\n",
            "Collecting typed-ast>=1.4.2\n",
            "  Downloading typed_ast-1.5.2-cp37-cp37m-manylinux_2_5_x86_64.manylinux1_x86_64.manylinux_2_12_x86_64.manylinux2010_x86_64.whl (843 kB)\n",
            "\u001b[K     |████████████████████████████████| 843 kB 47.3 MB/s \n",
            "\u001b[?25hCollecting tomli<2.0.0,>=0.2.6\n",
            "  Downloading tomli-1.2.3-py3-none-any.whl (12 kB)\n",
            "Collecting platformdirs>=2\n",
            "  Downloading platformdirs-2.5.1-py3-none-any.whl (14 kB)\n",
            "Collecting mypy-extensions>=0.4.3\n",
            "  Downloading mypy_extensions-0.4.3-py2.py3-none-any.whl (4.5 kB)\n",
            "Requirement already satisfied: zipp>=0.5 in /usr/local/lib/python3.7/dist-packages (from catalogue<2.1.0,>=2.0.3->spacy==3.0.6->summertime==1.2.1) (3.7.0)\n",
            "Collecting xxhash\n",
            "  Downloading xxhash-3.0.0-cp37-cp37m-manylinux_2_17_x86_64.manylinux2014_x86_64.whl (212 kB)\n",
            "\u001b[K     |████████████████████████████████| 212 kB 51.5 MB/s \n",
            "\u001b[?25hCollecting fsspec\n",
            "  Downloading fsspec-2022.2.0-py3-none-any.whl (134 kB)\n",
            "\u001b[K     |████████████████████████████████| 134 kB 53.3 MB/s \n",
            "\u001b[?25hRequirement already satisfied: pyarrow>=1.0.0<4.0.0 in /usr/local/lib/python3.7/dist-packages (from datasets~=1.6.2->summertime==1.2.1) (6.0.1)\n",
            "Collecting huggingface-hub<0.1.0\n",
            "  Downloading huggingface_hub-0.0.19-py3-none-any.whl (56 kB)\n",
            "\u001b[K     |████████████████████████████████| 56 kB 4.9 MB/s \n",
            "\u001b[?25hRequirement already satisfied: importlib-metadata in /usr/local/lib/python3.7/dist-packages (from datasets~=1.6.2->summertime==1.2.1) (4.11.3)\n",
            "Requirement already satisfied: pandas in /usr/local/lib/python3.7/dist-packages (from datasets~=1.6.2->summertime==1.2.1) (1.3.5)\n",
            "Requirement already satisfied: multiprocess in /usr/local/lib/python3.7/dist-packages (from datasets~=1.6.2->summertime==1.2.1) (0.70.12.2)\n",
            "Requirement already satisfied: dill in /usr/local/lib/python3.7/dist-packages (from datasets~=1.6.2->summertime==1.2.1) (0.3.4)\n",
            "Collecting pybind11>=2.2\n",
            "  Using cached pybind11-2.9.1-py2.py3-none-any.whl (211 kB)\n",
            "Requirement already satisfied: filelock in /usr/local/lib/python3.7/dist-packages (from gdown~=4.2.0->summertime==1.2.1) (3.6.0)\n",
            "Requirement already satisfied: smart-open>=1.8.1 in /usr/local/lib/python3.7/dist-packages (from gensim~=3.8.3->summertime==1.2.1) (5.2.1)\n",
            "Requirement already satisfied: pyyaml in /usr/local/lib/python3.7/dist-packages (from huggingface-hub<0.1.0->datasets~=1.6.2->summertime==1.2.1) (3.13)\n",
            "Requirement already satisfied: pyrsistent>=0.14.0 in /usr/local/lib/python3.7/dist-packages (from lexrank~=0.1.0->summertime==1.2.1) (0.18.1)\n",
            "Collecting path.py>=10.5\n",
            "  Downloading path.py-12.5.0-py3-none-any.whl (2.3 kB)\n",
            "Collecting urlextract>=0.7\n",
            "  Downloading urlextract-1.5.0-py3-none-any.whl (20 kB)\n",
            "Requirement already satisfied: pyparsing!=3.0.5,>=2.0.2 in /usr/local/lib/python3.7/dist-packages (from packaging>=20.0->spacy==3.0.6->summertime==1.2.1) (3.0.7)\n",
            "Collecting path\n",
            "  Downloading path-16.4.0-py3-none-any.whl (26 kB)\n",
            "Collecting brotli>=1.0.9\n",
            "  Downloading Brotli-1.0.9-cp37-cp37m-manylinux1_x86_64.whl (357 kB)\n",
            "\u001b[K     |████████████████████████████████| 357 kB 50.1 MB/s \n",
            "\u001b[?25hCollecting pyppmd>=0.17.0\n",
            "  Downloading pyppmd-0.18.1-cp37-cp37m-manylinux_2_17_x86_64.manylinux2014_x86_64.whl (131 kB)\n",
            "\u001b[K     |████████████████████████████████| 131 kB 53.5 MB/s \n",
            "\u001b[?25hCollecting texttable\n",
            "  Downloading texttable-1.6.4-py2.py3-none-any.whl (10 kB)\n",
            "Collecting multivolumefile>=0.2.3\n",
            "  Downloading multivolumefile-0.2.3-py3-none-any.whl (17 kB)\n",
            "Collecting pycryptodomex>=3.6.6\n",
            "  Downloading pycryptodomex-3.14.1-cp35-abi3-manylinux2010_x86_64.whl (2.0 MB)\n",
            "\u001b[K     |████████████████████████████████| 2.0 MB 40.5 MB/s \n",
            "\u001b[?25hCollecting pybcj>=0.5.0\n",
            "  Downloading pybcj-0.5.1-cp37-cp37m-manylinux_2_17_x86_64.manylinux2014_x86_64.whl (57 kB)\n",
            "\u001b[K     |████████████████████████████████| 57 kB 5.9 MB/s \n",
            "\u001b[?25hCollecting pyzstd>=0.14.4\n",
            "  Downloading pyzstd-0.15.2-cp37-cp37m-manylinux_2_17_x86_64.manylinux2014_x86_64.whl (2.4 MB)\n",
            "\u001b[K     |████████████████████████████████| 2.4 MB 38.3 MB/s \n",
            "\u001b[?25hRequirement already satisfied: urllib3!=1.25.0,!=1.25.1,<1.26,>=1.21.1 in /usr/local/lib/python3.7/dist-packages (from requests<3.0.0,>=2.13.0->spacy==3.0.6->summertime==1.2.1) (1.24.3)\n",
            "Requirement already satisfied: idna<3,>=2.5 in /usr/local/lib/python3.7/dist-packages (from requests<3.0.0,>=2.13.0->spacy==3.0.6->summertime==1.2.1) (2.10)\n",
            "Requirement already satisfied: chardet<4,>=3.0.2 in /usr/local/lib/python3.7/dist-packages (from requests<3.0.0,>=2.13.0->spacy==3.0.6->summertime==1.2.1) (3.0.4)\n",
            "Requirement already satisfied: certifi>=2017.4.17 in /usr/local/lib/python3.7/dist-packages (from requests<3.0.0,>=2.13.0->spacy==3.0.6->summertime==1.2.1) (2021.10.8)\n",
            "Requirement already satisfied: google-auth-oauthlib<0.5,>=0.4.1 in /usr/local/lib/python3.7/dist-packages (from tensorboard~=2.4.1->summertime==1.2.1) (0.4.6)\n",
            "Requirement already satisfied: protobuf>=3.6.0 in /usr/local/lib/python3.7/dist-packages (from tensorboard~=2.4.1->summertime==1.2.1) (3.17.3)\n",
            "Requirement already satisfied: tensorboard-plugin-wit>=1.6.0 in /usr/local/lib/python3.7/dist-packages (from tensorboard~=2.4.1->summertime==1.2.1) (1.8.1)\n",
            "Requirement already satisfied: google-auth<2,>=1.6.3 in /usr/local/lib/python3.7/dist-packages (from tensorboard~=2.4.1->summertime==1.2.1) (1.35.0)\n",
            "Requirement already satisfied: wheel>=0.26 in /usr/local/lib/python3.7/dist-packages (from tensorboard~=2.4.1->summertime==1.2.1) (0.37.1)\n",
            "Requirement already satisfied: grpcio>=1.24.3 in /usr/local/lib/python3.7/dist-packages (from tensorboard~=2.4.1->summertime==1.2.1) (1.44.0)\n",
            "Requirement already satisfied: werkzeug>=0.11.15 in /usr/local/lib/python3.7/dist-packages (from tensorboard~=2.4.1->summertime==1.2.1) (1.0.1)\n",
            "Requirement already satisfied: absl-py>=0.4 in /usr/local/lib/python3.7/dist-packages (from tensorboard~=2.4.1->summertime==1.2.1) (1.0.0)\n",
            "Requirement already satisfied: markdown>=2.6.8 in /usr/local/lib/python3.7/dist-packages (from tensorboard~=2.4.1->summertime==1.2.1) (3.3.6)\n",
            "Requirement already satisfied: cachetools<5.0,>=2.0.0 in /usr/local/lib/python3.7/dist-packages (from google-auth<2,>=1.6.3->tensorboard~=2.4.1->summertime==1.2.1) (4.2.4)\n",
            "Requirement already satisfied: pyasn1-modules>=0.2.1 in /usr/local/lib/python3.7/dist-packages (from google-auth<2,>=1.6.3->tensorboard~=2.4.1->summertime==1.2.1) (0.2.8)\n",
            "Requirement already satisfied: rsa<5,>=3.1.4 in /usr/local/lib/python3.7/dist-packages (from google-auth<2,>=1.6.3->tensorboard~=2.4.1->summertime==1.2.1) (4.8)\n",
            "Requirement already satisfied: requests-oauthlib>=0.7.0 in /usr/local/lib/python3.7/dist-packages (from google-auth-oauthlib<0.5,>=0.4.1->tensorboard~=2.4.1->summertime==1.2.1) (1.3.1)\n",
            "Requirement already satisfied: pyasn1<0.5.0,>=0.4.6 in /usr/local/lib/python3.7/dist-packages (from pyasn1-modules>=0.2.1->google-auth<2,>=1.6.3->tensorboard~=2.4.1->summertime==1.2.1) (0.4.8)\n",
            "Requirement already satisfied: oauthlib>=3.0.0 in /usr/local/lib/python3.7/dist-packages (from requests-oauthlib>=0.7.0->google-auth-oauthlib<0.5,>=0.4.1->tensorboard~=2.4.1->summertime==1.2.1) (3.2.0)\n",
            "Collecting tokenizers<0.11,>=0.10.1\n",
            "  Downloading tokenizers-0.10.3-cp37-cp37m-manylinux_2_5_x86_64.manylinux1_x86_64.manylinux_2_12_x86_64.manylinux2010_x86_64.whl (3.3 MB)\n",
            "\u001b[K     |████████████████████████████████| 3.3 MB 34.9 MB/s \n",
            "\u001b[?25hCollecting uritools\n",
            "  Downloading uritools-4.0.0-py3-none-any.whl (10 kB)\n",
            "Requirement already satisfied: matplotlib in /usr/local/lib/python3.7/dist-packages (from bert-score->summ-eval==0.70->summertime==1.2.1) (3.2.2)\n",
            "Requirement already satisfied: pytz>=2017.3 in /usr/local/lib/python3.7/dist-packages (from pandas->datasets~=1.6.2->summertime==1.2.1) (2018.9)\n",
            "Requirement already satisfied: python-dateutil>=2.7.3 in /usr/local/lib/python3.7/dist-packages (from pandas->datasets~=1.6.2->summertime==1.2.1) (2.8.2)\n",
            "Collecting flake8\n",
            "  Downloading flake8-4.0.0-py2.py3-none-any.whl (64 kB)\n",
            "\u001b[K     |████████████████████████████████| 64 kB 2.8 MB/s \n",
            "\u001b[?25h  Downloading flake8-3.9.2-py2.py3-none-any.whl (73 kB)\n",
            "\u001b[K     |████████████████████████████████| 73 kB 1.9 MB/s \n",
            "\u001b[?25hCollecting pycodestyle<2.8.0,>=2.7.0\n",
            "  Downloading pycodestyle-2.7.0-py2.py3-none-any.whl (41 kB)\n",
            "\u001b[K     |████████████████████████████████| 41 kB 638 kB/s \n",
            "\u001b[?25hCollecting mccabe<0.7.0,>=0.6.0\n",
            "  Downloading mccabe-0.6.1-py2.py3-none-any.whl (8.6 kB)\n",
            "Collecting pyflakes<2.4.0,>=2.3.0\n",
            "  Downloading pyflakes-2.3.1-py2.py3-none-any.whl (68 kB)\n",
            "\u001b[K     |████████████████████████████████| 68 kB 7.6 MB/s \n",
            "\u001b[?25hRequirement already satisfied: MarkupSafe>=0.23 in /usr/local/lib/python3.7/dist-packages (from jinja2->spacy==3.0.6->summertime==1.2.1) (2.0.1)\n",
            "Requirement already satisfied: ipykernel in /usr/local/lib/python3.7/dist-packages (from jupyter->summertime==1.2.1) (4.10.1)\n",
            "Requirement already satisfied: jupyter-console in /usr/local/lib/python3.7/dist-packages (from jupyter->summertime==1.2.1) (5.2.0)\n",
            "Requirement already satisfied: nbconvert in /usr/local/lib/python3.7/dist-packages (from jupyter->summertime==1.2.1) (5.6.1)\n",
            "Requirement already satisfied: qtconsole in /usr/local/lib/python3.7/dist-packages (from jupyter->summertime==1.2.1) (5.2.2)\n",
            "Requirement already satisfied: ipywidgets in /usr/local/lib/python3.7/dist-packages (from jupyter->summertime==1.2.1) (7.7.0)\n",
            "Requirement already satisfied: notebook in /usr/local/lib/python3.7/dist-packages (from jupyter->summertime==1.2.1) (5.3.1)\n",
            "Requirement already satisfied: ipython>=4.0.0 in /usr/local/lib/python3.7/dist-packages (from ipykernel->jupyter->summertime==1.2.1) (5.5.0)\n",
            "Requirement already satisfied: traitlets>=4.1.0 in /usr/local/lib/python3.7/dist-packages (from ipykernel->jupyter->summertime==1.2.1) (5.1.1)\n",
            "Requirement already satisfied: tornado>=4.0 in /usr/local/lib/python3.7/dist-packages (from ipykernel->jupyter->summertime==1.2.1) (5.1.1)\n",
            "Requirement already satisfied: jupyter-client in /usr/local/lib/python3.7/dist-packages (from ipykernel->jupyter->summertime==1.2.1) (5.3.5)\n",
            "Requirement already satisfied: pickleshare in /usr/local/lib/python3.7/dist-packages (from ipython>=4.0.0->ipykernel->jupyter->summertime==1.2.1) (0.7.5)\n",
            "Requirement already satisfied: pexpect in /usr/local/lib/python3.7/dist-packages (from ipython>=4.0.0->ipykernel->jupyter->summertime==1.2.1) (4.8.0)\n",
            "Requirement already satisfied: decorator in /usr/local/lib/python3.7/dist-packages (from ipython>=4.0.0->ipykernel->jupyter->summertime==1.2.1) (4.4.2)\n",
            "Requirement already satisfied: pygments in /usr/local/lib/python3.7/dist-packages (from ipython>=4.0.0->ipykernel->jupyter->summertime==1.2.1) (2.6.1)\n",
            "Requirement already satisfied: prompt-toolkit<2.0.0,>=1.0.4 in /usr/local/lib/python3.7/dist-packages (from ipython>=4.0.0->ipykernel->jupyter->summertime==1.2.1) (1.0.18)\n",
            "Requirement already satisfied: simplegeneric>0.8 in /usr/local/lib/python3.7/dist-packages (from ipython>=4.0.0->ipykernel->jupyter->summertime==1.2.1) (0.8.1)\n",
            "Requirement already satisfied: wcwidth in /usr/local/lib/python3.7/dist-packages (from prompt-toolkit<2.0.0,>=1.0.4->ipython>=4.0.0->ipykernel->jupyter->summertime==1.2.1) (0.2.5)\n",
            "Requirement already satisfied: ipython-genutils~=0.2.0 in /usr/local/lib/python3.7/dist-packages (from ipywidgets->jupyter->summertime==1.2.1) (0.2.0)\n",
            "Requirement already satisfied: nbformat>=4.2.0 in /usr/local/lib/python3.7/dist-packages (from ipywidgets->jupyter->summertime==1.2.1) (5.2.0)\n",
            "Requirement already satisfied: jupyterlab-widgets>=1.0.0 in /usr/local/lib/python3.7/dist-packages (from ipywidgets->jupyter->summertime==1.2.1) (1.1.0)\n",
            "Requirement already satisfied: widgetsnbextension~=3.6.0 in /usr/local/lib/python3.7/dist-packages (from ipywidgets->jupyter->summertime==1.2.1) (3.6.0)\n",
            "Requirement already satisfied: jupyter-core in /usr/local/lib/python3.7/dist-packages (from nbformat>=4.2.0->ipywidgets->jupyter->summertime==1.2.1) (4.9.2)\n",
            "Requirement already satisfied: jsonschema!=2.5.0,>=2.4 in /usr/local/lib/python3.7/dist-packages (from nbformat>=4.2.0->ipywidgets->jupyter->summertime==1.2.1) (4.3.3)\n",
            "Requirement already satisfied: importlib-resources>=1.4.0 in /usr/local/lib/python3.7/dist-packages (from jsonschema!=2.5.0,>=2.4->nbformat>=4.2.0->ipywidgets->jupyter->summertime==1.2.1) (5.4.0)\n",
            "Requirement already satisfied: attrs>=17.4.0 in /usr/local/lib/python3.7/dist-packages (from jsonschema!=2.5.0,>=2.4->nbformat>=4.2.0->ipywidgets->jupyter->summertime==1.2.1) (21.4.0)\n",
            "Requirement already satisfied: terminado>=0.8.1 in /usr/local/lib/python3.7/dist-packages (from notebook->jupyter->summertime==1.2.1) (0.13.3)\n",
            "Requirement already satisfied: Send2Trash in /usr/local/lib/python3.7/dist-packages (from notebook->jupyter->summertime==1.2.1) (1.8.0)\n",
            "Requirement already satisfied: pyzmq>=13 in /usr/local/lib/python3.7/dist-packages (from jupyter-client->ipykernel->jupyter->summertime==1.2.1) (22.3.0)\n",
            "Requirement already satisfied: ptyprocess in /usr/local/lib/python3.7/dist-packages (from terminado>=0.8.1->notebook->jupyter->summertime==1.2.1) (0.7.0)\n",
            "Requirement already satisfied: kiwisolver>=1.0.1 in /usr/local/lib/python3.7/dist-packages (from matplotlib->bert-score->summ-eval==0.70->summertime==1.2.1) (1.4.0)\n",
            "Requirement already satisfied: cycler>=0.10 in /usr/local/lib/python3.7/dist-packages (from matplotlib->bert-score->summ-eval==0.70->summertime==1.2.1) (0.11.0)\n",
            "Collecting typing\n",
            "  Downloading typing-3.7.4.3.tar.gz (78 kB)\n",
            "\u001b[K     |████████████████████████████████| 78 kB 8.3 MB/s \n",
            "\u001b[?25hCollecting portalocker\n",
            "  Downloading portalocker-2.4.0-py2.py3-none-any.whl (16 kB)\n",
            "Requirement already satisfied: mistune<2,>=0.8.1 in /usr/local/lib/python3.7/dist-packages (from nbconvert->jupyter->summertime==1.2.1) (0.8.4)\n",
            "Requirement already satisfied: bleach in /usr/local/lib/python3.7/dist-packages (from nbconvert->jupyter->summertime==1.2.1) (4.1.0)\n",
            "Requirement already satisfied: defusedxml in /usr/local/lib/python3.7/dist-packages (from nbconvert->jupyter->summertime==1.2.1) (0.7.1)\n",
            "Requirement already satisfied: testpath in /usr/local/lib/python3.7/dist-packages (from nbconvert->jupyter->summertime==1.2.1) (0.6.0)\n",
            "Requirement already satisfied: pandocfilters>=1.4.1 in /usr/local/lib/python3.7/dist-packages (from nbconvert->jupyter->summertime==1.2.1) (1.5.0)\n",
            "Requirement already satisfied: entrypoints>=0.2.2 in /usr/local/lib/python3.7/dist-packages (from nbconvert->jupyter->summertime==1.2.1) (0.4)\n",
            "Requirement already satisfied: webencodings in /usr/local/lib/python3.7/dist-packages (from bleach->nbconvert->jupyter->summertime==1.2.1) (0.5.1)\n",
            "Collecting icecream>=2.1\n",
            "  Downloading icecream-2.1.2-py2.py3-none-any.whl (8.3 kB)\n",
            "Collecting scipy\n",
            "  Downloading scipy-1.7.3-cp37-cp37m-manylinux_2_12_x86_64.manylinux2010_x86_64.whl (38.1 MB)\n",
            "\u001b[K     |████████████████████████████████| 38.1 MB 1.3 MB/s \n",
            "\u001b[?25hCollecting graphviz>=0.13\n",
            "  Downloading graphviz-0.19.1-py3-none-any.whl (46 kB)\n",
            "\u001b[K     |████████████████████████████████| 46 kB 4.2 MB/s \n",
            "\u001b[?25hCollecting pygments\n",
            "  Downloading Pygments-2.11.2-py3-none-any.whl (1.1 MB)\n",
            "\u001b[K     |████████████████████████████████| 1.1 MB 4.0 MB/s \n",
            "\u001b[?25hCollecting executing>=0.3.1\n",
            "  Downloading executing-0.8.3-py2.py3-none-any.whl (16 kB)\n",
            "Collecting asttokens>=2.0.1\n",
            "  Downloading asttokens-2.0.5-py2.py3-none-any.whl (20 kB)\n",
            "Collecting colorama>=0.3.9\n",
            "  Downloading colorama-0.4.4-py2.py3-none-any.whl (16 kB)\n",
            "Collecting matplotlib\n",
            "  Downloading matplotlib-3.5.1-cp37-cp37m-manylinux_2_5_x86_64.manylinux1_x86_64.whl (11.2 MB)\n",
            "\u001b[K     |████████████████████████████████| 11.2 MB 32.8 MB/s \n",
            "\u001b[?25hCollecting fonttools>=4.22.0\n",
            "  Downloading fonttools-4.31.2-py3-none-any.whl (899 kB)\n",
            "\u001b[K     |████████████████████████████████| 899 kB 44.3 MB/s \n",
            "\u001b[?25hRequirement already satisfied: pillow>=6.2.0 in /usr/local/lib/python3.7/dist-packages (from matplotlib->bert-score->summ-eval==0.70->summertime==1.2.1) (7.1.2)\n",
            "Collecting boto3\n",
            "  Downloading boto3-1.21.30-py3-none-any.whl (132 kB)\n",
            "\u001b[K     |████████████████████████████████| 132 kB 18.0 MB/s \n",
            "\u001b[?25hCollecting jmespath<2.0.0,>=0.7.1\n",
            "  Downloading jmespath-1.0.0-py3-none-any.whl (23 kB)\n",
            "Collecting s3transfer<0.6.0,>=0.5.0\n",
            "  Downloading s3transfer-0.5.2-py3-none-any.whl (79 kB)\n",
            "\u001b[K     |████████████████████████████████| 79 kB 8.7 MB/s \n",
            "\u001b[?25hCollecting botocore<1.25.0,>=1.24.30\n",
            "  Downloading botocore-1.24.30-py3-none-any.whl (8.6 MB)\n",
            "\u001b[K     |████████████████████████████████| 8.6 MB 43.3 MB/s \n",
            "\u001b[?25hCollecting urllib3!=1.25.0,!=1.25.1,<1.26,>=1.21.1\n",
            "  Downloading urllib3-1.25.11-py2.py3-none-any.whl (127 kB)\n",
            "\u001b[K     |████████████████████████████████| 127 kB 51.1 MB/s \n",
            "\u001b[?25hRequirement already satisfied: qtpy in /usr/local/lib/python3.7/dist-packages (from qtconsole->jupyter->summertime==1.2.1) (2.0.1)\n",
            "Collecting cssselect\n",
            "  Downloading cssselect-1.1.0-py2.py3-none-any.whl (16 kB)\n",
            "Requirement already satisfied: lxml in /usr/local/lib/python3.7/dist-packages (from readability-lxml->summertime==1.2.1) (4.2.6)\n",
            "Requirement already satisfied: PySocks!=1.5.7,>=1.5.6 in /usr/local/lib/python3.7/dist-packages (from requests<3.0.0,>=2.13.0->spacy==3.0.6->summertime==1.2.1) (1.7.1)\n",
            "Requirement already satisfied: tabulate>=0.8.9 in /usr/local/lib/python3.7/dist-packages (from sacrebleu->summ-eval==0.70->summertime==1.2.1) (0.8.9)\n",
            "Requirement already satisfied: scikit-learn in /usr/local/lib/python3.7/dist-packages (from sklearn->summertime==1.2.1) (1.0.2)\n",
            "Requirement already satisfied: threadpoolctl>=2.0.0 in /usr/local/lib/python3.7/dist-packages (from scikit-learn->sklearn->summertime==1.2.1) (3.1.0)\n",
            "Collecting emoji\n",
            "  Downloading emoji-1.7.0.tar.gz (175 kB)\n",
            "\u001b[K     |████████████████████████████████| 175 kB 55.1 MB/s \n",
            "\u001b[?25hBuilding wheels for collected packages: easynmt, fasttext, moverscore, progressbar, emoji, typing\n",
            "  Building wheel for easynmt (setup.py) ... \u001b[?25l\u001b[?25hdone\n",
            "  Created wheel for easynmt: filename=EasyNMT-2.0.1-py3-none-any.whl size=15447 sha256=25cca767f1191d12922ac77e570e5e940dd75365863a053f6d8e5855f3901e0e\n",
            "  Stored in directory: /root/.cache/pip/wheels/fb/42/fb/b7711d3296456d5f74e6e265dbdb0e3142158f1bb50382caef\n",
            "  Building wheel for fasttext (setup.py) ... \u001b[?25l\u001b[?25hdone\n",
            "  Created wheel for fasttext: filename=fasttext-0.9.2-cp37-cp37m-linux_x86_64.whl size=3133299 sha256=7525ab9506266ccf079cc4981770dbef72aa1aa2424612378a66a680c0eb7988\n",
            "  Stored in directory: /root/.cache/pip/wheels/4e/ca/bf/b020d2be95f7641801a6597a29c8f4f19e38f9c02a345bab9b\n",
            "  Building wheel for moverscore (setup.py) ... \u001b[?25l\u001b[?25hdone\n",
            "  Created wheel for moverscore: filename=moverscore-1.0.3-py3-none-any.whl size=7966 sha256=6b2d7f2382815245accabd96b24297616a185395d6fe6639976577078e654315\n",
            "  Stored in directory: /root/.cache/pip/wheels/57/48/8c/2934d05194bf99de323ef6015a98c8da46dc010752700341be\n",
            "  Building wheel for progressbar (setup.py) ... \u001b[?25l\u001b[?25hdone\n",
            "  Created wheel for progressbar: filename=progressbar-2.5-py3-none-any.whl size=12082 sha256=4b0c151b8f90c73defa2f41c6153f0f00479bf7d68d0f47788736cc0b6c1b92d\n",
            "  Stored in directory: /root/.cache/pip/wheels/f0/fd/1f/3e35ed57e94cd8ced38dd46771f1f0f94f65fec548659ed855\n",
            "  Building wheel for emoji (setup.py) ... \u001b[?25l\u001b[?25hdone\n",
            "  Created wheel for emoji: filename=emoji-1.7.0-py3-none-any.whl size=171046 sha256=0b2b972ebde862cb8d665da3537fc5dfc2fe056d07a5d88e7a5506ee6d452e5c\n",
            "  Stored in directory: /root/.cache/pip/wheels/8a/4e/b6/57b01db010d17ef6ea9b40300af725ef3e210cb1acfb7ac8b6\n",
            "  Building wheel for typing (setup.py) ... \u001b[?25l\u001b[?25hdone\n",
            "  Created wheel for typing: filename=typing-3.7.4.3-py3-none-any.whl size=26325 sha256=0ffa804a0012a38a7df22f26321137f42d41fa858e3ca463659c6c41da4f2975\n",
            "  Stored in directory: /root/.cache/pip/wheels/35/f3/15/01aa6571f0a72ee6ae7b827c1491c37a1f72d686fd22b43b0e\n",
            "Successfully built easynmt fasttext moverscore progressbar emoji typing\n",
            "Installing collected packages: pygments, urllib3, jmespath, tqdm, catalogue, botocore, typer, tokenizers, srsly, scipy, sacremoses, s3transfer, pydantic, fonttools, uritools, typing, transformers, thinc, spacy-legacy, pybind11, portalocker, platformdirs, pathy, path, nltk, matplotlib, executing, emoji, colorama, boto3, asttokens, xxhash, wmd, urlextract, typed-ast, tomli, texttable, stanza, spacy, sentencepiece, sacrebleu, pyzstd, pytorch-pretrained-bert, pyppmd, pyflakes, pycryptodomex, pycodestyle, pybcj, pathspec, path.py, mypy-extensions, multivolumefile, moverscore, mccabe, icecream, huggingface-hub, graphviz, fsspec, fasttext, cssselect, brotli, blanc, bert-score, tensorboard, summ-eval, readability-lxml, pytextrank, py7zr, progressbar, orjson, lexrank, gensim, flake8, easynmt, datasets, black, summertime\n",
            "  Attempting uninstall: pygments\n",
            "    Found existing installation: Pygments 2.6.1\n",
            "    Uninstalling Pygments-2.6.1:\n",
            "      Successfully uninstalled Pygments-2.6.1\n",
            "  Attempting uninstall: urllib3\n",
            "    Found existing installation: urllib3 1.24.3\n",
            "    Uninstalling urllib3-1.24.3:\n",
            "      Successfully uninstalled urllib3-1.24.3\n",
            "  Attempting uninstall: tqdm\n",
            "    Found existing installation: tqdm 4.63.0\n",
            "    Uninstalling tqdm-4.63.0:\n",
            "      Successfully uninstalled tqdm-4.63.0\n",
            "  Attempting uninstall: catalogue\n",
            "    Found existing installation: catalogue 1.0.0\n",
            "    Uninstalling catalogue-1.0.0:\n",
            "      Successfully uninstalled catalogue-1.0.0\n",
            "  Attempting uninstall: srsly\n",
            "    Found existing installation: srsly 1.0.5\n",
            "    Uninstalling srsly-1.0.5:\n",
            "      Successfully uninstalled srsly-1.0.5\n",
            "  Attempting uninstall: scipy\n",
            "    Found existing installation: scipy 1.4.1\n",
            "    Uninstalling scipy-1.4.1:\n",
            "      Successfully uninstalled scipy-1.4.1\n",
            "  Attempting uninstall: thinc\n",
            "    Found existing installation: thinc 7.4.0\n",
            "    Uninstalling thinc-7.4.0:\n",
            "      Successfully uninstalled thinc-7.4.0\n",
            "  Attempting uninstall: nltk\n",
            "    Found existing installation: nltk 3.2.5\n",
            "    Uninstalling nltk-3.2.5:\n",
            "      Successfully uninstalled nltk-3.2.5\n",
            "  Attempting uninstall: matplotlib\n",
            "    Found existing installation: matplotlib 3.2.2\n",
            "    Uninstalling matplotlib-3.2.2:\n",
            "      Successfully uninstalled matplotlib-3.2.2\n",
            "  Attempting uninstall: tomli\n",
            "    Found existing installation: tomli 2.0.1\n",
            "    Uninstalling tomli-2.0.1:\n",
            "      Successfully uninstalled tomli-2.0.1\n",
            "  Attempting uninstall: spacy\n",
            "    Found existing installation: spacy 2.2.4\n",
            "    Uninstalling spacy-2.2.4:\n",
            "      Successfully uninstalled spacy-2.2.4\n",
            "  Attempting uninstall: graphviz\n",
            "    Found existing installation: graphviz 0.10.1\n",
            "    Uninstalling graphviz-0.10.1:\n",
            "      Successfully uninstalled graphviz-0.10.1\n",
            "  Attempting uninstall: tensorboard\n",
            "    Found existing installation: tensorboard 2.8.0\n",
            "    Uninstalling tensorboard-2.8.0:\n",
            "      Successfully uninstalled tensorboard-2.8.0\n",
            "  Attempting uninstall: gensim\n",
            "    Found existing installation: gensim 3.6.0\n",
            "    Uninstalling gensim-3.6.0:\n",
            "      Successfully uninstalled gensim-3.6.0\n",
            "  Running setup.py develop for summertime\n",
            "\u001b[31mERROR: pip's dependency resolver does not currently take into account all the packages that are installed. This behaviour is the source of the following dependency conflicts.\n",
            "tensorflow 2.8.0 requires tf-estimator-nightly==2.8.0.dev2021122109, which is not installed.\n",
            "tensorflow 2.8.0 requires tensorboard<2.9,>=2.8, but you have tensorboard 2.4.1 which is incompatible.\n",
            "datascience 0.10.6 requires folium==0.2.1, but you have folium 0.8.3 which is incompatible.\n",
            "albumentations 0.1.12 requires imgaug<0.2.7,>=0.2.5, but you have imgaug 0.2.9 which is incompatible.\u001b[0m\n",
            "Successfully installed asttokens-2.0.5 bert-score-0.3.11 black-21.12b0 blanc-0.2.6 boto3-1.21.30 botocore-1.24.30 brotli-1.0.9 catalogue-2.0.7 colorama-0.4.4 cssselect-1.1.0 datasets-1.6.2 easynmt-2.0.1 emoji-1.7.0 executing-0.8.3 fasttext-0.9.2 flake8-3.9.2 fonttools-4.31.2 fsspec-2022.2.0 gensim-3.8.3 graphviz-0.19.1 huggingface-hub-0.0.19 icecream-2.1.2 jmespath-1.0.0 lexrank-0.1.0 matplotlib-3.5.1 mccabe-0.6.1 moverscore-1.0.3 multivolumefile-0.2.3 mypy-extensions-0.4.3 nltk-3.6.2 orjson-3.6.7 path-16.4.0 path.py-12.5.0 pathspec-0.9.0 pathy-0.6.1 platformdirs-2.5.1 portalocker-2.4.0 progressbar-2.5 py7zr-0.16.4 pybcj-0.5.1 pybind11-2.9.1 pycodestyle-2.7.0 pycryptodomex-3.14.1 pydantic-1.7.4 pyflakes-2.3.1 pygments-2.11.2 pyppmd-0.18.1 pytextrank-3.2.3 pytorch-pretrained-bert-0.6.2 pyzstd-0.15.2 readability-lxml-0.8.1 s3transfer-0.5.2 sacrebleu-2.0.0 sacremoses-0.0.49 scipy-1.7.3 sentencepiece-0.1.96 spacy-3.0.6 spacy-legacy-3.0.9 srsly-2.4.2 stanza-1.3.0 summ-eval-0.70 summertime tensorboard-2.4.1 texttable-1.6.4 thinc-8.0.15 tokenizers-0.10.3 tomli-1.2.3 tqdm-4.49.0 transformers-4.5.1 typed-ast-1.5.2 typer-0.3.2 typing-3.7.4.3 uritools-4.0.0 urlextract-1.5.0 urllib3-1.25.11 wmd-1.3.2 xxhash-3.0.0\n"
          ]
        },
        {
          "output_type": "display_data",
          "data": {
            "application/vnd.colab-display-data+json": {
              "pip_warning": {
                "packages": [
                  "matplotlib",
                  "mpl_toolkits",
                  "pygments",
                  "typing"
                ]
              }
            }
          },
          "metadata": {}
        }
      ]
    },
    {
      "cell_type": "code",
      "source": [
        "!export ROUGE_HOME=/usr/local/bin/python/dist-packages/summ_eval/ROUGE-1.5.5/\n",
        "!pip install -U  git+https://github.com/bheinzerling/pyrouge.git"
      ],
      "metadata": {
        "colab": {
          "base_uri": "https://localhost:8080/"
        },
        "id": "95xG9977nPwB",
        "outputId": "57bd1185-ba33-478e-cd29-3e3d5bc394e6"
      },
      "execution_count": null,
      "outputs": [
        {
          "output_type": "stream",
          "name": "stdout",
          "text": [
            "Collecting git+https://github.com/bheinzerling/pyrouge.git\n",
            "  Cloning https://github.com/bheinzerling/pyrouge.git to /tmp/pip-req-build-uy7a8wuj\n",
            "  Running command git clone -q https://github.com/bheinzerling/pyrouge.git /tmp/pip-req-build-uy7a8wuj\n",
            "Building wheels for collected packages: pyrouge\n",
            "  Building wheel for pyrouge (setup.py) ... \u001b[?25l\u001b[?25hdone\n",
            "  Created wheel for pyrouge: filename=pyrouge-0.1.3-py3-none-any.whl size=191924 sha256=6afaf852917ee6a50dc88fd183e9af7bc155dfe4e4e08c94cc6a0f1cc4283653\n",
            "  Stored in directory: /tmp/pip-ephem-wheel-cache-be5xk0tx/wheels/2f/1c/55/4e264b4e45f2a6f39a50e95cff45e57b54f202db830f125bb2\n",
            "Successfully built pyrouge\n",
            "Installing collected packages: pyrouge\n",
            "Successfully installed pyrouge-0.1.3\n"
          ]
        }
      ]
    },
    {
      "cell_type": "code",
      "source": [
        "from pprint import pprint\n",
        "import nltk\n",
        "nltk.download('stopwords')"
      ],
      "metadata": {
        "colab": {
          "base_uri": "https://localhost:8080/"
        },
        "id": "AShVtlotnfwZ",
        "outputId": "e111d61e-457b-4040-942b-acc2c7e9f122"
      },
      "execution_count": null,
      "outputs": [
        {
          "output_type": "stream",
          "name": "stderr",
          "text": [
            "[nltk_data] Downloading package stopwords to /root/nltk_data...\n",
            "[nltk_data]   Package stopwords is already up-to-date!\n"
          ]
        },
        {
          "output_type": "execute_result",
          "data": {
            "text/plain": [
              "True"
            ]
          },
          "metadata": {},
          "execution_count": 3
        }
      ]
    },
    {
      "cell_type": "code",
      "source": [
        "!pwd"
      ],
      "metadata": {
        "id": "qRLyb6dlSla0"
      },
      "execution_count": null,
      "outputs": []
    },
    {
      "cell_type": "code",
      "source": [
        "import os, sys \n",
        "sys.path.append('/content/')"
      ],
      "metadata": {
        "id": "WNSJWeN4aN45"
      },
      "execution_count": null,
      "outputs": []
    },
    {
      "cell_type": "code",
      "source": [
        "!python -m spacy download en_core_web_sm"
      ],
      "metadata": {
        "colab": {
          "base_uri": "https://localhost:8080/"
        },
        "id": "QqmhRpnrnkpY",
        "outputId": "f1360429-2b86-4a2b-c7bc-e1293fd7fb1b"
      },
      "execution_count": null,
      "outputs": [
        {
          "output_type": "stream",
          "name": "stdout",
          "text": [
            "Collecting en-core-web-sm==3.0.0\n",
            "  Downloading https://github.com/explosion/spacy-models/releases/download/en_core_web_sm-3.0.0/en_core_web_sm-3.0.0-py3-none-any.whl (13.7 MB)\n",
            "\u001b[K     |████████████████████████████████| 13.7 MB 4.4 MB/s \n",
            "\u001b[?25hRequirement already satisfied: spacy<3.1.0,>=3.0.0 in /usr/local/lib/python3.7/dist-packages (from en-core-web-sm==3.0.0) (3.0.6)\n",
            "Requirement already satisfied: typing-extensions<4.0.0.0,>=3.7.4 in /usr/local/lib/python3.7/dist-packages (from spacy<3.1.0,>=3.0.0->en-core-web-sm==3.0.0) (3.10.0.2)\n",
            "Requirement already satisfied: tqdm<5.0.0,>=4.38.0 in /usr/local/lib/python3.7/dist-packages (from spacy<3.1.0,>=3.0.0->en-core-web-sm==3.0.0) (4.49.0)\n",
            "Requirement already satisfied: jinja2 in /usr/local/lib/python3.7/dist-packages (from spacy<3.1.0,>=3.0.0->en-core-web-sm==3.0.0) (2.11.3)\n",
            "Requirement already satisfied: wasabi<1.1.0,>=0.8.1 in /usr/local/lib/python3.7/dist-packages (from spacy<3.1.0,>=3.0.0->en-core-web-sm==3.0.0) (0.9.0)\n",
            "Requirement already satisfied: thinc<8.1.0,>=8.0.3 in /usr/local/lib/python3.7/dist-packages (from spacy<3.1.0,>=3.0.0->en-core-web-sm==3.0.0) (8.0.15)\n",
            "Requirement already satisfied: requests<3.0.0,>=2.13.0 in /usr/local/lib/python3.7/dist-packages (from spacy<3.1.0,>=3.0.0->en-core-web-sm==3.0.0) (2.23.0)\n",
            "Requirement already satisfied: numpy>=1.15.0 in /usr/local/lib/python3.7/dist-packages (from spacy<3.1.0,>=3.0.0->en-core-web-sm==3.0.0) (1.21.5)\n",
            "Requirement already satisfied: pathy>=0.3.5 in /usr/local/lib/python3.7/dist-packages (from spacy<3.1.0,>=3.0.0->en-core-web-sm==3.0.0) (0.6.1)\n",
            "Requirement already satisfied: catalogue<2.1.0,>=2.0.3 in /usr/local/lib/python3.7/dist-packages (from spacy<3.1.0,>=3.0.0->en-core-web-sm==3.0.0) (2.0.7)\n",
            "Requirement already satisfied: murmurhash<1.1.0,>=0.28.0 in /usr/local/lib/python3.7/dist-packages (from spacy<3.1.0,>=3.0.0->en-core-web-sm==3.0.0) (1.0.6)\n",
            "Requirement already satisfied: pydantic<1.8.0,>=1.7.1 in /usr/local/lib/python3.7/dist-packages (from spacy<3.1.0,>=3.0.0->en-core-web-sm==3.0.0) (1.7.4)\n",
            "Requirement already satisfied: spacy-legacy<3.1.0,>=3.0.4 in /usr/local/lib/python3.7/dist-packages (from spacy<3.1.0,>=3.0.0->en-core-web-sm==3.0.0) (3.0.9)\n",
            "Requirement already satisfied: blis<0.8.0,>=0.4.0 in /usr/local/lib/python3.7/dist-packages (from spacy<3.1.0,>=3.0.0->en-core-web-sm==3.0.0) (0.4.1)\n",
            "Requirement already satisfied: srsly<3.0.0,>=2.4.1 in /usr/local/lib/python3.7/dist-packages (from spacy<3.1.0,>=3.0.0->en-core-web-sm==3.0.0) (2.4.2)\n",
            "Requirement already satisfied: typer<0.4.0,>=0.3.0 in /usr/local/lib/python3.7/dist-packages (from spacy<3.1.0,>=3.0.0->en-core-web-sm==3.0.0) (0.3.2)\n",
            "Requirement already satisfied: packaging>=20.0 in /usr/local/lib/python3.7/dist-packages (from spacy<3.1.0,>=3.0.0->en-core-web-sm==3.0.0) (21.3)\n",
            "Requirement already satisfied: setuptools in /usr/local/lib/python3.7/dist-packages (from spacy<3.1.0,>=3.0.0->en-core-web-sm==3.0.0) (57.4.0)\n",
            "Requirement already satisfied: cymem<2.1.0,>=2.0.2 in /usr/local/lib/python3.7/dist-packages (from spacy<3.1.0,>=3.0.0->en-core-web-sm==3.0.0) (2.0.6)\n",
            "Requirement already satisfied: preshed<3.1.0,>=3.0.2 in /usr/local/lib/python3.7/dist-packages (from spacy<3.1.0,>=3.0.0->en-core-web-sm==3.0.0) (3.0.6)\n",
            "Requirement already satisfied: zipp>=0.5 in /usr/local/lib/python3.7/dist-packages (from catalogue<2.1.0,>=2.0.3->spacy<3.1.0,>=3.0.0->en-core-web-sm==3.0.0) (3.7.0)\n",
            "Requirement already satisfied: pyparsing!=3.0.5,>=2.0.2 in /usr/local/lib/python3.7/dist-packages (from packaging>=20.0->spacy<3.1.0,>=3.0.0->en-core-web-sm==3.0.0) (3.0.7)\n",
            "Requirement already satisfied: smart-open<6.0.0,>=5.0.0 in /usr/local/lib/python3.7/dist-packages (from pathy>=0.3.5->spacy<3.1.0,>=3.0.0->en-core-web-sm==3.0.0) (5.2.1)\n",
            "Requirement already satisfied: chardet<4,>=3.0.2 in /usr/local/lib/python3.7/dist-packages (from requests<3.0.0,>=2.13.0->spacy<3.1.0,>=3.0.0->en-core-web-sm==3.0.0) (3.0.4)\n",
            "Requirement already satisfied: certifi>=2017.4.17 in /usr/local/lib/python3.7/dist-packages (from requests<3.0.0,>=2.13.0->spacy<3.1.0,>=3.0.0->en-core-web-sm==3.0.0) (2021.10.8)\n",
            "Requirement already satisfied: urllib3!=1.25.0,!=1.25.1,<1.26,>=1.21.1 in /usr/local/lib/python3.7/dist-packages (from requests<3.0.0,>=2.13.0->spacy<3.1.0,>=3.0.0->en-core-web-sm==3.0.0) (1.25.11)\n",
            "Requirement already satisfied: idna<3,>=2.5 in /usr/local/lib/python3.7/dist-packages (from requests<3.0.0,>=2.13.0->spacy<3.1.0,>=3.0.0->en-core-web-sm==3.0.0) (2.10)\n",
            "Requirement already satisfied: click<7.2.0,>=7.1.1 in /usr/local/lib/python3.7/dist-packages (from typer<0.4.0,>=0.3.0->spacy<3.1.0,>=3.0.0->en-core-web-sm==3.0.0) (7.1.2)\n",
            "Requirement already satisfied: MarkupSafe>=0.23 in /usr/local/lib/python3.7/dist-packages (from jinja2->spacy<3.1.0,>=3.0.0->en-core-web-sm==3.0.0) (2.0.1)\n",
            "\u001b[38;5;2m✔ Download and installation successful\u001b[0m\n",
            "You can now load the package via spacy.load('en_core_web_sm')\n"
          ]
        }
      ]
    },
    {
      "cell_type": "code",
      "source": [
        "sys.path.append('/content/SummerTime')"
      ],
      "metadata": {
        "id": "7SSBnyf1afOJ"
      },
      "execution_count": null,
      "outputs": []
    },
    {
      "cell_type": "code",
      "source": [
        "from SummerTime.summertime import model\n",
        "\n",
        "pprint(model.list_all_models())"
      ],
      "metadata": {
        "id": "2F-TJmSUnndx",
        "colab": {
          "base_uri": "https://localhost:8080/"
        },
        "outputId": "9cecff09-6433-4b0c-dda6-7f8cf2f03045"
      },
      "execution_count": null,
      "outputs": [
        {
          "output_type": "stream",
          "name": "stdout",
          "text": [
            "[(<class 'SummerTime.summertime.model.single_doc.bart_model.BartModel'>,\n",
            "  'BART is a abstractive, neural model for summarization.'),\n",
            " (<class 'SummerTime.summertime.model.single_doc.multilingual.mbart_model.MBartModel'>,\n",
            "  'mBART is a abstractive, neural model for summarization.'),\n",
            " (<class 'SummerTime.summertime.model.single_doc.multilingual.mt5_model.MT5Model'>,\n",
            "  'mT5 is a abstractive, neural model for summarization.'),\n",
            " (<class 'SummerTime.summertime.model.single_doc.multilingual.translation_pipeline_model.TranslationPipelineModel'>,\n",
            "  'Translation Pipeline is a abstractive, non-neural model for summarization.'),\n",
            " (<class 'SummerTime.summertime.model.single_doc.lexrank_model.LexRankModel'>,\n",
            "  'LexRank is a extractive, non-neural model for summarization.'),\n",
            " (<class 'SummerTime.summertime.model.single_doc.longformer_model.LongformerModel'>,\n",
            "  'Longformer is a abstractive, neural model for summarization.'),\n",
            " (<class 'SummerTime.summertime.model.single_doc.t5_model.T5Model'>,\n",
            "  'T5 is a abstractive, neural model for summarization.'),\n",
            " (<class 'SummerTime.summertime.model.single_doc.pegasus_model.PegasusModel'>,\n",
            "  'Pegasus is a abstractive, neural model for summarization.'),\n",
            " (<class 'SummerTime.summertime.model.single_doc.textrank_model.TextRankModel'>,\n",
            "  'TextRank is a extractive, non-neural model for summarization.'),\n",
            " (<class 'SummerTime.summertime.model.multi_doc.multi_doc_joint_model.MultiDocJointModel'>,\n",
            "  'MultiDocJointModel performs multi-document summarization by first '\n",
            "  'concatenating all documents, and then performing single-document '\n",
            "  'summarization on the concatenation.'),\n",
            " (<class 'SummerTime.summertime.model.multi_doc.multi_doc_separate_model.MultiDocSeparateModel'>,\n",
            "  'MultiDocSeparateModel performs multi-document summarization by first '\n",
            "  'performing single-document summarization on each document, and then '\n",
            "  'concatenating the results.'),\n",
            " (<class 'SummerTime.summertime.model.dialogue.hmnet_model.HMNetModel'>,\n",
            "  'HMNET is a abstractive, neural model for summarization.It can handle  '\n",
            "  'dialogue textual data.'),\n",
            " (<class 'SummerTime.summertime.model.dialogue.flatten_dialogue_model.FlattenDialogueModel'>,\n",
            "  'FlattenDialogueModel performs multi-document summarization by first '\n",
            "  'concatenating all dialogue utterances, and then treat the concatenated text '\n",
            "  'as a single document and use single document models to solve it.'),\n",
            " (<class 'SummerTime.summertime.model.query_based.tf_idf_model.TFIDFSummModel'>,\n",
            "  'QueryBasedSummModel performs query-based summarization. Given a query-text '\n",
            "  'pair,the model will first extract the most relevant sentences in articles '\n",
            "  'or turns in dialogues, then use the single document summarization model to '\n",
            "  'generate the summary'),\n",
            " (<class 'SummerTime.summertime.model.query_based.bm25_model.BM25SummModel'>,\n",
            "  'QueryBasedSummModel performs query-based summarization. Given a query-text '\n",
            "  'pair,the model will first extract the most relevant sentences in articles '\n",
            "  'or turns in dialogues, then use the single document summarization model to '\n",
            "  'generate the summary')]\n"
          ]
        }
      ]
    },
    {
      "cell_type": "code",
      "source": [
        "from summertime.model import SUPPORTED_SUMM_MODELS\n",
        "from summertime import model\n",
        "# Or a specific model\n"
      ],
      "metadata": {
        "id": "fXrpAmz3aH9x"
      },
      "execution_count": null,
      "outputs": []
    },
    {
      "cell_type": "code",
      "source": [
        "mbart_model = model.MBartModel()\n",
        "mbart_model.show_capability()"
      ],
      "metadata": {
        "colab": {
          "base_uri": "https://localhost:8080/"
        },
        "id": "nIkF_5kpkSks",
        "outputId": "469ec0ad-1b08-45b9-f05e-9959e313496d"
      },
      "execution_count": null,
      "outputs": [
        {
          "output_type": "stream",
          "name": "stdout",
          "text": [
            "mBART is a abstractive, neural model for summarization. \n",
            " #################### \n",
            " Introduced in 2020, a multilingual variant of BART (a large neural model) trained on web crawl data.\n",
            "Strengths: \n",
            " - Multilinguality: supports 50 different languages\n",
            " - Higher max input length than mT5 (1024)Weaknesses: \n",
            " - High memory usageInitialization arguments: \n",
            " - `device = 'cpu'` specifies the device the model is stored on and uses for computation. Use `device='cuda'` to run on an Nvidia GPU.\n"
          ]
        }
      ]
    },
    {
      "cell_type": "code",
      "source": [
        "documents = [\n",
        "    \"\"\" PG&E stated it scheduled the blackouts in response to forecasts for high winds amid dry conditions. The aim is to reduce the risk of wildfires. Nearly 800 thousand customers were scheduled to be affected  by the shutoffs which were expected to last through at least midday tomorrow.\"\"\"\n",
        "]\n",
        "mbart_model.summarize(documents)"
      ],
      "metadata": {
        "colab": {
          "base_uri": "https://localhost:8080/"
        },
        "id": "Ab5jLeZalKWU",
        "outputId": "86827925-f545-4cce-8332-116d3cad3d2b"
      },
      "execution_count": null,
      "outputs": [
        {
          "output_type": "stream",
          "name": "stdout",
          "text": [
            "Start downloading /root/.cache/huggingface/fasttext/lid.176.ftz from https://dl.fbaipublicfiles.com/fasttext/supervised-models/lid.176.ftz...\n"
          ]
        },
        {
          "output_type": "stream",
          "name": "stderr",
          "text": [
            "\n"
          ]
        },
        {
          "output_type": "stream",
          "name": "stdout",
          "text": [
            "Supported language 'en' detected.\n"
          ]
        },
        {
          "output_type": "stream",
          "name": "stderr",
          "text": [
            "/usr/local/lib/python3.7/dist-packages/transformers/generation_utils.py:1777: UserWarning: __floordiv__ is deprecated, and its behavior will change in a future version of pytorch. It currently rounds toward 0 (like the 'trunc' function NOT 'floor'). This results in incorrect rounding for negative values. To keep the current behavior, use torch.div(a, b, rounding_mode='trunc'), or for actual floor division, use torch.div(a, b, rounding_mode='floor').\n",
            "  next_indices = next_tokens // vocab_size\n"
          ]
        },
        {
          "output_type": "execute_result",
          "data": {
            "text/plain": [
              "['PG&E stated it scheduled the blackouts in response to forecasts for high winds amid dry conditions. The aim is to reduce the risk of wildfires. Nearly 800 thousand customers were scheduled to be affected by the shutoffs which were expected to last through at least midday tomorrow.']"
            ]
          },
          "metadata": {},
          "execution_count": 9
        }
      ]
    },
    {
      "cell_type": "code",
      "source": [
        "!pwd"
      ],
      "metadata": {
        "colab": {
          "base_uri": "https://localhost:8080/"
        },
        "id": "ir9MuthVtOdo",
        "outputId": "1e17b9bd-246d-4ae6-d2fc-e3bd00e65e87"
      },
      "execution_count": null,
      "outputs": [
        {
          "output_type": "stream",
          "name": "stdout",
          "text": [
            "/content/SummerTime\n"
          ]
        }
      ]
    },
    {
      "cell_type": "code",
      "source": [
        "!unzip /content/Testing.zip -d /content/Spanish"
      ],
      "metadata": {
        "colab": {
          "base_uri": "https://localhost:8080/"
        },
        "id": "rLpLD5zXl2bj",
        "outputId": "2666b634-1b46-4b0d-808b-733abb0b1f70"
      },
      "execution_count": null,
      "outputs": [
        {
          "output_type": "stream",
          "name": "stdout",
          "text": [
            "Archive:  /content/Testing.zip\n",
            "   creating: /content/Spanish/annual_reports/\n",
            "  inflating: /content/Spanish/annual_reports/001.txt  \n",
            "  inflating: /content/Spanish/annual_reports/002.txt  \n",
            "  inflating: /content/Spanish/annual_reports/003.txt  \n",
            "  inflating: /content/Spanish/annual_reports/004.txt  \n",
            "  inflating: /content/Spanish/annual_reports/005.txt  \n",
            "  inflating: /content/Spanish/annual_reports/006.txt  \n",
            "  inflating: /content/Spanish/annual_reports/007.txt  \n",
            "  inflating: /content/Spanish/annual_reports/008.txt  \n",
            "  inflating: /content/Spanish/annual_reports/009.txt  \n",
            "  inflating: /content/Spanish/annual_reports/010.txt  \n",
            "  inflating: /content/Spanish/annual_reports/011.txt  \n",
            "  inflating: /content/Spanish/annual_reports/012.txt  \n",
            "  inflating: /content/Spanish/annual_reports/013.txt  \n",
            "  inflating: /content/Spanish/annual_reports/014.txt  \n",
            "  inflating: /content/Spanish/annual_reports/015.txt  \n",
            "  inflating: /content/Spanish/annual_reports/016.txt  \n",
            "  inflating: /content/Spanish/annual_reports/017.txt  \n",
            "  inflating: /content/Spanish/annual_reports/018.txt  \n",
            "  inflating: /content/Spanish/annual_reports/019.txt  \n",
            "  inflating: /content/Spanish/annual_reports/020.txt  \n",
            "  inflating: /content/Spanish/annual_reports/021.txt  \n",
            "  inflating: /content/Spanish/annual_reports/022.txt  \n",
            "  inflating: /content/Spanish/annual_reports/023.txt  \n",
            "  inflating: /content/Spanish/annual_reports/024.txt  \n",
            "  inflating: /content/Spanish/annual_reports/025.txt  \n",
            "  inflating: /content/Spanish/annual_reports/026.txt  \n",
            "  inflating: /content/Spanish/annual_reports/027.txt  \n",
            "  inflating: /content/Spanish/annual_reports/028.txt  \n",
            "  inflating: /content/Spanish/annual_reports/029.txt  \n",
            "  inflating: /content/Spanish/annual_reports/030.txt  \n",
            "  inflating: /content/Spanish/annual_reports/031.txt  \n",
            "  inflating: /content/Spanish/annual_reports/032.txt  \n",
            "  inflating: /content/Spanish/annual_reports/033.txt  \n",
            "  inflating: /content/Spanish/annual_reports/034.txt  \n",
            "  inflating: /content/Spanish/annual_reports/035.txt  \n",
            "  inflating: /content/Spanish/annual_reports/036.txt  \n",
            "  inflating: /content/Spanish/annual_reports/037.txt  \n",
            "  inflating: /content/Spanish/annual_reports/038.txt  \n",
            "  inflating: /content/Spanish/annual_reports/039.txt  \n",
            "  inflating: /content/Spanish/annual_reports/040.txt  \n",
            "  inflating: /content/Spanish/annual_reports/041.txt  \n",
            "  inflating: /content/Spanish/annual_reports/042.txt  \n",
            "  inflating: /content/Spanish/annual_reports/043.txt  \n",
            "  inflating: /content/Spanish/annual_reports/044.txt  \n",
            "  inflating: /content/Spanish/annual_reports/045.txt  \n",
            "  inflating: /content/Spanish/annual_reports/046.txt  \n",
            "  inflating: /content/Spanish/annual_reports/047.txt  \n",
            "  inflating: /content/Spanish/annual_reports/048.txt  \n",
            "  inflating: /content/Spanish/annual_reports/049.txt  \n",
            "  inflating: /content/Spanish/annual_reports/050.txt  \n"
          ]
        }
      ]
    },
    {
      "cell_type": "code",
      "source": [
        "!mkdir /content/Spanish/output_mbart"
      ],
      "metadata": {
        "id": "eF7RxQqrnkfM"
      },
      "execution_count": null,
      "outputs": []
    },
    {
      "cell_type": "code",
      "source": [
        "for file in os.listdir('/content/Spanish/annual_reports'):\n",
        "  content = open('/content/Spanish/annual_reports/' + file, 'r').read().replace('\\n', ' ')\n",
        "  sum = mbart_model.summarize([content])\n",
        "  id = file.replace('.txt', '')\n",
        "  open('/content/Spanish/output_mbart/'+ id + '_LIPI.txt', 'w').write(sum[0])"
      ],
      "metadata": {
        "colab": {
          "base_uri": "https://localhost:8080/"
        },
        "id": "SbWD1FSfmaif",
        "outputId": "04e05fff-880b-40bd-b069-98113839a4c9"
      },
      "execution_count": null,
      "outputs": [
        {
          "metadata": {
            "tags": null
          },
          "name": "stdout",
          "output_type": "stream",
          "text": [
            "Warning: non-ASCII input corpus detected!\n",
            "If this is not English, consider using one of our multilingual models such as summertime.model.multilingual.MBartModel .\n",
            "Supported language 'es' detected.\n"
          ]
        },
        {
          "metadata": {
            "tags": null
          },
          "name": "stderr",
          "output_type": "stream",
          "text": [
            "/usr/local/lib/python3.7/dist-packages/transformers/generation_utils.py:1777: UserWarning: __floordiv__ is deprecated, and its behavior will change in a future version of pytorch. It currently rounds toward 0 (like the 'trunc' function NOT 'floor'). This results in incorrect rounding for negative values. To keep the current behavior, use torch.div(a, b, rounding_mode='trunc'), or for actual floor division, use torch.div(a, b, rounding_mode='floor').\n",
            "  next_indices = next_tokens // vocab_size\n"
          ]
        },
        {
          "output_type": "stream",
          "name": "stdout",
          "text": [
            "Warning: non-ASCII input corpus detected!\n",
            "If this is not English, consider using one of our multilingual models such as summertime.model.multilingual.MBartModel .\n",
            "Supported language 'es' detected.\n",
            "Warning: non-ASCII input corpus detected!\n",
            "If this is not English, consider using one of our multilingual models such as summertime.model.multilingual.MBartModel .\n",
            "Supported language 'es' detected.\n",
            "Warning: non-ASCII input corpus detected!\n",
            "If this is not English, consider using one of our multilingual models such as summertime.model.multilingual.MBartModel .\n",
            "Supported language 'es' detected.\n",
            "Warning: non-ASCII input corpus detected!\n",
            "If this is not English, consider using one of our multilingual models such as summertime.model.multilingual.MBartModel .\n",
            "Supported language 'es' detected.\n",
            "Warning: non-ASCII input corpus detected!\n",
            "If this is not English, consider using one of our multilingual models such as summertime.model.multilingual.MBartModel .\n",
            "Supported language 'es' detected.\n",
            "Warning: non-ASCII input corpus detected!\n",
            "If this is not English, consider using one of our multilingual models such as summertime.model.multilingual.MBartModel .\n",
            "Supported language 'es' detected.\n",
            "Warning: non-ASCII input corpus detected!\n",
            "If this is not English, consider using one of our multilingual models such as summertime.model.multilingual.MBartModel .\n",
            "Supported language 'es' detected.\n",
            "Warning: non-ASCII input corpus detected!\n",
            "If this is not English, consider using one of our multilingual models such as summertime.model.multilingual.MBartModel .\n",
            "Supported language 'es' detected.\n",
            "Warning: non-ASCII input corpus detected!\n",
            "If this is not English, consider using one of our multilingual models such as summertime.model.multilingual.MBartModel .\n",
            "Supported language 'es' detected.\n",
            "Warning: non-ASCII input corpus detected!\n",
            "If this is not English, consider using one of our multilingual models such as summertime.model.multilingual.MBartModel .\n",
            "Supported language 'es' detected.\n",
            "Warning: non-ASCII input corpus detected!\n",
            "If this is not English, consider using one of our multilingual models such as summertime.model.multilingual.MBartModel .\n",
            "Supported language 'es' detected.\n",
            "Warning: non-ASCII input corpus detected!\n",
            "If this is not English, consider using one of our multilingual models such as summertime.model.multilingual.MBartModel .\n",
            "Supported language 'es' detected.\n",
            "Warning: non-ASCII input corpus detected!\n",
            "If this is not English, consider using one of our multilingual models such as summertime.model.multilingual.MBartModel .\n",
            "Supported language 'es' detected.\n",
            "Warning: non-ASCII input corpus detected!\n",
            "If this is not English, consider using one of our multilingual models such as summertime.model.multilingual.MBartModel .\n",
            "Supported language 'es' detected.\n",
            "Warning: non-ASCII input corpus detected!\n",
            "If this is not English, consider using one of our multilingual models such as summertime.model.multilingual.MBartModel .\n",
            "Supported language 'es' detected.\n",
            "Warning: non-ASCII input corpus detected!\n",
            "If this is not English, consider using one of our multilingual models such as summertime.model.multilingual.MBartModel .\n",
            "Supported language 'es' detected.\n",
            "Warning: non-ASCII input corpus detected!\n",
            "If this is not English, consider using one of our multilingual models such as summertime.model.multilingual.MBartModel .\n",
            "Supported language 'es' detected.\n",
            "Warning: non-ASCII input corpus detected!\n",
            "If this is not English, consider using one of our multilingual models such as summertime.model.multilingual.MBartModel .\n",
            "Supported language 'es' detected.\n",
            "Warning: non-ASCII input corpus detected!\n",
            "If this is not English, consider using one of our multilingual models such as summertime.model.multilingual.MBartModel .\n",
            "Supported language 'es' detected.\n",
            "Warning: non-ASCII input corpus detected!\n",
            "If this is not English, consider using one of our multilingual models such as summertime.model.multilingual.MBartModel .\n",
            "Supported language 'es' detected.\n",
            "Warning: non-ASCII input corpus detected!\n",
            "If this is not English, consider using one of our multilingual models such as summertime.model.multilingual.MBartModel .\n",
            "Supported language 'es' detected.\n",
            "Warning: non-ASCII input corpus detected!\n",
            "If this is not English, consider using one of our multilingual models such as summertime.model.multilingual.MBartModel .\n",
            "Supported language 'es' detected.\n",
            "Warning: non-ASCII input corpus detected!\n",
            "If this is not English, consider using one of our multilingual models such as summertime.model.multilingual.MBartModel .\n",
            "Supported language 'es' detected.\n",
            "Warning: non-ASCII input corpus detected!\n",
            "If this is not English, consider using one of our multilingual models such as summertime.model.multilingual.MBartModel .\n",
            "Supported language 'es' detected.\n",
            "Warning: non-ASCII input corpus detected!\n",
            "If this is not English, consider using one of our multilingual models such as summertime.model.multilingual.MBartModel .\n",
            "Supported language 'es' detected.\n",
            "Warning: non-ASCII input corpus detected!\n",
            "If this is not English, consider using one of our multilingual models such as summertime.model.multilingual.MBartModel .\n",
            "Supported language 'es' detected.\n",
            "Warning: non-ASCII input corpus detected!\n",
            "If this is not English, consider using one of our multilingual models such as summertime.model.multilingual.MBartModel .\n",
            "Supported language 'es' detected.\n",
            "Warning: non-ASCII input corpus detected!\n",
            "If this is not English, consider using one of our multilingual models such as summertime.model.multilingual.MBartModel .\n",
            "Supported language 'es' detected.\n",
            "Warning: non-ASCII input corpus detected!\n",
            "If this is not English, consider using one of our multilingual models such as summertime.model.multilingual.MBartModel .\n",
            "Supported language 'es' detected.\n",
            "Warning: non-ASCII input corpus detected!\n",
            "If this is not English, consider using one of our multilingual models such as summertime.model.multilingual.MBartModel .\n",
            "Supported language 'es' detected.\n",
            "Warning: non-ASCII input corpus detected!\n",
            "If this is not English, consider using one of our multilingual models such as summertime.model.multilingual.MBartModel .\n",
            "Supported language 'es' detected.\n",
            "Warning: non-ASCII input corpus detected!\n",
            "If this is not English, consider using one of our multilingual models such as summertime.model.multilingual.MBartModel .\n",
            "Supported language 'es' detected.\n",
            "Warning: non-ASCII input corpus detected!\n",
            "If this is not English, consider using one of our multilingual models such as summertime.model.multilingual.MBartModel .\n",
            "Supported language 'es' detected.\n",
            "Warning: non-ASCII input corpus detected!\n",
            "If this is not English, consider using one of our multilingual models such as summertime.model.multilingual.MBartModel .\n",
            "Supported language 'es' detected.\n",
            "Warning: non-ASCII input corpus detected!\n",
            "If this is not English, consider using one of our multilingual models such as summertime.model.multilingual.MBartModel .\n",
            "Supported language 'es' detected.\n",
            "Warning: non-ASCII input corpus detected!\n",
            "If this is not English, consider using one of our multilingual models such as summertime.model.multilingual.MBartModel .\n",
            "Supported language 'es' detected.\n",
            "Warning: non-ASCII input corpus detected!\n",
            "If this is not English, consider using one of our multilingual models such as summertime.model.multilingual.MBartModel .\n",
            "Supported language 'es' detected.\n",
            "Warning: non-ASCII input corpus detected!\n",
            "If this is not English, consider using one of our multilingual models such as summertime.model.multilingual.MBartModel .\n",
            "Supported language 'es' detected.\n",
            "Warning: non-ASCII input corpus detected!\n",
            "If this is not English, consider using one of our multilingual models such as summertime.model.multilingual.MBartModel .\n",
            "Supported language 'es' detected.\n",
            "Warning: non-ASCII input corpus detected!\n",
            "If this is not English, consider using one of our multilingual models such as summertime.model.multilingual.MBartModel .\n",
            "Supported language 'es' detected.\n",
            "Warning: non-ASCII input corpus detected!\n",
            "If this is not English, consider using one of our multilingual models such as summertime.model.multilingual.MBartModel .\n",
            "Supported language 'es' detected.\n",
            "Warning: non-ASCII input corpus detected!\n",
            "If this is not English, consider using one of our multilingual models such as summertime.model.multilingual.MBartModel .\n",
            "Supported language 'es' detected.\n",
            "Warning: non-ASCII input corpus detected!\n",
            "If this is not English, consider using one of our multilingual models such as summertime.model.multilingual.MBartModel .\n",
            "Supported language 'es' detected.\n",
            "Warning: non-ASCII input corpus detected!\n",
            "If this is not English, consider using one of our multilingual models such as summertime.model.multilingual.MBartModel .\n",
            "Supported language 'es' detected.\n",
            "Warning: non-ASCII input corpus detected!\n",
            "If this is not English, consider using one of our multilingual models such as summertime.model.multilingual.MBartModel .\n",
            "Supported language 'es' detected.\n",
            "Warning: non-ASCII input corpus detected!\n",
            "If this is not English, consider using one of our multilingual models such as summertime.model.multilingual.MBartModel .\n",
            "Supported language 'es' detected.\n",
            "Warning: non-ASCII input corpus detected!\n",
            "If this is not English, consider using one of our multilingual models such as summertime.model.multilingual.MBartModel .\n",
            "Supported language 'es' detected.\n",
            "Warning: non-ASCII input corpus detected!\n",
            "If this is not English, consider using one of our multilingual models such as summertime.model.multilingual.MBartModel .\n",
            "Supported language 'es' detected.\n",
            "Warning: non-ASCII input corpus detected!\n",
            "If this is not English, consider using one of our multilingual models such as summertime.model.multilingual.MBartModel .\n",
            "Supported language 'es' detected.\n"
          ]
        }
      ]
    },
    {
      "cell_type": "code",
      "source": [
        "!zip -r /content/Spanish_Mbart.zip /content/Spanish/output_mbart/"
      ],
      "metadata": {
        "colab": {
          "base_uri": "https://localhost:8080/"
        },
        "id": "bcozKnT3nJKx",
        "outputId": "77474535-fd5c-4f49-f6b1-24ce9461b4d9"
      },
      "execution_count": null,
      "outputs": [
        {
          "output_type": "stream",
          "name": "stdout",
          "text": [
            "  adding: content/Spanish/output_mbart/ (stored 0%)\n",
            "  adding: content/Spanish/output_mbart/007_LIPI.txt (deflated 41%)\n",
            "  adding: content/Spanish/output_mbart/021_LIPI.txt (deflated 38%)\n",
            "  adding: content/Spanish/output_mbart/048_LIPI.txt (deflated 29%)\n",
            "  adding: content/Spanish/output_mbart/028_LIPI.txt (deflated 42%)\n",
            "  adding: content/Spanish/output_mbart/002_LIPI.txt (deflated 42%)\n",
            "  adding: content/Spanish/output_mbart/012_LIPI.txt (deflated 43%)\n",
            "  adding: content/Spanish/output_mbart/013_LIPI.txt (deflated 35%)\n",
            "  adding: content/Spanish/output_mbart/035_LIPI.txt (deflated 42%)\n",
            "  adding: content/Spanish/output_mbart/042_LIPI.txt (deflated 40%)\n",
            "  adding: content/Spanish/output_mbart/046_LIPI.txt (deflated 44%)\n",
            "  adding: content/Spanish/output_mbart/032_LIPI.txt (deflated 17%)\n",
            "  adding: content/Spanish/output_mbart/029_LIPI.txt (deflated 44%)\n",
            "  adding: content/Spanish/output_mbart/044_LIPI.txt (deflated 43%)\n",
            "  adding: content/Spanish/output_mbart/014_LIPI.txt (deflated 39%)\n",
            "  adding: content/Spanish/output_mbart/040_LIPI.txt (deflated 49%)\n",
            "  adding: content/Spanish/output_mbart/036_LIPI.txt (deflated 64%)\n",
            "  adding: content/Spanish/output_mbart/005_LIPI.txt (deflated 40%)\n",
            "  adding: content/Spanish/output_mbart/009_LIPI.txt (deflated 35%)\n",
            "  adding: content/Spanish/output_mbart/008_LIPI.txt (deflated 80%)\n",
            "  adding: content/Spanish/output_mbart/020_LIPI.txt (deflated 39%)\n",
            "  adding: content/Spanish/output_mbart/015_LIPI.txt (deflated 41%)\n",
            "  adding: content/Spanish/output_mbart/045_LIPI.txt (deflated 40%)\n",
            "  adding: content/Spanish/output_mbart/024_LIPI.txt (deflated 40%)\n",
            "  adding: content/Spanish/output_mbart/033_LIPI.txt (deflated 41%)\n",
            "  adding: content/Spanish/output_mbart/.ipynb_checkpoints/ (stored 0%)\n",
            "  adding: content/Spanish/output_mbart/038_LIPI.txt (deflated 39%)\n",
            "  adding: content/Spanish/output_mbart/023_LIPI.txt (deflated 36%)\n",
            "  adding: content/Spanish/output_mbart/003_LIPI.txt (deflated 43%)\n",
            "  adding: content/Spanish/output_mbart/017_LIPI.txt (deflated 41%)\n",
            "  adding: content/Spanish/output_mbart/022_LIPI.txt (deflated 45%)\n",
            "  adding: content/Spanish/output_mbart/041_LIPI.txt (deflated 47%)\n",
            "  adding: content/Spanish/output_mbart/049_LIPI.txt (deflated 49%)\n",
            "  adding: content/Spanish/output_mbart/011_LIPI.txt (deflated 51%)\n",
            "  adding: content/Spanish/output_mbart/030_LIPI.txt (deflated 49%)\n",
            "  adding: content/Spanish/output_mbart/004_LIPI.txt (deflated 45%)\n",
            "  adding: content/Spanish/output_mbart/050_LIPI.txt (deflated 44%)\n",
            "  adding: content/Spanish/output_mbart/019_LIPI.txt (deflated 44%)\n",
            "  adding: content/Spanish/output_mbart/031_LIPI.txt (deflated 58%)\n",
            "  adding: content/Spanish/output_mbart/043_LIPI.txt (deflated 40%)\n",
            "  adding: content/Spanish/output_mbart/006_LIPI.txt (deflated 40%)\n",
            "  adding: content/Spanish/output_mbart/010_LIPI.txt (deflated 40%)\n",
            "  adding: content/Spanish/output_mbart/025_LIPI.txt (deflated 47%)\n",
            "  adding: content/Spanish/output_mbart/016_LIPI.txt (deflated 43%)\n",
            "  adding: content/Spanish/output_mbart/026_LIPI.txt (deflated 48%)\n",
            "  adding: content/Spanish/output_mbart/037_LIPI.txt (deflated 45%)\n",
            "  adding: content/Spanish/output_mbart/018_LIPI.txt (deflated 36%)\n",
            "  adding: content/Spanish/output_mbart/001_LIPI.txt (deflated 45%)\n",
            "  adding: content/Spanish/output_mbart/039_LIPI.txt (deflated 47%)\n",
            "  adding: content/Spanish/output_mbart/034_LIPI.txt (deflated 43%)\n",
            "  adding: content/Spanish/output_mbart/047_LIPI.txt (deflated 32%)\n",
            "  adding: content/Spanish/output_mbart/027_LIPI.txt (deflated 43%)\n"
          ]
        }
      ]
    },
    {
      "cell_type": "code",
      "source": [
        "!mkdir /content/Spanish/output_mt5"
      ],
      "metadata": {
        "id": "LidXJbTWqEUx"
      },
      "execution_count": null,
      "outputs": []
    },
    {
      "cell_type": "code",
      "source": [
        "mt5_model = model.MT5Model()\n",
        "mt5_model.show_capability()"
      ],
      "metadata": {
        "colab": {
          "base_uri": "https://localhost:8080/",
          "height": 440,
          "referenced_widgets": [
            "6ea2328f0d1f4ba19be9fbc324fc0782",
            "3589e3f736c64e5aa709dd52d4c65092",
            "cc1be3c288504be7a065def144177f15",
            "663f5dd1fc1a441c8a8179dba079bf3b",
            "7d74d29c90c742708ac7c9ee8e77035c",
            "80452796444e421dbe70494415f6163e",
            "081302812d2845d9b7e31290054778ea",
            "cbe19b889979451d813ca75a1ece8d3b",
            "b8b3322eccd94bbc8c7f123be9ae8ddf",
            "3a0d27da492b443c9e7416741efb68be",
            "5d29dbaa3b71422c9e762a9f29515888",
            "013542b45b004a798858c4e14a426365",
            "b79db5ed70014645b5c93863e8be99a0",
            "0e12a9bfefaa44f7a73cdd0853c7ba37",
            "e0db0ec3f37a46a5af59ae0896105224",
            "7c838fbf5e074f0f9f6f64e52f0915b6",
            "02fad30524ef447a894c1d68e94a2b85",
            "a4673c844e5545b393be73e13efe78e4",
            "e2d646dd63f44ccaa4f6f9f3b2b677da",
            "8c2ee05a7c5b471a9ac53c70a0f205f9",
            "72324b51515342a29bb3463eb4bf59e5",
            "60ffa6119be44dea99cac32748f3f98d",
            "349177e034154ed78eb260e37d8bbf62",
            "2488c3152bc6478cbe01e11d4448cdd8",
            "f8baf9dde778422f81c3dfd4a6632bb4",
            "d02f95d4647c4af7bb731760f7f666cf",
            "4d84badbfc7c43bea2aa2ec908eb2ef5",
            "1bc5565cfe9a452f8a9a0f537e2c05c2",
            "8f1893e012634501956021387574d6cb",
            "3d203e64420345c1a8780e0aaff5a908",
            "5a4c9c45358e4c3db24585f5abd5164c",
            "70888cb25b6742bab5f685c46abf4d0d",
            "c7af48e051cc4f2cb2f12e7c5b23af9d",
            "c68518dbb0c04406b1faf93957debb56",
            "8b6d9b34ae6a40cf9de4768371b0f7fe",
            "5694b6473e9b48869646450995d463a4",
            "59e05216f2364c959aec8198a0d8299d",
            "bc1138704c434d02b85a8984512784d8",
            "a9b2334cb9444dd18e0bd47faff4a257",
            "ae06a27c44b04e9cb888b56310554b59"
          ]
        },
        "id": "vSam4afuu_gR",
        "outputId": "dbc429a8-1d6b-4b56-ea3a-5b65e3831a78"
      },
      "execution_count": null,
      "outputs": [
        {
          "output_type": "display_data",
          "data": {
            "text/plain": [
              "HBox(children=(FloatProgress(value=0.0, description='Downloading', max=4309802.0, style=ProgressStyle(descript…"
            ],
            "application/vnd.jupyter.widget-view+json": {
              "version_major": 2,
              "version_minor": 0,
              "model_id": "6ea2328f0d1f4ba19be9fbc324fc0782"
            }
          },
          "metadata": {}
        },
        {
          "output_type": "stream",
          "name": "stdout",
          "text": [
            "\n"
          ]
        },
        {
          "output_type": "display_data",
          "data": {
            "text/plain": [
              "HBox(children=(FloatProgress(value=0.0, description='Downloading', max=65.0, style=ProgressStyle(description_w…"
            ],
            "application/vnd.jupyter.widget-view+json": {
              "version_major": 2,
              "version_minor": 0,
              "model_id": "b8b3322eccd94bbc8c7f123be9ae8ddf"
            }
          },
          "metadata": {}
        },
        {
          "output_type": "stream",
          "name": "stdout",
          "text": [
            "\n"
          ]
        },
        {
          "output_type": "display_data",
          "data": {
            "text/plain": [
              "HBox(children=(FloatProgress(value=0.0, description='Downloading', max=375.0, style=ProgressStyle(description_…"
            ],
            "application/vnd.jupyter.widget-view+json": {
              "version_major": 2,
              "version_minor": 0,
              "model_id": "02fad30524ef447a894c1d68e94a2b85"
            }
          },
          "metadata": {}
        },
        {
          "output_type": "stream",
          "name": "stdout",
          "text": [
            "\n"
          ]
        },
        {
          "output_type": "display_data",
          "data": {
            "text/plain": [
              "HBox(children=(FloatProgress(value=0.0, description='Downloading', max=730.0, style=ProgressStyle(description_…"
            ],
            "application/vnd.jupyter.widget-view+json": {
              "version_major": 2,
              "version_minor": 0,
              "model_id": "f8baf9dde778422f81c3dfd4a6632bb4"
            }
          },
          "metadata": {}
        },
        {
          "output_type": "stream",
          "name": "stdout",
          "text": [
            "\n"
          ]
        },
        {
          "output_type": "display_data",
          "data": {
            "text/plain": [
              "HBox(children=(FloatProgress(value=0.0, description='Downloading', max=2329707353.0, style=ProgressStyle(descr…"
            ],
            "application/vnd.jupyter.widget-view+json": {
              "version_major": 2,
              "version_minor": 0,
              "model_id": "c7af48e051cc4f2cb2f12e7c5b23af9d"
            }
          },
          "metadata": {}
        },
        {
          "output_type": "stream",
          "name": "stdout",
          "text": [
            "\n",
            "mT5 is a abstractive, neural model for summarization. \n",
            " #################### \n",
            " Introduced in ____, a massively multilingual variant of Google's T5, a large neural model. Trained on web crawled data and fine-tuned on XLSum, a 45-language multilingual news dataset.\n",
            "Strengths: \n",
            " - Massively multilingual: supports 101 different languages\n",
            "Weaknesses: \n",
            " - High memory usage\n",
            " - Lower max input length (512)Initialization arguments: \n",
            " - `device = 'cpu'` specifies the device the model is stored on and uses for computation. Use `device='cuda'` to run on an Nvidia GPU.\n"
          ]
        }
      ]
    },
    {
      "cell_type": "code",
      "source": [
        "cnt = 1\n",
        "for file in os.listdir('/content/Spanish/annual_reports'):\n",
        "  content = open('/content/Spanish/annual_reports/' + file, 'r').read().replace('\\n', ' ')\n",
        "  sum = mt5_model.summarize([content])\n",
        "  id = file.replace('.txt', '')\n",
        "  open('/content/Spanish/output_mt5/'+ id + '_LIPI.txt', 'w').write(sum[0])\n",
        "  print(\"-------------------\"+str(cnt)+\"--------------------\")\n",
        "  cnt = cnt + 1"
      ],
      "metadata": {
        "colab": {
          "base_uri": "https://localhost:8080/"
        },
        "id": "T2nXeekkvQl6",
        "outputId": "3c65bcbf-f48d-4bda-f30a-433ad7ab20e4"
      },
      "execution_count": null,
      "outputs": [
        {
          "output_type": "stream",
          "name": "stdout",
          "text": [
            "Warning: non-ASCII input corpus detected!\n",
            "If this is not English, consider using one of our multilingual models such as summertime.model.multilingual.MBartModel .\n",
            "Supported language 'es' detected.\n"
          ]
        },
        {
          "output_type": "stream",
          "name": "stderr",
          "text": [
            "/usr/local/lib/python3.7/dist-packages/transformers/generation_utils.py:1777: UserWarning: __floordiv__ is deprecated, and its behavior will change in a future version of pytorch. It currently rounds toward 0 (like the 'trunc' function NOT 'floor'). This results in incorrect rounding for negative values. To keep the current behavior, use torch.div(a, b, rounding_mode='trunc'), or for actual floor division, use torch.div(a, b, rounding_mode='floor').\n",
            "  next_indices = next_tokens // vocab_size\n"
          ]
        },
        {
          "output_type": "stream",
          "name": "stdout",
          "text": [
            "-------------------1--------------------\n",
            "Warning: non-ASCII input corpus detected!\n",
            "If this is not English, consider using one of our multilingual models such as summertime.model.multilingual.MBartModel .\n",
            "Supported language 'es' detected.\n",
            "-------------------2--------------------\n",
            "Warning: non-ASCII input corpus detected!\n",
            "If this is not English, consider using one of our multilingual models such as summertime.model.multilingual.MBartModel .\n",
            "Supported language 'es' detected.\n",
            "-------------------3--------------------\n",
            "Warning: non-ASCII input corpus detected!\n",
            "If this is not English, consider using one of our multilingual models such as summertime.model.multilingual.MBartModel .\n",
            "Supported language 'es' detected.\n",
            "-------------------4--------------------\n",
            "Warning: non-ASCII input corpus detected!\n",
            "If this is not English, consider using one of our multilingual models such as summertime.model.multilingual.MBartModel .\n",
            "Supported language 'es' detected.\n",
            "-------------------5--------------------\n",
            "Warning: non-ASCII input corpus detected!\n",
            "If this is not English, consider using one of our multilingual models such as summertime.model.multilingual.MBartModel .\n",
            "Supported language 'es' detected.\n",
            "-------------------6--------------------\n",
            "Warning: non-ASCII input corpus detected!\n",
            "If this is not English, consider using one of our multilingual models such as summertime.model.multilingual.MBartModel .\n",
            "Supported language 'es' detected.\n",
            "-------------------7--------------------\n",
            "Warning: non-ASCII input corpus detected!\n",
            "If this is not English, consider using one of our multilingual models such as summertime.model.multilingual.MBartModel .\n",
            "Supported language 'es' detected.\n",
            "-------------------8--------------------\n",
            "Warning: non-ASCII input corpus detected!\n",
            "If this is not English, consider using one of our multilingual models such as summertime.model.multilingual.MBartModel .\n",
            "Supported language 'es' detected.\n",
            "-------------------9--------------------\n",
            "Warning: non-ASCII input corpus detected!\n",
            "If this is not English, consider using one of our multilingual models such as summertime.model.multilingual.MBartModel .\n",
            "Supported language 'es' detected.\n",
            "-------------------10--------------------\n",
            "Warning: non-ASCII input corpus detected!\n",
            "If this is not English, consider using one of our multilingual models such as summertime.model.multilingual.MBartModel .\n",
            "Supported language 'es' detected.\n",
            "-------------------11--------------------\n",
            "Warning: non-ASCII input corpus detected!\n",
            "If this is not English, consider using one of our multilingual models such as summertime.model.multilingual.MBartModel .\n",
            "Supported language 'es' detected.\n",
            "-------------------12--------------------\n",
            "Warning: non-ASCII input corpus detected!\n",
            "If this is not English, consider using one of our multilingual models such as summertime.model.multilingual.MBartModel .\n",
            "Supported language 'es' detected.\n",
            "-------------------13--------------------\n",
            "Warning: non-ASCII input corpus detected!\n",
            "If this is not English, consider using one of our multilingual models such as summertime.model.multilingual.MBartModel .\n",
            "Supported language 'es' detected.\n",
            "-------------------14--------------------\n",
            "Warning: non-ASCII input corpus detected!\n",
            "If this is not English, consider using one of our multilingual models such as summertime.model.multilingual.MBartModel .\n",
            "Supported language 'es' detected.\n",
            "-------------------15--------------------\n",
            "Warning: non-ASCII input corpus detected!\n",
            "If this is not English, consider using one of our multilingual models such as summertime.model.multilingual.MBartModel .\n",
            "Supported language 'es' detected.\n",
            "-------------------16--------------------\n",
            "Warning: non-ASCII input corpus detected!\n",
            "If this is not English, consider using one of our multilingual models such as summertime.model.multilingual.MBartModel .\n",
            "Supported language 'es' detected.\n",
            "-------------------17--------------------\n",
            "Warning: non-ASCII input corpus detected!\n",
            "If this is not English, consider using one of our multilingual models such as summertime.model.multilingual.MBartModel .\n",
            "Supported language 'es' detected.\n",
            "-------------------18--------------------\n",
            "Warning: non-ASCII input corpus detected!\n",
            "If this is not English, consider using one of our multilingual models such as summertime.model.multilingual.MBartModel .\n",
            "Supported language 'es' detected.\n",
            "-------------------19--------------------\n",
            "Warning: non-ASCII input corpus detected!\n",
            "If this is not English, consider using one of our multilingual models such as summertime.model.multilingual.MBartModel .\n",
            "Supported language 'es' detected.\n",
            "-------------------20--------------------\n",
            "Warning: non-ASCII input corpus detected!\n",
            "If this is not English, consider using one of our multilingual models such as summertime.model.multilingual.MBartModel .\n",
            "Supported language 'es' detected.\n",
            "-------------------21--------------------\n",
            "Warning: non-ASCII input corpus detected!\n",
            "If this is not English, consider using one of our multilingual models such as summertime.model.multilingual.MBartModel .\n",
            "Supported language 'es' detected.\n",
            "-------------------22--------------------\n",
            "Warning: non-ASCII input corpus detected!\n",
            "If this is not English, consider using one of our multilingual models such as summertime.model.multilingual.MBartModel .\n",
            "Supported language 'es' detected.\n",
            "-------------------23--------------------\n",
            "Warning: non-ASCII input corpus detected!\n",
            "If this is not English, consider using one of our multilingual models such as summertime.model.multilingual.MBartModel .\n",
            "Supported language 'es' detected.\n",
            "-------------------24--------------------\n",
            "Warning: non-ASCII input corpus detected!\n",
            "If this is not English, consider using one of our multilingual models such as summertime.model.multilingual.MBartModel .\n",
            "Supported language 'es' detected.\n",
            "-------------------25--------------------\n",
            "Warning: non-ASCII input corpus detected!\n",
            "If this is not English, consider using one of our multilingual models such as summertime.model.multilingual.MBartModel .\n",
            "Supported language 'es' detected.\n",
            "-------------------26--------------------\n",
            "Warning: non-ASCII input corpus detected!\n",
            "If this is not English, consider using one of our multilingual models such as summertime.model.multilingual.MBartModel .\n",
            "Supported language 'es' detected.\n",
            "-------------------27--------------------\n",
            "Warning: non-ASCII input corpus detected!\n",
            "If this is not English, consider using one of our multilingual models such as summertime.model.multilingual.MBartModel .\n",
            "Supported language 'es' detected.\n",
            "-------------------28--------------------\n",
            "Warning: non-ASCII input corpus detected!\n",
            "If this is not English, consider using one of our multilingual models such as summertime.model.multilingual.MBartModel .\n",
            "Supported language 'es' detected.\n",
            "-------------------29--------------------\n",
            "Warning: non-ASCII input corpus detected!\n",
            "If this is not English, consider using one of our multilingual models such as summertime.model.multilingual.MBartModel .\n",
            "Supported language 'es' detected.\n",
            "-------------------30--------------------\n",
            "Warning: non-ASCII input corpus detected!\n",
            "If this is not English, consider using one of our multilingual models such as summertime.model.multilingual.MBartModel .\n",
            "Supported language 'es' detected.\n",
            "-------------------31--------------------\n",
            "Warning: non-ASCII input corpus detected!\n",
            "If this is not English, consider using one of our multilingual models such as summertime.model.multilingual.MBartModel .\n",
            "Supported language 'es' detected.\n",
            "-------------------32--------------------\n",
            "Warning: non-ASCII input corpus detected!\n",
            "If this is not English, consider using one of our multilingual models such as summertime.model.multilingual.MBartModel .\n",
            "Supported language 'es' detected.\n",
            "-------------------33--------------------\n",
            "Warning: non-ASCII input corpus detected!\n",
            "If this is not English, consider using one of our multilingual models such as summertime.model.multilingual.MBartModel .\n",
            "Supported language 'es' detected.\n",
            "-------------------34--------------------\n",
            "Warning: non-ASCII input corpus detected!\n",
            "If this is not English, consider using one of our multilingual models such as summertime.model.multilingual.MBartModel .\n",
            "Supported language 'es' detected.\n",
            "-------------------35--------------------\n",
            "Warning: non-ASCII input corpus detected!\n",
            "If this is not English, consider using one of our multilingual models such as summertime.model.multilingual.MBartModel .\n",
            "Supported language 'es' detected.\n",
            "-------------------36--------------------\n",
            "Warning: non-ASCII input corpus detected!\n",
            "If this is not English, consider using one of our multilingual models such as summertime.model.multilingual.MBartModel .\n",
            "Supported language 'es' detected.\n",
            "-------------------37--------------------\n",
            "Warning: non-ASCII input corpus detected!\n",
            "If this is not English, consider using one of our multilingual models such as summertime.model.multilingual.MBartModel .\n",
            "Supported language 'es' detected.\n",
            "-------------------38--------------------\n",
            "Warning: non-ASCII input corpus detected!\n",
            "If this is not English, consider using one of our multilingual models such as summertime.model.multilingual.MBartModel .\n",
            "Supported language 'es' detected.\n",
            "-------------------39--------------------\n",
            "Warning: non-ASCII input corpus detected!\n",
            "If this is not English, consider using one of our multilingual models such as summertime.model.multilingual.MBartModel .\n",
            "Supported language 'es' detected.\n",
            "-------------------40--------------------\n",
            "Warning: non-ASCII input corpus detected!\n",
            "If this is not English, consider using one of our multilingual models such as summertime.model.multilingual.MBartModel .\n",
            "Supported language 'es' detected.\n",
            "-------------------41--------------------\n",
            "Warning: non-ASCII input corpus detected!\n",
            "If this is not English, consider using one of our multilingual models such as summertime.model.multilingual.MBartModel .\n",
            "Supported language 'es' detected.\n",
            "-------------------42--------------------\n",
            "Warning: non-ASCII input corpus detected!\n",
            "If this is not English, consider using one of our multilingual models such as summertime.model.multilingual.MBartModel .\n",
            "Supported language 'es' detected.\n",
            "-------------------43--------------------\n",
            "Warning: non-ASCII input corpus detected!\n",
            "If this is not English, consider using one of our multilingual models such as summertime.model.multilingual.MBartModel .\n",
            "Supported language 'es' detected.\n",
            "-------------------44--------------------\n",
            "Warning: non-ASCII input corpus detected!\n",
            "If this is not English, consider using one of our multilingual models such as summertime.model.multilingual.MBartModel .\n",
            "Supported language 'es' detected.\n",
            "-------------------45--------------------\n",
            "Warning: non-ASCII input corpus detected!\n",
            "If this is not English, consider using one of our multilingual models such as summertime.model.multilingual.MBartModel .\n",
            "Supported language 'es' detected.\n",
            "-------------------46--------------------\n",
            "Warning: non-ASCII input corpus detected!\n",
            "If this is not English, consider using one of our multilingual models such as summertime.model.multilingual.MBartModel .\n",
            "Supported language 'es' detected.\n",
            "-------------------47--------------------\n",
            "Warning: non-ASCII input corpus detected!\n",
            "If this is not English, consider using one of our multilingual models such as summertime.model.multilingual.MBartModel .\n",
            "Supported language 'es' detected.\n",
            "-------------------48--------------------\n",
            "Warning: non-ASCII input corpus detected!\n",
            "If this is not English, consider using one of our multilingual models such as summertime.model.multilingual.MBartModel .\n",
            "Supported language 'es' detected.\n",
            "-------------------49--------------------\n",
            "Warning: non-ASCII input corpus detected!\n",
            "If this is not English, consider using one of our multilingual models such as summertime.model.multilingual.MBartModel .\n",
            "Supported language 'es' detected.\n",
            "-------------------50--------------------\n"
          ]
        }
      ]
    },
    {
      "cell_type": "code",
      "source": [
        "!zip -r /content/Spanish_MT5.zip /content/Spanish/output_mt5/"
      ],
      "metadata": {
        "colab": {
          "base_uri": "https://localhost:8080/"
        },
        "id": "ZBp8VDkBv44u",
        "outputId": "2a759116-b3d2-49e8-bd65-139d4cbce4c6"
      },
      "execution_count": null,
      "outputs": [
        {
          "output_type": "stream",
          "name": "stdout",
          "text": [
            "  adding: content/Spanish/output_mt5/ (stored 0%)\n",
            "  adding: content/Spanish/output_mt5/007_LIPI.txt (deflated 18%)\n",
            "  adding: content/Spanish/output_mt5/021_LIPI.txt (deflated 26%)\n",
            "  adding: content/Spanish/output_mt5/048_LIPI.txt (deflated 15%)\n",
            "  adding: content/Spanish/output_mt5/028_LIPI.txt (deflated 16%)\n",
            "  adding: content/Spanish/output_mt5/002_LIPI.txt (deflated 3%)\n",
            "  adding: content/Spanish/output_mt5/012_LIPI.txt (deflated 3%)\n",
            "  adding: content/Spanish/output_mt5/013_LIPI.txt (deflated 12%)\n",
            "  adding: content/Spanish/output_mt5/035_LIPI.txt (deflated 27%)\n",
            "  adding: content/Spanish/output_mt5/042_LIPI.txt (deflated 11%)\n",
            "  adding: content/Spanish/output_mt5/046_LIPI.txt (deflated 10%)\n",
            "  adding: content/Spanish/output_mt5/032_LIPI.txt (deflated 25%)\n",
            "  adding: content/Spanish/output_mt5/029_LIPI.txt (deflated 26%)\n",
            "  adding: content/Spanish/output_mt5/044_LIPI.txt (deflated 15%)\n",
            "  adding: content/Spanish/output_mt5/014_LIPI.txt (deflated 7%)\n",
            "  adding: content/Spanish/output_mt5/040_LIPI.txt (deflated 26%)\n",
            "  adding: content/Spanish/output_mt5/036_LIPI.txt (deflated 17%)\n",
            "  adding: content/Spanish/output_mt5/005_LIPI.txt (deflated 16%)\n",
            "  adding: content/Spanish/output_mt5/009_LIPI.txt (deflated 22%)\n",
            "  adding: content/Spanish/output_mt5/008_LIPI.txt (deflated 7%)\n",
            "  adding: content/Spanish/output_mt5/020_LIPI.txt (deflated 23%)\n",
            "  adding: content/Spanish/output_mt5/015_LIPI.txt (deflated 23%)\n",
            "  adding: content/Spanish/output_mt5/045_LIPI.txt (deflated 8%)\n",
            "  adding: content/Spanish/output_mt5/024_LIPI.txt (deflated 19%)\n",
            "  adding: content/Spanish/output_mt5/033_LIPI.txt (deflated 3%)\n",
            "  adding: content/Spanish/output_mt5/038_LIPI.txt (stored 0%)\n",
            "  adding: content/Spanish/output_mt5/023_LIPI.txt (deflated 23%)\n",
            "  adding: content/Spanish/output_mt5/003_LIPI.txt (deflated 26%)\n",
            "  adding: content/Spanish/output_mt5/017_LIPI.txt (deflated 21%)\n",
            "  adding: content/Spanish/output_mt5/022_LIPI.txt (deflated 13%)\n",
            "  adding: content/Spanish/output_mt5/041_LIPI.txt (deflated 21%)\n",
            "  adding: content/Spanish/output_mt5/049_LIPI.txt (deflated 27%)\n",
            "  adding: content/Spanish/output_mt5/011_LIPI.txt (deflated 19%)\n",
            "  adding: content/Spanish/output_mt5/030_LIPI.txt (deflated 31%)\n",
            "  adding: content/Spanish/output_mt5/004_LIPI.txt (deflated 14%)\n",
            "  adding: content/Spanish/output_mt5/050_LIPI.txt (deflated 16%)\n",
            "  adding: content/Spanish/output_mt5/019_LIPI.txt (deflated 20%)\n",
            "  adding: content/Spanish/output_mt5/031_LIPI.txt (deflated 18%)\n",
            "  adding: content/Spanish/output_mt5/043_LIPI.txt (deflated 28%)\n",
            "  adding: content/Spanish/output_mt5/006_LIPI.txt (deflated 20%)\n",
            "  adding: content/Spanish/output_mt5/010_LIPI.txt (stored 0%)\n",
            "  adding: content/Spanish/output_mt5/025_LIPI.txt (deflated 31%)\n",
            "  adding: content/Spanish/output_mt5/016_LIPI.txt (deflated 20%)\n",
            "  adding: content/Spanish/output_mt5/026_LIPI.txt (deflated 24%)\n",
            "  adding: content/Spanish/output_mt5/037_LIPI.txt (deflated 28%)\n",
            "  adding: content/Spanish/output_mt5/018_LIPI.txt (deflated 23%)\n",
            "  adding: content/Spanish/output_mt5/001_LIPI.txt (deflated 16%)\n",
            "  adding: content/Spanish/output_mt5/039_LIPI.txt (deflated 21%)\n",
            "  adding: content/Spanish/output_mt5/034_LIPI.txt (deflated 18%)\n",
            "  adding: content/Spanish/output_mt5/047_LIPI.txt (deflated 9%)\n",
            "  adding: content/Spanish/output_mt5/027_LIPI.txt (deflated 18%)\n"
          ]
        }
      ]
    },
    {
      "cell_type": "markdown",
      "source": [
        "# Not upto the mark so stoping xlsum [May need to specify language somewhere]"
      ],
      "metadata": {
        "id": "zDpPvyVe9HVg"
      }
    },
    {
      "cell_type": "code",
      "source": [
        "!pip install transformers"
      ],
      "metadata": {
        "colab": {
          "base_uri": "https://localhost:8080/"
        },
        "id": "xVyuXGz78wjS",
        "outputId": "48186dd4-32d3-4400-c4b9-21e90a54a144"
      },
      "execution_count": null,
      "outputs": [
        {
          "output_type": "stream",
          "name": "stdout",
          "text": [
            "Requirement already satisfied: transformers in /usr/local/lib/python3.7/dist-packages (4.5.1)\n",
            "Requirement already satisfied: tokenizers<0.11,>=0.10.1 in /usr/local/lib/python3.7/dist-packages (from transformers) (0.10.3)\n",
            "Requirement already satisfied: numpy>=1.17 in /usr/local/lib/python3.7/dist-packages (from transformers) (1.21.5)\n",
            "Requirement already satisfied: importlib-metadata in /usr/local/lib/python3.7/dist-packages (from transformers) (4.11.3)\n",
            "Requirement already satisfied: tqdm>=4.27 in /usr/local/lib/python3.7/dist-packages (from transformers) (4.49.0)\n",
            "Requirement already satisfied: sacremoses in /usr/local/lib/python3.7/dist-packages (from transformers) (0.0.49)\n",
            "Requirement already satisfied: packaging in /usr/local/lib/python3.7/dist-packages (from transformers) (21.3)\n",
            "Requirement already satisfied: requests in /usr/local/lib/python3.7/dist-packages (from transformers) (2.23.0)\n",
            "Requirement already satisfied: regex!=2019.12.17 in /usr/local/lib/python3.7/dist-packages (from transformers) (2019.12.20)\n",
            "Requirement already satisfied: filelock in /usr/local/lib/python3.7/dist-packages (from transformers) (3.6.0)\n",
            "Requirement already satisfied: typing-extensions>=3.6.4 in /usr/local/lib/python3.7/dist-packages (from importlib-metadata->transformers) (3.10.0.2)\n",
            "Requirement already satisfied: zipp>=0.5 in /usr/local/lib/python3.7/dist-packages (from importlib-metadata->transformers) (3.7.0)\n",
            "Requirement already satisfied: pyparsing!=3.0.5,>=2.0.2 in /usr/local/lib/python3.7/dist-packages (from packaging->transformers) (3.0.7)\n",
            "Requirement already satisfied: urllib3!=1.25.0,!=1.25.1,<1.26,>=1.21.1 in /usr/local/lib/python3.7/dist-packages (from requests->transformers) (1.25.11)\n",
            "Requirement already satisfied: idna<3,>=2.5 in /usr/local/lib/python3.7/dist-packages (from requests->transformers) (2.10)\n",
            "Requirement already satisfied: certifi>=2017.4.17 in /usr/local/lib/python3.7/dist-packages (from requests->transformers) (2021.10.8)\n",
            "Requirement already satisfied: chardet<4,>=3.0.2 in /usr/local/lib/python3.7/dist-packages (from requests->transformers) (3.0.4)\n",
            "Requirement already satisfied: six in /usr/local/lib/python3.7/dist-packages (from sacremoses->transformers) (1.15.0)\n",
            "Requirement already satisfied: click in /usr/local/lib/python3.7/dist-packages (from sacremoses->transformers) (7.1.2)\n",
            "Requirement already satisfied: joblib in /usr/local/lib/python3.7/dist-packages (from sacremoses->transformers) (1.1.0)\n"
          ]
        }
      ]
    },
    {
      "cell_type": "code",
      "source": [
        "# XL-Sum for spanish language\n",
        "\n",
        "import re\n",
        "from transformers import AutoTokenizer, AutoModelForSeq2SeqLM\n",
        "\n",
        "WHITESPACE_HANDLER = lambda k: re.sub('\\s+', ' ', re.sub('\\n+', ' ', k.strip()))\n",
        "\n",
        "\n",
        "model_name = \"csebuetnlp/mT5_multilingual_XLSum\"\n",
        "tokenizer = AutoTokenizer.from_pretrained(model_name)\n",
        "model = AutoModelForSeq2SeqLM.from_pretrained(model_name)\n",
        "\n",
        "def summ_generate_xlsum(article_text):\n",
        "  input_ids = tokenizer([WHITESPACE_HANDLER(article_text)], return_tensors=\"pt\", padding=\"max_length\", truncation=True, max_length=512)[\"input_ids\"]\n",
        "  output_ids = model.generate(input_ids=input_ids, max_length=84,no_repeat_ngram_size=2, num_beams=4)[0]\n",
        "  summary = tokenizer.decode(output_ids, skip_special_tokens=True, clean_up_tokenization_spaces=False)\n",
        "  return summary\n",
        "\n",
        "article_text = \"\"\"Videos that say approved vaccines are dangerous and cause autism, cancer or infertility are among those that will be taken down, the company said.  The policy includes the termination of accounts of anti-vaccine influencers.  Tech giants have been criticised for not doing more to counter false health information on their sites.  In July, US President Joe Biden said social media platforms were largely responsible for people's scepticism in getting vaccinated by spreading misinformation, and appealed for them to address the issue.  YouTube, which is owned by Google, said 130,000 videos were removed from its platform since last year, when it implemented a ban on content spreading misinformation about Covid vaccines.  In a blog post, the company said it had seen false claims about Covid jabs \"spill over into misinformation about vaccines in general\". The new policy covers long-approved vaccines, such as those against measles or hepatitis B.  \"We're expanding our medical misinformation policies on YouTube with new guidelines on currently administered vaccines that are approved and confirmed to be safe and effective by local health authorities and the WHO,\" the post said, referring to the World Health Organization.\"\"\""
      ],
      "metadata": {
        "colab": {
          "base_uri": "https://localhost:8080/"
        },
        "id": "EaZykLAXxd0x",
        "outputId": "76d20f1a-4386-40bc-da79-cf053acde163"
      },
      "execution_count": null,
      "outputs": [
        {
          "output_type": "stream",
          "name": "stderr",
          "text": [
            "/usr/local/lib/python3.7/dist-packages/transformers/generation_utils.py:1777: UserWarning: __floordiv__ is deprecated, and its behavior will change in a future version of pytorch. It currently rounds toward 0 (like the 'trunc' function NOT 'floor'). This results in incorrect rounding for negative values. To keep the current behavior, use torch.div(a, b, rounding_mode='trunc'), or for actual floor division, use torch.div(a, b, rounding_mode='floor').\n",
            "  next_indices = next_tokens // vocab_size\n"
          ]
        },
        {
          "output_type": "stream",
          "name": "stdout",
          "text": [
            "None\n"
          ]
        }
      ]
    },
    {
      "cell_type": "code",
      "source": [
        "\n",
        "summ_generate_xlsum(article_text)"
      ],
      "metadata": {
        "colab": {
          "base_uri": "https://localhost:8080/",
          "height": 90
        },
        "id": "IiMCRVRAGyPD",
        "outputId": "5f7c0ce7-c2c6-43f4-ee4c-3626899cfb8d"
      },
      "execution_count": null,
      "outputs": [
        {
          "output_type": "stream",
          "name": "stderr",
          "text": [
            "/usr/local/lib/python3.7/dist-packages/transformers/generation_utils.py:1777: UserWarning: __floordiv__ is deprecated, and its behavior will change in a future version of pytorch. It currently rounds toward 0 (like the 'trunc' function NOT 'floor'). This results in incorrect rounding for negative values. To keep the current behavior, use torch.div(a, b, rounding_mode='trunc'), or for actual floor division, use torch.div(a, b, rounding_mode='floor').\n",
            "  next_indices = next_tokens // vocab_size\n"
          ]
        },
        {
          "output_type": "execute_result",
          "data": {
            "text/plain": [
              "'YouTube has banned thousands of videos spreading misinformation about Covid vaccines.'"
            ],
            "application/vnd.google.colaboratory.intrinsic+json": {
              "type": "string"
            }
          },
          "metadata": {},
          "execution_count": 27
        }
      ]
    },
    {
      "cell_type": "code",
      "source": [
        "!mkdir /content/Spanish/output_xlsum"
      ],
      "metadata": {
        "id": "4EE5USdk7qKe"
      },
      "execution_count": null,
      "outputs": []
    },
    {
      "cell_type": "code",
      "source": [
        "cnt = 1\n",
        "for file in os.listdir('/content/Spanish/annual_reports'):\n",
        "  content = open('/content/Spanish/annual_reports/' + file, 'r').read().replace('\\n', ' ')\n",
        "  sum = summ_generate_xlsum(content)\n",
        "  id = file.replace('.txt', '')\n",
        "  open('/content/Spanish/output_xlsum/'+ id + '_LIPI.txt', 'w').write(sum)\n",
        "  print(\"-------------------\"+str(cnt)+\"--------------------\")\n",
        "  cnt = cnt + 1"
      ],
      "metadata": {
        "colab": {
          "base_uri": "https://localhost:8080/",
          "height": 747
        },
        "id": "JEVBJCF68JEt",
        "outputId": "d1f3e960-a381-4b0a-c72c-5b012d11e1af"
      },
      "execution_count": null,
      "outputs": [
        {
          "output_type": "stream",
          "name": "stderr",
          "text": [
            "/usr/local/lib/python3.7/dist-packages/transformers/generation_utils.py:1777: UserWarning: __floordiv__ is deprecated, and its behavior will change in a future version of pytorch. It currently rounds toward 0 (like the 'trunc' function NOT 'floor'). This results in incorrect rounding for negative values. To keep the current behavior, use torch.div(a, b, rounding_mode='trunc'), or for actual floor division, use torch.div(a, b, rounding_mode='floor').\n",
            "  next_indices = next_tokens // vocab_size\n"
          ]
        },
        {
          "output_type": "stream",
          "name": "stdout",
          "text": [
            "-------------------1--------------------\n",
            "-------------------2--------------------\n",
            "-------------------3--------------------\n",
            "-------------------4--------------------\n",
            "-------------------5--------------------\n",
            "-------------------6--------------------\n",
            "-------------------7--------------------\n",
            "-------------------8--------------------\n",
            "-------------------9--------------------\n",
            "-------------------10--------------------\n",
            "-------------------11--------------------\n",
            "-------------------12--------------------\n",
            "-------------------13--------------------\n",
            "-------------------14--------------------\n",
            "-------------------15--------------------\n"
          ]
        },
        {
          "output_type": "error",
          "ename": "KeyboardInterrupt",
          "evalue": "ignored",
          "traceback": [
            "\u001b[0;31m---------------------------------------------------------------------------\u001b[0m",
            "\u001b[0;31mKeyboardInterrupt\u001b[0m                         Traceback (most recent call last)",
            "\u001b[0;32m<ipython-input-30-0f371cdfbc31>\u001b[0m in \u001b[0;36m<module>\u001b[0;34m()\u001b[0m\n\u001b[1;32m      2\u001b[0m \u001b[0;32mfor\u001b[0m \u001b[0mfile\u001b[0m \u001b[0;32min\u001b[0m \u001b[0mos\u001b[0m\u001b[0;34m.\u001b[0m\u001b[0mlistdir\u001b[0m\u001b[0;34m(\u001b[0m\u001b[0;34m'/content/Spanish/annual_reports'\u001b[0m\u001b[0;34m)\u001b[0m\u001b[0;34m:\u001b[0m\u001b[0;34m\u001b[0m\u001b[0;34m\u001b[0m\u001b[0m\n\u001b[1;32m      3\u001b[0m   \u001b[0mcontent\u001b[0m \u001b[0;34m=\u001b[0m \u001b[0mopen\u001b[0m\u001b[0;34m(\u001b[0m\u001b[0;34m'/content/Spanish/annual_reports/'\u001b[0m \u001b[0;34m+\u001b[0m \u001b[0mfile\u001b[0m\u001b[0;34m,\u001b[0m \u001b[0;34m'r'\u001b[0m\u001b[0;34m)\u001b[0m\u001b[0;34m.\u001b[0m\u001b[0mread\u001b[0m\u001b[0;34m(\u001b[0m\u001b[0;34m)\u001b[0m\u001b[0;34m.\u001b[0m\u001b[0mreplace\u001b[0m\u001b[0;34m(\u001b[0m\u001b[0;34m'\\n'\u001b[0m\u001b[0;34m,\u001b[0m \u001b[0;34m' '\u001b[0m\u001b[0;34m)\u001b[0m\u001b[0;34m\u001b[0m\u001b[0;34m\u001b[0m\u001b[0m\n\u001b[0;32m----> 4\u001b[0;31m   \u001b[0msum\u001b[0m \u001b[0;34m=\u001b[0m \u001b[0msumm_generate_xlsum\u001b[0m\u001b[0;34m(\u001b[0m\u001b[0mcontent\u001b[0m\u001b[0;34m)\u001b[0m\u001b[0;34m\u001b[0m\u001b[0;34m\u001b[0m\u001b[0m\n\u001b[0m\u001b[1;32m      5\u001b[0m   \u001b[0mid\u001b[0m \u001b[0;34m=\u001b[0m \u001b[0mfile\u001b[0m\u001b[0;34m.\u001b[0m\u001b[0mreplace\u001b[0m\u001b[0;34m(\u001b[0m\u001b[0;34m'.txt'\u001b[0m\u001b[0;34m,\u001b[0m \u001b[0;34m''\u001b[0m\u001b[0;34m)\u001b[0m\u001b[0;34m\u001b[0m\u001b[0;34m\u001b[0m\u001b[0m\n\u001b[1;32m      6\u001b[0m   \u001b[0mopen\u001b[0m\u001b[0;34m(\u001b[0m\u001b[0;34m'/content/Spanish/output_xlsum/'\u001b[0m\u001b[0;34m+\u001b[0m \u001b[0mid\u001b[0m \u001b[0;34m+\u001b[0m \u001b[0;34m'_LIPI.txt'\u001b[0m\u001b[0;34m,\u001b[0m \u001b[0;34m'w'\u001b[0m\u001b[0;34m)\u001b[0m\u001b[0;34m.\u001b[0m\u001b[0mwrite\u001b[0m\u001b[0;34m(\u001b[0m\u001b[0msum\u001b[0m\u001b[0;34m)\u001b[0m\u001b[0;34m\u001b[0m\u001b[0;34m\u001b[0m\u001b[0m\n",
            "\u001b[0;32m<ipython-input-27-9e70b7539a79>\u001b[0m in \u001b[0;36msumm_generate_xlsum\u001b[0;34m(article_text)\u001b[0m\n\u001b[1;32m      1\u001b[0m \u001b[0;34m\u001b[0m\u001b[0m\n\u001b[1;32m      2\u001b[0m \u001b[0;32mdef\u001b[0m \u001b[0msumm_generate_xlsum\u001b[0m\u001b[0;34m(\u001b[0m\u001b[0marticle_text\u001b[0m\u001b[0;34m)\u001b[0m\u001b[0;34m:\u001b[0m\u001b[0;34m\u001b[0m\u001b[0;34m\u001b[0m\u001b[0m\n\u001b[0;32m----> 3\u001b[0;31m   \u001b[0minput_ids\u001b[0m \u001b[0;34m=\u001b[0m \u001b[0mtokenizer\u001b[0m\u001b[0;34m(\u001b[0m\u001b[0;34m[\u001b[0m\u001b[0mWHITESPACE_HANDLER\u001b[0m\u001b[0;34m(\u001b[0m\u001b[0marticle_text\u001b[0m\u001b[0;34m)\u001b[0m\u001b[0;34m]\u001b[0m\u001b[0;34m,\u001b[0m \u001b[0mreturn_tensors\u001b[0m\u001b[0;34m=\u001b[0m\u001b[0;34m\"pt\"\u001b[0m\u001b[0;34m,\u001b[0m \u001b[0mpadding\u001b[0m\u001b[0;34m=\u001b[0m\u001b[0;34m\"max_length\"\u001b[0m\u001b[0;34m,\u001b[0m \u001b[0mtruncation\u001b[0m\u001b[0;34m=\u001b[0m\u001b[0;32mTrue\u001b[0m\u001b[0;34m,\u001b[0m \u001b[0mmax_length\u001b[0m\u001b[0;34m=\u001b[0m\u001b[0;36m512\u001b[0m\u001b[0;34m)\u001b[0m\u001b[0;34m[\u001b[0m\u001b[0;34m\"input_ids\"\u001b[0m\u001b[0;34m]\u001b[0m\u001b[0;34m\u001b[0m\u001b[0;34m\u001b[0m\u001b[0m\n\u001b[0m\u001b[1;32m      4\u001b[0m   \u001b[0moutput_ids\u001b[0m \u001b[0;34m=\u001b[0m \u001b[0mmodel\u001b[0m\u001b[0;34m.\u001b[0m\u001b[0mgenerate\u001b[0m\u001b[0;34m(\u001b[0m\u001b[0minput_ids\u001b[0m\u001b[0;34m=\u001b[0m\u001b[0minput_ids\u001b[0m\u001b[0;34m,\u001b[0m \u001b[0mmax_length\u001b[0m\u001b[0;34m=\u001b[0m\u001b[0;36m84\u001b[0m\u001b[0;34m,\u001b[0m\u001b[0mno_repeat_ngram_size\u001b[0m\u001b[0;34m=\u001b[0m\u001b[0;36m2\u001b[0m\u001b[0;34m,\u001b[0m \u001b[0mnum_beams\u001b[0m\u001b[0;34m=\u001b[0m\u001b[0;36m4\u001b[0m\u001b[0;34m)\u001b[0m\u001b[0;34m[\u001b[0m\u001b[0;36m0\u001b[0m\u001b[0;34m]\u001b[0m\u001b[0;34m\u001b[0m\u001b[0;34m\u001b[0m\u001b[0m\n\u001b[1;32m      5\u001b[0m   \u001b[0msummary\u001b[0m \u001b[0;34m=\u001b[0m \u001b[0mtokenizer\u001b[0m\u001b[0;34m.\u001b[0m\u001b[0mdecode\u001b[0m\u001b[0;34m(\u001b[0m\u001b[0moutput_ids\u001b[0m\u001b[0;34m,\u001b[0m \u001b[0mskip_special_tokens\u001b[0m\u001b[0;34m=\u001b[0m\u001b[0;32mTrue\u001b[0m\u001b[0;34m,\u001b[0m \u001b[0mclean_up_tokenization_spaces\u001b[0m\u001b[0;34m=\u001b[0m\u001b[0;32mFalse\u001b[0m\u001b[0;34m)\u001b[0m\u001b[0;34m\u001b[0m\u001b[0;34m\u001b[0m\u001b[0m\n",
            "\u001b[0;32m/usr/local/lib/python3.7/dist-packages/transformers/tokenization_utils_base.py\u001b[0m in \u001b[0;36m__call__\u001b[0;34m(self, text, text_pair, add_special_tokens, padding, truncation, max_length, stride, is_split_into_words, pad_to_multiple_of, return_tensors, return_token_type_ids, return_attention_mask, return_overflowing_tokens, return_special_tokens_mask, return_offsets_mapping, return_length, verbose, **kwargs)\u001b[0m\n\u001b[1;32m   2269\u001b[0m                 \u001b[0mreturn_length\u001b[0m\u001b[0;34m=\u001b[0m\u001b[0mreturn_length\u001b[0m\u001b[0;34m,\u001b[0m\u001b[0;34m\u001b[0m\u001b[0;34m\u001b[0m\u001b[0m\n\u001b[1;32m   2270\u001b[0m                 \u001b[0mverbose\u001b[0m\u001b[0;34m=\u001b[0m\u001b[0mverbose\u001b[0m\u001b[0;34m,\u001b[0m\u001b[0;34m\u001b[0m\u001b[0;34m\u001b[0m\u001b[0m\n\u001b[0;32m-> 2271\u001b[0;31m                 \u001b[0;34m**\u001b[0m\u001b[0mkwargs\u001b[0m\u001b[0;34m,\u001b[0m\u001b[0;34m\u001b[0m\u001b[0;34m\u001b[0m\u001b[0m\n\u001b[0m\u001b[1;32m   2272\u001b[0m             )\n\u001b[1;32m   2273\u001b[0m         \u001b[0;32melse\u001b[0m\u001b[0;34m:\u001b[0m\u001b[0;34m\u001b[0m\u001b[0;34m\u001b[0m\u001b[0m\n",
            "\u001b[0;32m/usr/local/lib/python3.7/dist-packages/transformers/tokenization_utils_base.py\u001b[0m in \u001b[0;36mbatch_encode_plus\u001b[0;34m(self, batch_text_or_text_pairs, add_special_tokens, padding, truncation, max_length, stride, is_split_into_words, pad_to_multiple_of, return_tensors, return_token_type_ids, return_attention_mask, return_overflowing_tokens, return_special_tokens_mask, return_offsets_mapping, return_length, verbose, **kwargs)\u001b[0m\n\u001b[1;32m   2454\u001b[0m             \u001b[0mreturn_length\u001b[0m\u001b[0;34m=\u001b[0m\u001b[0mreturn_length\u001b[0m\u001b[0;34m,\u001b[0m\u001b[0;34m\u001b[0m\u001b[0;34m\u001b[0m\u001b[0m\n\u001b[1;32m   2455\u001b[0m             \u001b[0mverbose\u001b[0m\u001b[0;34m=\u001b[0m\u001b[0mverbose\u001b[0m\u001b[0;34m,\u001b[0m\u001b[0;34m\u001b[0m\u001b[0;34m\u001b[0m\u001b[0m\n\u001b[0;32m-> 2456\u001b[0;31m             \u001b[0;34m**\u001b[0m\u001b[0mkwargs\u001b[0m\u001b[0;34m,\u001b[0m\u001b[0;34m\u001b[0m\u001b[0;34m\u001b[0m\u001b[0m\n\u001b[0m\u001b[1;32m   2457\u001b[0m         )\n\u001b[1;32m   2458\u001b[0m \u001b[0;34m\u001b[0m\u001b[0m\n",
            "\u001b[0;32m/usr/local/lib/python3.7/dist-packages/transformers/tokenization_utils_fast.py\u001b[0m in \u001b[0;36m_batch_encode_plus\u001b[0;34m(self, batch_text_or_text_pairs, add_special_tokens, padding_strategy, truncation_strategy, max_length, stride, is_split_into_words, pad_to_multiple_of, return_tensors, return_token_type_ids, return_attention_mask, return_overflowing_tokens, return_special_tokens_mask, return_offsets_mapping, return_length, verbose)\u001b[0m\n\u001b[1;32m    386\u001b[0m             \u001b[0mbatch_text_or_text_pairs\u001b[0m\u001b[0;34m,\u001b[0m\u001b[0;34m\u001b[0m\u001b[0;34m\u001b[0m\u001b[0m\n\u001b[1;32m    387\u001b[0m             \u001b[0madd_special_tokens\u001b[0m\u001b[0;34m=\u001b[0m\u001b[0madd_special_tokens\u001b[0m\u001b[0;34m,\u001b[0m\u001b[0;34m\u001b[0m\u001b[0;34m\u001b[0m\u001b[0m\n\u001b[0;32m--> 388\u001b[0;31m             \u001b[0mis_pretokenized\u001b[0m\u001b[0;34m=\u001b[0m\u001b[0mis_split_into_words\u001b[0m\u001b[0;34m,\u001b[0m\u001b[0;34m\u001b[0m\u001b[0;34m\u001b[0m\u001b[0m\n\u001b[0m\u001b[1;32m    389\u001b[0m         )\n\u001b[1;32m    390\u001b[0m \u001b[0;34m\u001b[0m\u001b[0m\n",
            "\u001b[0;31mKeyboardInterrupt\u001b[0m: "
          ]
        }
      ]
    },
    {
      "cell_type": "code",
      "source": [
        "!zip -r /content/Spanish_xlsum.zip /content/Spanish/output_xlsum/"
      ],
      "metadata": {
        "id": "GmT3xRqF9SwR"
      },
      "execution_count": null,
      "outputs": []
    },
    {
      "cell_type": "markdown",
      "source": [
        "# Greek"
      ],
      "metadata": {
        "id": "H2rxXIR9yNQ9"
      }
    },
    {
      "cell_type": "code",
      "source": [
        "!mkdir /content/Greek/"
      ],
      "metadata": {
        "id": "-0VOYENAJwgO"
      },
      "execution_count": null,
      "outputs": []
    },
    {
      "cell_type": "code",
      "source": [
        "!tar -xvzf /content/testing.tar.gz -C /content/Greek/"
      ],
      "metadata": {
        "colab": {
          "base_uri": "https://localhost:8080/"
        },
        "id": "cox9wDpfymOe",
        "outputId": "3e0ad13e-38d6-4b61-cc7f-d6687513f143"
      },
      "execution_count": null,
      "outputs": [
        {
          "output_type": "stream",
          "name": "stdout",
          "text": [
            "testing/\n",
            "testing/annual_reports/\n",
            "testing/annual_reports/23.txt\n",
            "testing/annual_reports/75.txt\n",
            "testing/annual_reports/11.txt\n",
            "testing/annual_reports/226.txt\n",
            "testing/annual_reports/264.txt\n",
            "testing/annual_reports/269.txt\n",
            "testing/annual_reports/22.txt\n",
            "testing/annual_reports/76.txt\n",
            "testing/annual_reports/185.txt\n",
            "testing/annual_reports/230.txt\n",
            "testing/annual_reports/168.txt\n",
            "testing/annual_reports/130.txt\n",
            "testing/annual_reports/160.txt\n",
            "testing/annual_reports/240.txt\n",
            "testing/annual_reports/152.txt\n",
            "testing/annual_reports/225.txt\n",
            "testing/annual_reports/142.txt\n",
            "testing/annual_reports/109.txt\n",
            "testing/annual_reports/171.txt\n",
            "testing/annual_reports/113.txt\n",
            "testing/annual_reports/273.txt\n",
            "testing/annual_reports/82.txt\n",
            "testing/annual_reports/135.txt\n",
            "testing/annual_reports/118.txt\n",
            "testing/annual_reports/119.txt\n",
            "testing/annual_reports/187.txt\n",
            "testing/annual_reports/42.txt\n",
            "testing/annual_reports/4.txt\n",
            "testing/annual_reports/29.txt\n",
            "testing/annual_reports/263.txt\n",
            "testing/annual_reports/3.txt\n",
            "testing/annual_reports/79.txt\n",
            "testing/annual_reports/271.txt\n",
            "testing/annual_reports/64.txt\n",
            "testing/annual_reports/256.txt\n",
            "testing/annual_reports/9.txt\n",
            "testing/annual_reports/198.txt\n",
            "testing/annual_reports/229.txt\n",
            "testing/annual_reports/63.txt\n",
            "testing/annual_reports/129.txt\n",
            "testing/annual_reports/252.txt\n",
            "testing/annual_reports/78.txt\n",
            "testing/annual_reports/174.txt\n",
            "testing/annual_reports/15.txt\n",
            "testing/annual_reports/58.txt\n",
            "testing/annual_reports/87.txt\n",
            "testing/annual_reports/163.txt\n",
            "testing/annual_reports/104.txt\n",
            "testing/annual_reports/56.txt\n",
            "testing/annual_reports/94.txt\n"
          ]
        }
      ]
    },
    {
      "cell_type": "code",
      "source": [
        "!mkdir /content/Greek/output_mt5/"
      ],
      "metadata": {
        "id": "hE8sSbFMymD_"
      },
      "execution_count": null,
      "outputs": []
    },
    {
      "cell_type": "code",
      "source": [
        "for file in os.listdir('/content/Greek/testing/annual_reports'):\n",
        "  content = open('/content/Greek/testing/annual_reports/' + file, 'r').read().replace('\\n', ' ')\n",
        "  sum = mt5_model.summarize([content])\n",
        "  id = file.replace('.txt', '')\n",
        "  open('/content/Greek/output_mt5/'+ id + '_LIPI.txt', 'w').write(sum[0])"
      ],
      "metadata": {
        "colab": {
          "base_uri": "https://localhost:8080/"
        },
        "id": "Fx2vdrkvyO5y",
        "outputId": "a9342530-8fca-4c9b-fee6-5aaf50af526c"
      },
      "execution_count": null,
      "outputs": [
        {
          "output_type": "stream",
          "name": "stdout",
          "text": [
            "Warning: non-ASCII input corpus detected!\n",
            "If this is not English, consider using one of our multilingual models such as summertime.model.multilingual.MBartModel .\n",
            "Supported language 'el' detected.\n"
          ]
        },
        {
          "output_type": "stream",
          "name": "stderr",
          "text": [
            "/usr/local/lib/python3.7/dist-packages/transformers/generation_utils.py:1777: UserWarning: __floordiv__ is deprecated, and its behavior will change in a future version of pytorch. It currently rounds toward 0 (like the 'trunc' function NOT 'floor'). This results in incorrect rounding for negative values. To keep the current behavior, use torch.div(a, b, rounding_mode='trunc'), or for actual floor division, use torch.div(a, b, rounding_mode='floor').\n",
            "  next_indices = next_tokens // vocab_size\n"
          ]
        },
        {
          "output_type": "stream",
          "name": "stdout",
          "text": [
            "Warning: non-ASCII input corpus detected!\n",
            "If this is not English, consider using one of our multilingual models such as summertime.model.multilingual.MBartModel .\n",
            "Supported language 'el' detected.\n",
            "Warning: non-ASCII input corpus detected!\n",
            "If this is not English, consider using one of our multilingual models such as summertime.model.multilingual.MBartModel .\n",
            "Supported language 'el' detected.\n",
            "Warning: non-ASCII input corpus detected!\n",
            "If this is not English, consider using one of our multilingual models such as summertime.model.multilingual.MBartModel .\n",
            "Supported language 'el' detected.\n",
            "Warning: non-ASCII input corpus detected!\n",
            "If this is not English, consider using one of our multilingual models such as summertime.model.multilingual.MBartModel .\n",
            "Supported language 'el' detected.\n",
            "Warning: non-ASCII input corpus detected!\n",
            "If this is not English, consider using one of our multilingual models such as summertime.model.multilingual.MBartModel .\n",
            "Supported language 'el' detected.\n",
            "Warning: non-ASCII input corpus detected!\n",
            "If this is not English, consider using one of our multilingual models such as summertime.model.multilingual.MBartModel .\n",
            "Supported language 'el' detected.\n",
            "Warning: non-ASCII input corpus detected!\n",
            "If this is not English, consider using one of our multilingual models such as summertime.model.multilingual.MBartModel .\n",
            "Supported language 'el' detected.\n",
            "Warning: non-ASCII input corpus detected!\n",
            "If this is not English, consider using one of our multilingual models such as summertime.model.multilingual.MBartModel .\n",
            "Supported language 'el' detected.\n",
            "Warning: non-ASCII input corpus detected!\n",
            "If this is not English, consider using one of our multilingual models such as summertime.model.multilingual.MBartModel .\n",
            "Supported language 'el' detected.\n",
            "Warning: non-ASCII input corpus detected!\n",
            "If this is not English, consider using one of our multilingual models such as summertime.model.multilingual.MBartModel .\n",
            "Supported language 'el' detected.\n",
            "Warning: non-ASCII input corpus detected!\n",
            "If this is not English, consider using one of our multilingual models such as summertime.model.multilingual.MBartModel .\n",
            "Supported language 'el' detected.\n",
            "Warning: non-ASCII input corpus detected!\n",
            "If this is not English, consider using one of our multilingual models such as summertime.model.multilingual.MBartModel .\n",
            "Supported language 'el' detected.\n",
            "Warning: non-ASCII input corpus detected!\n",
            "If this is not English, consider using one of our multilingual models such as summertime.model.multilingual.MBartModel .\n",
            "Supported language 'el' detected.\n",
            "Warning: non-ASCII input corpus detected!\n",
            "If this is not English, consider using one of our multilingual models such as summertime.model.multilingual.MBartModel .\n",
            "Supported language 'el' detected.\n",
            "Warning: non-ASCII input corpus detected!\n",
            "If this is not English, consider using one of our multilingual models such as summertime.model.multilingual.MBartModel .\n",
            "Supported language 'el' detected.\n",
            "Warning: non-ASCII input corpus detected!\n",
            "If this is not English, consider using one of our multilingual models such as summertime.model.multilingual.MBartModel .\n",
            "Supported language 'el' detected.\n",
            "Warning: non-ASCII input corpus detected!\n",
            "If this is not English, consider using one of our multilingual models such as summertime.model.multilingual.MBartModel .\n",
            "Supported language 'el' detected.\n",
            "Warning: non-ASCII input corpus detected!\n",
            "If this is not English, consider using one of our multilingual models such as summertime.model.multilingual.MBartModel .\n",
            "Supported language 'el' detected.\n",
            "Warning: non-ASCII input corpus detected!\n",
            "If this is not English, consider using one of our multilingual models such as summertime.model.multilingual.MBartModel .\n",
            "Supported language 'el' detected.\n",
            "Warning: non-ASCII input corpus detected!\n",
            "If this is not English, consider using one of our multilingual models such as summertime.model.multilingual.MBartModel .\n",
            "Supported language 'el' detected.\n",
            "Warning: non-ASCII input corpus detected!\n",
            "If this is not English, consider using one of our multilingual models such as summertime.model.multilingual.MBartModel .\n",
            "Supported language 'el' detected.\n",
            "Warning: non-ASCII input corpus detected!\n",
            "If this is not English, consider using one of our multilingual models such as summertime.model.multilingual.MBartModel .\n",
            "Supported language 'el' detected.\n",
            "Warning: non-ASCII input corpus detected!\n",
            "If this is not English, consider using one of our multilingual models such as summertime.model.multilingual.MBartModel .\n",
            "Supported language 'el' detected.\n",
            "Warning: non-ASCII input corpus detected!\n",
            "If this is not English, consider using one of our multilingual models such as summertime.model.multilingual.MBartModel .\n",
            "Supported language 'el' detected.\n",
            "Warning: non-ASCII input corpus detected!\n",
            "If this is not English, consider using one of our multilingual models such as summertime.model.multilingual.MBartModel .\n",
            "Supported language 'el' detected.\n",
            "Warning: non-ASCII input corpus detected!\n",
            "If this is not English, consider using one of our multilingual models such as summertime.model.multilingual.MBartModel .\n",
            "Supported language 'el' detected.\n",
            "Warning: non-ASCII input corpus detected!\n",
            "If this is not English, consider using one of our multilingual models such as summertime.model.multilingual.MBartModel .\n",
            "Supported language 'el' detected.\n",
            "Warning: non-ASCII input corpus detected!\n",
            "If this is not English, consider using one of our multilingual models such as summertime.model.multilingual.MBartModel .\n",
            "Supported language 'el' detected.\n",
            "Warning: non-ASCII input corpus detected!\n",
            "If this is not English, consider using one of our multilingual models such as summertime.model.multilingual.MBartModel .\n",
            "Supported language 'el' detected.\n",
            "Warning: non-ASCII input corpus detected!\n",
            "If this is not English, consider using one of our multilingual models such as summertime.model.multilingual.MBartModel .\n",
            "Supported language 'el' detected.\n",
            "Warning: non-ASCII input corpus detected!\n",
            "If this is not English, consider using one of our multilingual models such as summertime.model.multilingual.MBartModel .\n",
            "Supported language 'el' detected.\n",
            "Warning: non-ASCII input corpus detected!\n",
            "If this is not English, consider using one of our multilingual models such as summertime.model.multilingual.MBartModel .\n",
            "Supported language 'el' detected.\n",
            "Warning: non-ASCII input corpus detected!\n",
            "If this is not English, consider using one of our multilingual models such as summertime.model.multilingual.MBartModel .\n",
            "Supported language 'el' detected.\n",
            "Warning: non-ASCII input corpus detected!\n",
            "If this is not English, consider using one of our multilingual models such as summertime.model.multilingual.MBartModel .\n",
            "Supported language 'el' detected.\n",
            "Warning: non-ASCII input corpus detected!\n",
            "If this is not English, consider using one of our multilingual models such as summertime.model.multilingual.MBartModel .\n",
            "Supported language 'el' detected.\n",
            "Warning: non-ASCII input corpus detected!\n",
            "If this is not English, consider using one of our multilingual models such as summertime.model.multilingual.MBartModel .\n",
            "Supported language 'el' detected.\n",
            "Warning: non-ASCII input corpus detected!\n",
            "If this is not English, consider using one of our multilingual models such as summertime.model.multilingual.MBartModel .\n",
            "Supported language 'el' detected.\n",
            "Warning: non-ASCII input corpus detected!\n",
            "If this is not English, consider using one of our multilingual models such as summertime.model.multilingual.MBartModel .\n",
            "Supported language 'el' detected.\n",
            "Warning: non-ASCII input corpus detected!\n",
            "If this is not English, consider using one of our multilingual models such as summertime.model.multilingual.MBartModel .\n",
            "Supported language 'el' detected.\n",
            "Warning: non-ASCII input corpus detected!\n",
            "If this is not English, consider using one of our multilingual models such as summertime.model.multilingual.MBartModel .\n",
            "Supported language 'el' detected.\n",
            "Warning: non-ASCII input corpus detected!\n",
            "If this is not English, consider using one of our multilingual models such as summertime.model.multilingual.MBartModel .\n",
            "Supported language 'el' detected.\n",
            "Warning: non-ASCII input corpus detected!\n",
            "If this is not English, consider using one of our multilingual models such as summertime.model.multilingual.MBartModel .\n",
            "Supported language 'el' detected.\n",
            "Warning: non-ASCII input corpus detected!\n",
            "If this is not English, consider using one of our multilingual models such as summertime.model.multilingual.MBartModel .\n",
            "Supported language 'el' detected.\n",
            "Warning: non-ASCII input corpus detected!\n",
            "If this is not English, consider using one of our multilingual models such as summertime.model.multilingual.MBartModel .\n",
            "Supported language 'el' detected.\n",
            "Warning: non-ASCII input corpus detected!\n",
            "If this is not English, consider using one of our multilingual models such as summertime.model.multilingual.MBartModel .\n",
            "Supported language 'el' detected.\n",
            "Warning: non-ASCII input corpus detected!\n",
            "If this is not English, consider using one of our multilingual models such as summertime.model.multilingual.MBartModel .\n",
            "Supported language 'el' detected.\n",
            "Warning: non-ASCII input corpus detected!\n",
            "If this is not English, consider using one of our multilingual models such as summertime.model.multilingual.MBartModel .\n",
            "Supported language 'el' detected.\n",
            "Warning: non-ASCII input corpus detected!\n",
            "If this is not English, consider using one of our multilingual models such as summertime.model.multilingual.MBartModel .\n",
            "Supported language 'el' detected.\n",
            "Warning: non-ASCII input corpus detected!\n",
            "If this is not English, consider using one of our multilingual models such as summertime.model.multilingual.MBartModel .\n",
            "Supported language 'el' detected.\n"
          ]
        }
      ]
    },
    {
      "cell_type": "code",
      "source": [
        "!zip -r /content/Greek_MT5.zip /content/Greek/output_mt5/"
      ],
      "metadata": {
        "colab": {
          "base_uri": "https://localhost:8080/"
        },
        "id": "jexG7V8Hz2ki",
        "outputId": "bef0d813-307c-467a-f168-f1ebdd917fca"
      },
      "execution_count": null,
      "outputs": [
        {
          "output_type": "stream",
          "name": "stdout",
          "text": [
            "  adding: content/Greek/output_mt5/ (stored 0%)\n",
            "  adding: content/Greek/output_mt5/29_LIPI.txt (stored 0%)\n",
            "  adding: content/Greek/output_mt5/226_LIPI.txt (deflated 2%)\n",
            "  adding: content/Greek/output_mt5/113_LIPI.txt (deflated 8%)\n",
            "  adding: content/Greek/output_mt5/263_LIPI.txt (deflated 3%)\n",
            "  adding: content/Greek/output_mt5/152_LIPI.txt (stored 0%)\n",
            "  adding: content/Greek/output_mt5/273_LIPI.txt (stored 0%)\n",
            "  adding: content/Greek/output_mt5/64_LIPI.txt (deflated 13%)\n",
            "  adding: content/Greek/output_mt5/171_LIPI.txt (deflated 3%)\n",
            "  adding: content/Greek/output_mt5/160_LIPI.txt (stored 0%)\n",
            "  adding: content/Greek/output_mt5/15_LIPI.txt (stored 0%)\n",
            "  adding: content/Greek/output_mt5/163_LIPI.txt (stored 0%)\n",
            "  adding: content/Greek/output_mt5/198_LIPI.txt (stored 0%)\n",
            "  adding: content/Greek/output_mt5/229_LIPI.txt (stored 0%)\n",
            "  adding: content/Greek/output_mt5/78_LIPI.txt (stored 0%)\n",
            "  adding: content/Greek/output_mt5/104_LIPI.txt (stored 0%)\n",
            "  adding: content/Greek/output_mt5/129_LIPI.txt (stored 0%)\n",
            "  adding: content/Greek/output_mt5/109_LIPI.txt (stored 0%)\n",
            "  adding: content/Greek/output_mt5/87_LIPI.txt (stored 0%)\n",
            "  adding: content/Greek/output_mt5/119_LIPI.txt (stored 0%)\n",
            "  adding: content/Greek/output_mt5/94_LIPI.txt (stored 0%)\n",
            "  adding: content/Greek/output_mt5/75_LIPI.txt (stored 0%)\n",
            "  adding: content/Greek/output_mt5/56_LIPI.txt (stored 0%)\n",
            "  adding: content/Greek/output_mt5/58_LIPI.txt (deflated 25%)\n",
            "  adding: content/Greek/output_mt5/42_LIPI.txt (stored 0%)\n",
            "  adding: content/Greek/output_mt5/9_LIPI.txt (stored 0%)\n",
            "  adding: content/Greek/output_mt5/187_LIPI.txt (stored 0%)\n",
            "  adding: content/Greek/output_mt5/256_LIPI.txt (stored 0%)\n",
            "  adding: content/Greek/output_mt5/240_LIPI.txt (stored 0%)\n",
            "  adding: content/Greek/output_mt5/82_LIPI.txt (deflated 2%)\n",
            "  adding: content/Greek/output_mt5/130_LIPI.txt (stored 0%)\n",
            "  adding: content/Greek/output_mt5/230_LIPI.txt (stored 0%)\n",
            "  adding: content/Greek/output_mt5/135_LIPI.txt (stored 0%)\n",
            "  adding: content/Greek/output_mt5/4_LIPI.txt (stored 0%)\n",
            "  adding: content/Greek/output_mt5/168_LIPI.txt (stored 0%)\n",
            "  adding: content/Greek/output_mt5/76_LIPI.txt (stored 0%)\n",
            "  adding: content/Greek/output_mt5/118_LIPI.txt (stored 0%)\n",
            "  adding: content/Greek/output_mt5/264_LIPI.txt (stored 0%)\n",
            "  adding: content/Greek/output_mt5/271_LIPI.txt (stored 0%)\n",
            "  adding: content/Greek/output_mt5/142_LIPI.txt (stored 0%)\n",
            "  adding: content/Greek/output_mt5/174_LIPI.txt (stored 0%)\n",
            "  adding: content/Greek/output_mt5/63_LIPI.txt (stored 0%)\n",
            "  adding: content/Greek/output_mt5/11_LIPI.txt (stored 0%)\n",
            "  adding: content/Greek/output_mt5/252_LIPI.txt (stored 0%)\n",
            "  adding: content/Greek/output_mt5/269_LIPI.txt (stored 0%)\n",
            "  adding: content/Greek/output_mt5/185_LIPI.txt (stored 0%)\n",
            "  adding: content/Greek/output_mt5/225_LIPI.txt (stored 0%)\n",
            "  adding: content/Greek/output_mt5/23_LIPI.txt (stored 0%)\n",
            "  adding: content/Greek/output_mt5/22_LIPI.txt (stored 0%)\n",
            "  adding: content/Greek/output_mt5/79_LIPI.txt (stored 0%)\n",
            "  adding: content/Greek/output_mt5/3_LIPI.txt (stored 0%)\n"
          ]
        }
      ]
    }
  ]
}