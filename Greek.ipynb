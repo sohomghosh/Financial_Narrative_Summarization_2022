{
  "nbformat": 4,
  "nbformat_minor": 0,
  "metadata": {
    "colab": {
      "name": "Greek.ipynb",
      "provenance": [],
      "collapsed_sections": [],
      "authorship_tag": "ABX9TyOpN1VtovFeg/UmlKY3rRJz",
      "include_colab_link": true
    },
    "kernelspec": {
      "name": "python3",
      "display_name": "Python 3"
    },
    "language_info": {
      "name": "python"
    }
  },
  "cells": [
    {
      "cell_type": "markdown",
      "metadata": {
        "id": "view-in-github",
        "colab_type": "text"
      },
      "source": [
        "<a href=\"https://colab.research.google.com/github/sohomghosh/Financial_Narrative_Summarization_2022/blob/main/Greek.ipynb\" target=\"_parent\"><img src=\"https://colab.research.google.com/assets/colab-badge.svg\" alt=\"Open In Colab\"/></a>"
      ]
    },
    {
      "cell_type": "code",
      "execution_count": null,
      "metadata": {
        "id": "1d0efM5bCyA4"
      },
      "outputs": [],
      "source": [
        "!mkdir /content/Greek_test/"
      ]
    },
    {
      "cell_type": "code",
      "source": [
        "!tar -xvzf /content/testing.tar.gz -C /content/Greek_test/"
      ],
      "metadata": {
        "id": "JgvU2kAQDq0H"
      },
      "execution_count": null,
      "outputs": []
    },
    {
      "cell_type": "code",
      "source": [
        "!pip install lexrank"
      ],
      "metadata": {
        "colab": {
          "base_uri": "https://localhost:8080/"
        },
        "id": "HtEI1241ESDD",
        "outputId": "f6fdbaaf-0a67-4804-a4ca-3d1350dc81e2"
      },
      "execution_count": null,
      "outputs": [
        {
          "output_type": "stream",
          "name": "stdout",
          "text": [
            "Collecting lexrank\n",
            "  Downloading lexrank-0.1.0-py3-none-any.whl (69 kB)\n",
            "\u001b[?25l\r\u001b[K     |████▊                           | 10 kB 25.4 MB/s eta 0:00:01\r\u001b[K     |█████████▍                      | 20 kB 12.8 MB/s eta 0:00:01\r\u001b[K     |██████████████                  | 30 kB 9.1 MB/s eta 0:00:01\r\u001b[K     |██████████████████▊             | 40 kB 3.8 MB/s eta 0:00:01\r\u001b[K     |███████████████████████▌        | 51 kB 3.8 MB/s eta 0:00:01\r\u001b[K     |████████████████████████████▏   | 61 kB 4.4 MB/s eta 0:00:01\r\u001b[K     |████████████████████████████████| 69 kB 3.0 MB/s \n",
            "\u001b[?25hRequirement already satisfied: regex>=2017.11.9 in /usr/local/lib/python3.7/dist-packages (from lexrank) (2019.12.20)\n",
            "Requirement already satisfied: scipy>=0.19.0 in /usr/local/lib/python3.7/dist-packages (from lexrank) (1.4.1)\n",
            "Collecting path.py>=10.5\n",
            "  Downloading path.py-12.5.0-py3-none-any.whl (2.3 kB)\n",
            "Collecting urlextract>=0.7\n",
            "  Downloading urlextract-1.5.0-py3-none-any.whl (20 kB)\n",
            "Requirement already satisfied: pyrsistent>=0.14.0 in /usr/local/lib/python3.7/dist-packages (from lexrank) (0.18.1)\n",
            "Requirement already satisfied: numpy>=1.13.3 in /usr/local/lib/python3.7/dist-packages (from lexrank) (1.21.5)\n",
            "Collecting path\n",
            "  Downloading path-16.4.0-py3-none-any.whl (26 kB)\n",
            "Requirement already satisfied: filelock in /usr/local/lib/python3.7/dist-packages (from urlextract>=0.7->lexrank) (3.6.0)\n",
            "Requirement already satisfied: idna in /usr/local/lib/python3.7/dist-packages (from urlextract>=0.7->lexrank) (2.10)\n",
            "Collecting uritools\n",
            "  Downloading uritools-4.0.0-py3-none-any.whl (10 kB)\n",
            "Collecting platformdirs\n",
            "  Downloading platformdirs-2.5.1-py3-none-any.whl (14 kB)\n",
            "Installing collected packages: uritools, platformdirs, path, urlextract, path.py, lexrank\n",
            "Successfully installed lexrank-0.1.0 path-16.4.0 path.py-12.5.0 platformdirs-2.5.1 uritools-4.0.0 urlextract-1.5.0\n"
          ]
        }
      ]
    },
    {
      "cell_type": "code",
      "source": [
        "!pip install pytextrank"
      ],
      "metadata": {
        "colab": {
          "base_uri": "https://localhost:8080/",
          "height": 1000
        },
        "id": "xWHWGbDFEX8z",
        "outputId": "5367724c-920b-4d58-b7f0-4ee9dee2c909"
      },
      "execution_count": null,
      "outputs": [
        {
          "output_type": "stream",
          "name": "stdout",
          "text": [
            "Collecting pytextrank\n",
            "  Downloading pytextrank-3.2.3-py3-none-any.whl (30 kB)\n",
            "Collecting spacy>=3.0\n",
            "  Downloading spacy-3.2.4-cp37-cp37m-manylinux_2_17_x86_64.manylinux2014_x86_64.whl (6.0 MB)\n",
            "\u001b[K     |████████████████████████████████| 6.0 MB 6.8 MB/s \n",
            "\u001b[?25hCollecting pygments>=2.7.4\n",
            "  Downloading Pygments-2.11.2-py3-none-any.whl (1.1 MB)\n",
            "\u001b[K     |████████████████████████████████| 1.1 MB 60.2 MB/s \n",
            "\u001b[?25hCollecting icecream>=2.1\n",
            "  Downloading icecream-2.1.2-py2.py3-none-any.whl (8.3 kB)\n",
            "Collecting graphviz>=0.13\n",
            "  Downloading graphviz-0.19.1-py3-none-any.whl (46 kB)\n",
            "\u001b[K     |████████████████████████████████| 46 kB 3.0 MB/s \n",
            "\u001b[?25hRequirement already satisfied: networkx[default]>=2.6 in /usr/local/lib/python3.7/dist-packages (from pytextrank) (2.6.3)\n",
            "Collecting scipy>=1.7\n",
            "  Downloading scipy-1.7.3-cp37-cp37m-manylinux_2_12_x86_64.manylinux2010_x86_64.whl (38.1 MB)\n",
            "\u001b[K     |████████████████████████████████| 38.1 MB 256 kB/s \n",
            "\u001b[?25hCollecting colorama>=0.3.9\n",
            "  Downloading colorama-0.4.4-py2.py3-none-any.whl (16 kB)\n",
            "Collecting asttokens>=2.0.1\n",
            "  Downloading asttokens-2.0.5-py2.py3-none-any.whl (20 kB)\n",
            "Collecting executing>=0.3.1\n",
            "  Downloading executing-0.8.3-py2.py3-none-any.whl (16 kB)\n",
            "Requirement already satisfied: six in /usr/local/lib/python3.7/dist-packages (from asttokens>=2.0.1->icecream>=2.1->pytextrank) (1.15.0)\n",
            "Requirement already satisfied: pandas>=1.1 in /usr/local/lib/python3.7/dist-packages (from networkx[default]>=2.6->pytextrank) (1.3.5)\n",
            "Collecting matplotlib>=3.3\n",
            "  Downloading matplotlib-3.5.1-cp37-cp37m-manylinux_2_5_x86_64.manylinux1_x86_64.whl (11.2 MB)\n",
            "\u001b[K     |████████████████████████████████| 11.2 MB 49.9 MB/s \n",
            "\u001b[?25hRequirement already satisfied: numpy>=1.19 in /usr/local/lib/python3.7/dist-packages (from networkx[default]>=2.6->pytextrank) (1.21.5)\n",
            "Requirement already satisfied: cycler>=0.10 in /usr/local/lib/python3.7/dist-packages (from matplotlib>=3.3->networkx[default]>=2.6->pytextrank) (0.11.0)\n",
            "Requirement already satisfied: pillow>=6.2.0 in /usr/local/lib/python3.7/dist-packages (from matplotlib>=3.3->networkx[default]>=2.6->pytextrank) (7.1.2)\n",
            "Collecting fonttools>=4.22.0\n",
            "  Downloading fonttools-4.31.2-py3-none-any.whl (899 kB)\n",
            "\u001b[K     |████████████████████████████████| 899 kB 47.9 MB/s \n",
            "\u001b[?25hRequirement already satisfied: packaging>=20.0 in /usr/local/lib/python3.7/dist-packages (from matplotlib>=3.3->networkx[default]>=2.6->pytextrank) (21.3)\n",
            "Requirement already satisfied: kiwisolver>=1.0.1 in /usr/local/lib/python3.7/dist-packages (from matplotlib>=3.3->networkx[default]>=2.6->pytextrank) (1.4.0)\n",
            "Requirement already satisfied: pyparsing>=2.2.1 in /usr/local/lib/python3.7/dist-packages (from matplotlib>=3.3->networkx[default]>=2.6->pytextrank) (3.0.7)\n",
            "Requirement already satisfied: python-dateutil>=2.7 in /usr/local/lib/python3.7/dist-packages (from matplotlib>=3.3->networkx[default]>=2.6->pytextrank) (2.8.2)\n",
            "Requirement already satisfied: typing-extensions in /usr/local/lib/python3.7/dist-packages (from kiwisolver>=1.0.1->matplotlib>=3.3->networkx[default]>=2.6->pytextrank) (3.10.0.2)\n",
            "Requirement already satisfied: pytz>=2017.3 in /usr/local/lib/python3.7/dist-packages (from pandas>=1.1->networkx[default]>=2.6->pytextrank) (2018.9)\n",
            "Collecting srsly<3.0.0,>=2.4.1\n",
            "  Downloading srsly-2.4.2-cp37-cp37m-manylinux_2_17_x86_64.manylinux2014_x86_64.whl (451 kB)\n",
            "\u001b[K     |████████████████████████████████| 451 kB 42.7 MB/s \n",
            "\u001b[?25hRequirement already satisfied: setuptools in /usr/local/lib/python3.7/dist-packages (from spacy>=3.0->pytextrank) (57.4.0)\n",
            "Collecting pathy>=0.3.5\n",
            "  Downloading pathy-0.6.1-py3-none-any.whl (42 kB)\n",
            "\u001b[K     |████████████████████████████████| 42 kB 1.3 MB/s \n",
            "\u001b[?25hRequirement already satisfied: blis<0.8.0,>=0.4.0 in /usr/local/lib/python3.7/dist-packages (from spacy>=3.0->pytextrank) (0.4.1)\n",
            "Collecting pydantic!=1.8,!=1.8.1,<1.9.0,>=1.7.4\n",
            "  Downloading pydantic-1.8.2-cp37-cp37m-manylinux2014_x86_64.whl (10.1 MB)\n",
            "\u001b[K     |████████████████████████████████| 10.1 MB 39.9 MB/s \n",
            "\u001b[?25hCollecting catalogue<2.1.0,>=2.0.6\n",
            "  Downloading catalogue-2.0.7-py3-none-any.whl (17 kB)\n",
            "Collecting thinc<8.1.0,>=8.0.12\n",
            "  Downloading thinc-8.0.15-cp37-cp37m-manylinux_2_17_x86_64.manylinux2014_x86_64.whl (653 kB)\n",
            "\u001b[K     |████████████████████████████████| 653 kB 52.3 MB/s \n",
            "\u001b[?25hRequirement already satisfied: tqdm<5.0.0,>=4.38.0 in /usr/local/lib/python3.7/dist-packages (from spacy>=3.0->pytextrank) (4.63.0)\n",
            "Requirement already satisfied: requests<3.0.0,>=2.13.0 in /usr/local/lib/python3.7/dist-packages (from spacy>=3.0->pytextrank) (2.23.0)\n",
            "Collecting typer<0.5.0,>=0.3.0\n",
            "  Downloading typer-0.4.1-py3-none-any.whl (27 kB)\n",
            "Requirement already satisfied: preshed<3.1.0,>=3.0.2 in /usr/local/lib/python3.7/dist-packages (from spacy>=3.0->pytextrank) (3.0.6)\n",
            "Requirement already satisfied: murmurhash<1.1.0,>=0.28.0 in /usr/local/lib/python3.7/dist-packages (from spacy>=3.0->pytextrank) (1.0.6)\n",
            "Requirement already satisfied: cymem<2.1.0,>=2.0.2 in /usr/local/lib/python3.7/dist-packages (from spacy>=3.0->pytextrank) (2.0.6)\n",
            "Requirement already satisfied: jinja2 in /usr/local/lib/python3.7/dist-packages (from spacy>=3.0->pytextrank) (2.11.3)\n",
            "Requirement already satisfied: click<8.1.0 in /usr/local/lib/python3.7/dist-packages (from spacy>=3.0->pytextrank) (7.1.2)\n",
            "Requirement already satisfied: wasabi<1.1.0,>=0.8.1 in /usr/local/lib/python3.7/dist-packages (from spacy>=3.0->pytextrank) (0.9.0)\n",
            "Collecting spacy-legacy<3.1.0,>=3.0.8\n",
            "  Downloading spacy_legacy-3.0.9-py2.py3-none-any.whl (20 kB)\n",
            "Collecting spacy-loggers<2.0.0,>=1.0.0\n",
            "  Downloading spacy_loggers-1.0.2-py3-none-any.whl (7.2 kB)\n",
            "Collecting langcodes<4.0.0,>=3.2.0\n",
            "  Downloading langcodes-3.3.0-py3-none-any.whl (181 kB)\n",
            "\u001b[K     |████████████████████████████████| 181 kB 54.3 MB/s \n",
            "\u001b[?25hRequirement already satisfied: zipp>=0.5 in /usr/local/lib/python3.7/dist-packages (from catalogue<2.1.0,>=2.0.6->spacy>=3.0->pytextrank) (3.7.0)\n",
            "Requirement already satisfied: smart-open<6.0.0,>=5.0.0 in /usr/local/lib/python3.7/dist-packages (from pathy>=0.3.5->spacy>=3.0->pytextrank) (5.2.1)\n",
            "Requirement already satisfied: chardet<4,>=3.0.2 in /usr/local/lib/python3.7/dist-packages (from requests<3.0.0,>=2.13.0->spacy>=3.0->pytextrank) (3.0.4)\n",
            "Requirement already satisfied: certifi>=2017.4.17 in /usr/local/lib/python3.7/dist-packages (from requests<3.0.0,>=2.13.0->spacy>=3.0->pytextrank) (2021.10.8)\n",
            "Requirement already satisfied: idna<3,>=2.5 in /usr/local/lib/python3.7/dist-packages (from requests<3.0.0,>=2.13.0->spacy>=3.0->pytextrank) (2.10)\n",
            "Requirement already satisfied: urllib3!=1.25.0,!=1.25.1,<1.26,>=1.21.1 in /usr/local/lib/python3.7/dist-packages (from requests<3.0.0,>=2.13.0->spacy>=3.0->pytextrank) (1.24.3)\n",
            "Requirement already satisfied: MarkupSafe>=0.23 in /usr/local/lib/python3.7/dist-packages (from jinja2->spacy>=3.0->pytextrank) (2.0.1)\n",
            "Installing collected packages: catalogue, typer, srsly, pydantic, fonttools, thinc, spacy-loggers, spacy-legacy, scipy, pygments, pathy, matplotlib, langcodes, executing, colorama, asttokens, spacy, icecream, graphviz, pytextrank\n",
            "  Attempting uninstall: catalogue\n",
            "    Found existing installation: catalogue 1.0.0\n",
            "    Uninstalling catalogue-1.0.0:\n",
            "      Successfully uninstalled catalogue-1.0.0\n",
            "  Attempting uninstall: srsly\n",
            "    Found existing installation: srsly 1.0.5\n",
            "    Uninstalling srsly-1.0.5:\n",
            "      Successfully uninstalled srsly-1.0.5\n",
            "  Attempting uninstall: thinc\n",
            "    Found existing installation: thinc 7.4.0\n",
            "    Uninstalling thinc-7.4.0:\n",
            "      Successfully uninstalled thinc-7.4.0\n",
            "  Attempting uninstall: scipy\n",
            "    Found existing installation: scipy 1.4.1\n",
            "    Uninstalling scipy-1.4.1:\n",
            "      Successfully uninstalled scipy-1.4.1\n",
            "  Attempting uninstall: pygments\n",
            "    Found existing installation: Pygments 2.6.1\n",
            "    Uninstalling Pygments-2.6.1:\n",
            "      Successfully uninstalled Pygments-2.6.1\n",
            "  Attempting uninstall: matplotlib\n",
            "    Found existing installation: matplotlib 3.2.2\n",
            "    Uninstalling matplotlib-3.2.2:\n",
            "      Successfully uninstalled matplotlib-3.2.2\n",
            "  Attempting uninstall: spacy\n",
            "    Found existing installation: spacy 2.2.4\n",
            "    Uninstalling spacy-2.2.4:\n",
            "      Successfully uninstalled spacy-2.2.4\n",
            "  Attempting uninstall: graphviz\n",
            "    Found existing installation: graphviz 0.10.1\n",
            "    Uninstalling graphviz-0.10.1:\n",
            "      Successfully uninstalled graphviz-0.10.1\n",
            "\u001b[31mERROR: pip's dependency resolver does not currently take into account all the packages that are installed. This behaviour is the source of the following dependency conflicts.\n",
            "datascience 0.10.6 requires folium==0.2.1, but you have folium 0.8.3 which is incompatible.\n",
            "albumentations 0.1.12 requires imgaug<0.2.7,>=0.2.5, but you have imgaug 0.2.9 which is incompatible.\u001b[0m\n",
            "Successfully installed asttokens-2.0.5 catalogue-2.0.7 colorama-0.4.4 executing-0.8.3 fonttools-4.31.2 graphviz-0.19.1 icecream-2.1.2 langcodes-3.3.0 matplotlib-3.5.1 pathy-0.6.1 pydantic-1.8.2 pygments-2.11.2 pytextrank-3.2.3 scipy-1.7.3 spacy-3.2.4 spacy-legacy-3.0.9 spacy-loggers-1.0.2 srsly-2.4.2 thinc-8.0.15 typer-0.4.1\n"
          ]
        },
        {
          "output_type": "display_data",
          "data": {
            "application/vnd.colab-display-data+json": {
              "pip_warning": {
                "packages": [
                  "matplotlib",
                  "mpl_toolkits",
                  "pygments"
                ]
              }
            }
          },
          "metadata": {}
        }
      ]
    },
    {
      "cell_type": "code",
      "source": [
        "from lexrank import STOPWORDS, LexRank"
      ],
      "metadata": {
        "id": "zaUElwLoEeeX"
      },
      "execution_count": null,
      "outputs": []
    },
    {
      "cell_type": "code",
      "source": [
        "import os"
      ],
      "metadata": {
        "id": "v8_CIOhvHfLx"
      },
      "execution_count": null,
      "outputs": []
    },
    {
      "cell_type": "code",
      "source": [
        "test_greek = []\n",
        "id = []\n",
        "for file in os.listdir('/content/Greek_test/testing/annual_reports/'):\n",
        "  content = open('/content/Greek_test/testing/annual_reports/' + file, 'r').read()\n",
        "  id.append(file.replace('.txt', ''))\n",
        "  test_greek.append(content)"
      ],
      "metadata": {
        "id": "1_rd2hGfHcJp"
      },
      "execution_count": null,
      "outputs": []
    },
    {
      "cell_type": "code",
      "source": [
        "len(test_greek), len(id)"
      ],
      "metadata": {
        "colab": {
          "base_uri": "https://localhost:8080/"
        },
        "id": "4NLHRUSbGXJs",
        "outputId": "b598d6a9-77fb-47ba-b662-acb3ea4b303e"
      },
      "execution_count": null,
      "outputs": [
        {
          "output_type": "execute_result",
          "data": {
            "text/plain": [
              "(50, 50)"
            ]
          },
          "metadata": {},
          "execution_count": 23
        }
      ]
    },
    {
      "cell_type": "code",
      "source": [
        "id"
      ],
      "metadata": {
        "colab": {
          "base_uri": "https://localhost:8080/"
        },
        "id": "w7qLI2B1KJje",
        "outputId": "5eb28f19-af4e-4850-ba98-54a89ce5f7b7"
      },
      "execution_count": null,
      "outputs": [
        {
          "output_type": "execute_result",
          "data": {
            "text/plain": [
              "['240',\n",
              " '225',\n",
              " '64',\n",
              " '118',\n",
              " '76',\n",
              " '263',\n",
              " '269',\n",
              " '78',\n",
              " '168',\n",
              " '171',\n",
              " '11',\n",
              " '174',\n",
              " '230',\n",
              " '82',\n",
              " '87',\n",
              " '185',\n",
              " '187',\n",
              " '22',\n",
              " '226',\n",
              " '42',\n",
              " '160',\n",
              " '135',\n",
              " '94',\n",
              " '273',\n",
              " '75',\n",
              " '4',\n",
              " '23',\n",
              " '109',\n",
              " '15',\n",
              " '113',\n",
              " '3',\n",
              " '152',\n",
              " '130',\n",
              " '9',\n",
              " '252',\n",
              " '56',\n",
              " '119',\n",
              " '264',\n",
              " '229',\n",
              " '79',\n",
              " '271',\n",
              " '142',\n",
              " '58',\n",
              " '29',\n",
              " '129',\n",
              " '63',\n",
              " '198',\n",
              " '163',\n",
              " '256',\n",
              " '104']"
            ]
          },
          "metadata": {},
          "execution_count": 27
        }
      ]
    },
    {
      "cell_type": "code",
      "source": [
        "test_greek"
      ],
      "metadata": {
        "id": "U2HoMtdxHFGA"
      },
      "execution_count": null,
      "outputs": []
    },
    {
      "cell_type": "code",
      "source": [
        "documents = test_greek\n",
        "lxr = LexRank(documents, stopwords=STOPWORDS['el'])"
      ],
      "metadata": {
        "id": "nwL9LCnNEjgN"
      },
      "execution_count": null,
      "outputs": []
    },
    {
      "cell_type": "code",
      "source": [
        "!python -m spacy download el_core_news_md"
      ],
      "metadata": {
        "colab": {
          "base_uri": "https://localhost:8080/"
        },
        "id": "PXXsp6slEl9f",
        "outputId": "c98590a9-98bf-4eb7-8010-0d7274e20266"
      },
      "execution_count": null,
      "outputs": [
        {
          "output_type": "stream",
          "name": "stdout",
          "text": [
            "Collecting el-core-news-md==3.2.0\n",
            "  Downloading https://github.com/explosion/spacy-models/releases/download/el_core_news_md-3.2.0/el_core_news_md-3.2.0-py3-none-any.whl (44.2 MB)\n",
            "\u001b[K     |████████████████████████████████| 44.2 MB 506 kB/s \n",
            "\u001b[?25hRequirement already satisfied: spacy<3.3.0,>=3.2.0 in /usr/local/lib/python3.7/dist-packages (from el-core-news-md==3.2.0) (3.2.4)\n",
            "Requirement already satisfied: jinja2 in /usr/local/lib/python3.7/dist-packages (from spacy<3.3.0,>=3.2.0->el-core-news-md==3.2.0) (2.11.3)\n",
            "Requirement already satisfied: numpy>=1.15.0 in /usr/local/lib/python3.7/dist-packages (from spacy<3.3.0,>=3.2.0->el-core-news-md==3.2.0) (1.21.5)\n",
            "Requirement already satisfied: typing-extensions<4.0.0.0,>=3.7.4 in /usr/local/lib/python3.7/dist-packages (from spacy<3.3.0,>=3.2.0->el-core-news-md==3.2.0) (3.10.0.2)\n",
            "Requirement already satisfied: pathy>=0.3.5 in /usr/local/lib/python3.7/dist-packages (from spacy<3.3.0,>=3.2.0->el-core-news-md==3.2.0) (0.6.1)\n",
            "Requirement already satisfied: blis<0.8.0,>=0.4.0 in /usr/local/lib/python3.7/dist-packages (from spacy<3.3.0,>=3.2.0->el-core-news-md==3.2.0) (0.4.1)\n",
            "Requirement already satisfied: spacy-legacy<3.1.0,>=3.0.8 in /usr/local/lib/python3.7/dist-packages (from spacy<3.3.0,>=3.2.0->el-core-news-md==3.2.0) (3.0.9)\n",
            "Requirement already satisfied: murmurhash<1.1.0,>=0.28.0 in /usr/local/lib/python3.7/dist-packages (from spacy<3.3.0,>=3.2.0->el-core-news-md==3.2.0) (1.0.6)\n",
            "Requirement already satisfied: langcodes<4.0.0,>=3.2.0 in /usr/local/lib/python3.7/dist-packages (from spacy<3.3.0,>=3.2.0->el-core-news-md==3.2.0) (3.3.0)\n",
            "Requirement already satisfied: pydantic!=1.8,!=1.8.1,<1.9.0,>=1.7.4 in /usr/local/lib/python3.7/dist-packages (from spacy<3.3.0,>=3.2.0->el-core-news-md==3.2.0) (1.8.2)\n",
            "Requirement already satisfied: preshed<3.1.0,>=3.0.2 in /usr/local/lib/python3.7/dist-packages (from spacy<3.3.0,>=3.2.0->el-core-news-md==3.2.0) (3.0.6)\n",
            "Requirement already satisfied: thinc<8.1.0,>=8.0.12 in /usr/local/lib/python3.7/dist-packages (from spacy<3.3.0,>=3.2.0->el-core-news-md==3.2.0) (8.0.15)\n",
            "Requirement already satisfied: cymem<2.1.0,>=2.0.2 in /usr/local/lib/python3.7/dist-packages (from spacy<3.3.0,>=3.2.0->el-core-news-md==3.2.0) (2.0.6)\n",
            "Requirement already satisfied: wasabi<1.1.0,>=0.8.1 in /usr/local/lib/python3.7/dist-packages (from spacy<3.3.0,>=3.2.0->el-core-news-md==3.2.0) (0.9.0)\n",
            "Requirement already satisfied: spacy-loggers<2.0.0,>=1.0.0 in /usr/local/lib/python3.7/dist-packages (from spacy<3.3.0,>=3.2.0->el-core-news-md==3.2.0) (1.0.2)\n",
            "Requirement already satisfied: packaging>=20.0 in /usr/local/lib/python3.7/dist-packages (from spacy<3.3.0,>=3.2.0->el-core-news-md==3.2.0) (21.3)\n",
            "Requirement already satisfied: click<8.1.0 in /usr/local/lib/python3.7/dist-packages (from spacy<3.3.0,>=3.2.0->el-core-news-md==3.2.0) (7.1.2)\n",
            "Requirement already satisfied: srsly<3.0.0,>=2.4.1 in /usr/local/lib/python3.7/dist-packages (from spacy<3.3.0,>=3.2.0->el-core-news-md==3.2.0) (2.4.2)\n",
            "Requirement already satisfied: requests<3.0.0,>=2.13.0 in /usr/local/lib/python3.7/dist-packages (from spacy<3.3.0,>=3.2.0->el-core-news-md==3.2.0) (2.23.0)\n",
            "Requirement already satisfied: setuptools in /usr/local/lib/python3.7/dist-packages (from spacy<3.3.0,>=3.2.0->el-core-news-md==3.2.0) (57.4.0)\n",
            "Requirement already satisfied: catalogue<2.1.0,>=2.0.6 in /usr/local/lib/python3.7/dist-packages (from spacy<3.3.0,>=3.2.0->el-core-news-md==3.2.0) (2.0.7)\n",
            "Requirement already satisfied: typer<0.5.0,>=0.3.0 in /usr/local/lib/python3.7/dist-packages (from spacy<3.3.0,>=3.2.0->el-core-news-md==3.2.0) (0.4.1)\n",
            "Requirement already satisfied: tqdm<5.0.0,>=4.38.0 in /usr/local/lib/python3.7/dist-packages (from spacy<3.3.0,>=3.2.0->el-core-news-md==3.2.0) (4.63.0)\n",
            "Requirement already satisfied: zipp>=0.5 in /usr/local/lib/python3.7/dist-packages (from catalogue<2.1.0,>=2.0.6->spacy<3.3.0,>=3.2.0->el-core-news-md==3.2.0) (3.7.0)\n",
            "Requirement already satisfied: pyparsing!=3.0.5,>=2.0.2 in /usr/local/lib/python3.7/dist-packages (from packaging>=20.0->spacy<3.3.0,>=3.2.0->el-core-news-md==3.2.0) (3.0.7)\n",
            "Requirement already satisfied: smart-open<6.0.0,>=5.0.0 in /usr/local/lib/python3.7/dist-packages (from pathy>=0.3.5->spacy<3.3.0,>=3.2.0->el-core-news-md==3.2.0) (5.2.1)\n",
            "Requirement already satisfied: idna<3,>=2.5 in /usr/local/lib/python3.7/dist-packages (from requests<3.0.0,>=2.13.0->spacy<3.3.0,>=3.2.0->el-core-news-md==3.2.0) (2.10)\n",
            "Requirement already satisfied: urllib3!=1.25.0,!=1.25.1,<1.26,>=1.21.1 in /usr/local/lib/python3.7/dist-packages (from requests<3.0.0,>=2.13.0->spacy<3.3.0,>=3.2.0->el-core-news-md==3.2.0) (1.24.3)\n",
            "Requirement already satisfied: chardet<4,>=3.0.2 in /usr/local/lib/python3.7/dist-packages (from requests<3.0.0,>=2.13.0->spacy<3.3.0,>=3.2.0->el-core-news-md==3.2.0) (3.0.4)\n",
            "Requirement already satisfied: certifi>=2017.4.17 in /usr/local/lib/python3.7/dist-packages (from requests<3.0.0,>=2.13.0->spacy<3.3.0,>=3.2.0->el-core-news-md==3.2.0) (2021.10.8)\n",
            "Requirement already satisfied: MarkupSafe>=0.23 in /usr/local/lib/python3.7/dist-packages (from jinja2->spacy<3.3.0,>=3.2.0->el-core-news-md==3.2.0) (2.0.1)\n",
            "Installing collected packages: el-core-news-md\n",
            "Successfully installed el-core-news-md-3.2.0\n",
            "\u001b[38;5;2m✔ Download and installation successful\u001b[0m\n",
            "You can now load the package via spacy.load('el_core_news_md')\n"
          ]
        }
      ]
    },
    {
      "cell_type": "code",
      "source": [
        "import spacy\n",
        "nlp = spacy.load(\"el_core_news_md\")\n",
        "nlp.max_length = 15000000"
      ],
      "metadata": {
        "id": "9t2Fx-OMDxWl"
      },
      "execution_count": null,
      "outputs": []
    },
    {
      "cell_type": "code",
      "source": [
        "def generate_final_summary(test_content):\n",
        "  doc = nlp(test_content, disable = ['ner'])\n",
        "  sentences = [sent.text for sent in doc.sents]\n",
        "  summary_cont = lxr.get_summary(sentences, threshold=None)\n",
        "  scores_cont = lxr.rank_sentences(sentences, threshold=None, fast_power_method=False,)\n",
        "  sums_lex_text_rank_sorted = ' '.join([x for y, x in sorted(zip(scores_cont, summary_cont),  reverse=True)])\n",
        "  final_summ = ' '.join(sums_lex_text_rank_sorted.split(' ')[:1000])\n",
        "  return  final_summ"
      ],
      "metadata": {
        "id": "1-gEta_DE3aw"
      },
      "execution_count": null,
      "outputs": []
    },
    {
      "cell_type": "code",
      "source": [
        "!mkdir /content/Greek/"
      ],
      "metadata": {
        "id": "-V6dbS2qJr4O"
      },
      "execution_count": null,
      "outputs": []
    },
    {
      "cell_type": "code",
      "source": [
        "for test_greek_con, ind_id in zip(test_greek, id):\n",
        "  summ = generate_final_summary(test_greek_con)\n",
        "  open('/content/Greek/' + str(ind_id) + '_LIPI.txt', 'w').write(summ)"
      ],
      "metadata": {
        "id": "WFF2Z_h-JMzR"
      },
      "execution_count": null,
      "outputs": []
    },
    {
      "cell_type": "code",
      "source": [
        "!zip -r test_greek_score.zip /content/Greek/"
      ],
      "metadata": {
        "colab": {
          "base_uri": "https://localhost:8080/"
        },
        "id": "2sHSyTXBMngF",
        "outputId": "88f96ec5-28d4-4628-a6eb-84a67dc10e29"
      },
      "execution_count": null,
      "outputs": [
        {
          "output_type": "stream",
          "name": "stdout",
          "text": [
            "  adding: content/Greek/ (stored 0%)\n",
            "  adding: content/Greek/118_LIPI.txt (deflated 55%)\n",
            "  adding: content/Greek/187_LIPI.txt (deflated 49%)\n",
            "  adding: content/Greek/264_LIPI.txt (deflated 58%)\n",
            "  adding: content/Greek/113_LIPI.txt (deflated 51%)\n",
            "  adding: content/Greek/78_LIPI.txt (deflated 62%)\n",
            "  adding: content/Greek/87_LIPI.txt (deflated 65%)\n",
            "  adding: content/Greek/104_LIPI.txt (deflated 56%)\n",
            "  adding: content/Greek/94_LIPI.txt (deflated 49%)\n",
            "  adding: content/Greek/226_LIPI.txt (deflated 54%)\n",
            "  adding: content/Greek/22_LIPI.txt (deflated 52%)\n",
            "  adding: content/Greek/168_LIPI.txt (deflated 44%)\n",
            "  adding: content/Greek/230_LIPI.txt (deflated 64%)\n",
            "  adding: content/Greek/79_LIPI.txt (deflated 50%)\n",
            "  adding: content/Greek/56_LIPI.txt (deflated 58%)\n",
            "  adding: content/Greek/229_LIPI.txt (deflated 57%)\n",
            "  adding: content/Greek/76_LIPI.txt (deflated 53%)\n",
            "  adding: content/Greek/225_LIPI.txt (deflated 56%)\n",
            "  adding: content/Greek/269_LIPI.txt (deflated 64%)\n",
            "  adding: content/Greek/171_LIPI.txt (deflated 52%)\n",
            "  adding: content/Greek/82_LIPI.txt (deflated 58%)\n",
            "  adding: content/Greek/198_LIPI.txt (deflated 52%)\n",
            "  adding: content/Greek/109_LIPI.txt (deflated 52%)\n",
            "  adding: content/Greek/9_LIPI.txt (deflated 50%)\n",
            "  adding: content/Greek/135_LIPI.txt (deflated 52%)\n",
            "  adding: content/Greek/130_LIPI.txt (deflated 55%)\n",
            "  adding: content/Greek/58_LIPI.txt (deflated 61%)\n",
            "  adding: content/Greek/160_LIPI.txt (deflated 60%)\n",
            "  adding: content/Greek/15_LIPI.txt (deflated 51%)\n",
            "  adding: content/Greek/263_LIPI.txt (deflated 52%)\n",
            "  adding: content/Greek/240_LIPI.txt (deflated 67%)\n",
            "  adding: content/Greek/64_LIPI.txt (deflated 50%)\n",
            "  adding: content/Greek/271_LIPI.txt (deflated 57%)\n",
            "  adding: content/Greek/142_LIPI.txt (deflated 51%)\n",
            "  adding: content/Greek/129_LIPI.txt (deflated 48%)\n",
            "  adding: content/Greek/3_LIPI.txt (deflated 50%)\n",
            "  adding: content/Greek/75_LIPI.txt (deflated 46%)\n",
            "  adding: content/Greek/185_LIPI.txt (deflated 50%)\n",
            "  adding: content/Greek/256_LIPI.txt (deflated 57%)\n",
            "  adding: content/Greek/42_LIPI.txt (deflated 60%)\n",
            "  adding: content/Greek/11_LIPI.txt (deflated 55%)\n",
            "  adding: content/Greek/273_LIPI.txt (deflated 47%)\n",
            "  adding: content/Greek/23_LIPI.txt (deflated 62%)\n",
            "  adding: content/Greek/163_LIPI.txt (deflated 51%)\n",
            "  adding: content/Greek/4_LIPI.txt (deflated 56%)\n",
            "  adding: content/Greek/63_LIPI.txt (deflated 59%)\n",
            "  adding: content/Greek/252_LIPI.txt (deflated 63%)\n",
            "  adding: content/Greek/29_LIPI.txt (deflated 69%)\n",
            "  adding: content/Greek/119_LIPI.txt (deflated 51%)\n",
            "  adding: content/Greek/174_LIPI.txt (deflated 58%)\n",
            "  adding: content/Greek/152_LIPI.txt (deflated 53%)\n"
          ]
        }
      ]
    }
  ]
}